{
 "cells": [
  {
   "cell_type": "code",
   "execution_count": 2,
   "id": "34432f71-c409-4a89-beb4-f9d0827be18b",
   "metadata": {},
   "outputs": [
    {
     "data": {
      "text/plain": [
       "3"
      ]
     },
     "execution_count": 2,
     "metadata": {},
     "output_type": "execute_result"
    }
   ],
   "source": [
    "def my_function(x, y):\n",
    "    return x + y\n",
    "\n",
    "result = my_function(1, 2)\n",
    "result"
   ]
  },
  {
   "cell_type": "code",
   "execution_count": 3,
   "id": "92ee75c1-fecd-4ad5-96e9-16befaf83b9c",
   "metadata": {},
   "outputs": [
    {
     "name": "stdout",
     "output_type": "stream",
     "text": [
      "hello\n"
     ]
    }
   ],
   "source": [
    "def function_without_return(x):\n",
    "    print(x)\n",
    "\n",
    "result = function_without_return(\"hello\")\n"
   ]
  },
  {
   "cell_type": "code",
   "execution_count": 4,
   "id": "5a563e5f-90ca-4122-87f1-275d11a6353b",
   "metadata": {},
   "outputs": [
    {
     "name": "stdout",
     "output_type": "stream",
     "text": [
      "None\n"
     ]
    }
   ],
   "source": [
    "print(result)"
   ]
  },
  {
   "cell_type": "code",
   "execution_count": 5,
   "id": "a02cc069-d1c5-45e7-9fd2-fca54ff32009",
   "metadata": {},
   "outputs": [
    {
     "data": {
      "text/plain": [
       "[0, 1, 2, 3, 4]"
      ]
     },
     "execution_count": 5,
     "metadata": {},
     "output_type": "execute_result"
    }
   ],
   "source": [
    "#局部变量和全局变量\n",
    "a = []\n",
    "def func():\n",
    "    for i in range(5):\n",
    "        a.append(i)\n",
    "func()\n",
    "a"
   ]
  },
  {
   "cell_type": "code",
   "execution_count": 6,
   "id": "11ae68df-4849-4cef-94c3-bd79529c0746",
   "metadata": {},
   "outputs": [
    {
     "data": {
      "text/plain": [
       "[0, 1, 2, 3, 4, 0, 1, 2, 3, 4]"
      ]
     },
     "execution_count": 6,
     "metadata": {},
     "output_type": "execute_result"
    }
   ],
   "source": [
    "func()\n",
    "a"
   ]
  },
  {
   "cell_type": "code",
   "execution_count": 7,
   "id": "a67efbdd-9a57-4bf7-a217-e08c73cc4d3d",
   "metadata": {},
   "outputs": [],
   "source": [
    "#每次调用func时都会重新插入到a列表中新的数列，可以对函数之外的变量赋值，但必须要用global或nonlocal关键字声明\n",
    "a = None\n",
    "def bind_a_variable():\n",
    "    global a\n",
    "    a = []\n",
    "    bind_a_variable()\n",
    "\n",
    "print(a)"
   ]
  },
  {
   "cell_type": "code",
   "execution_count": 10,
   "id": "11212fd6-a028-48c6-b41b-fce87dd1c2cb",
   "metadata": {},
   "outputs": [
    {
     "name": "stdout",
     "output_type": "stream",
     "text": [
      "5 6 7\n"
     ]
    }
   ],
   "source": [
    "def f():\n",
    "    a = 5\n",
    "    b = 6\n",
    "    c = 7\n",
    "    return a, b, c\n",
    "\n",
    "a, b, c = f()\n",
    "print(a,b,c)"
   ]
  },
  {
   "cell_type": "code",
   "execution_count": 11,
   "id": "542c1a3e-614b-4e71-b6c6-c641cd32e9e8",
   "metadata": {},
   "outputs": [
    {
     "name": "stdout",
     "output_type": "stream",
     "text": [
      "5 6 7\n"
     ]
    }
   ],
   "source": [
    "return_value = f()\n",
    "print(a, b, c)"
   ]
  },
  {
   "cell_type": "code",
   "execution_count": 12,
   "id": "03b9d933-8c78-439b-adbe-84c223032796",
   "metadata": {},
   "outputs": [
    {
     "name": "stdout",
     "output_type": "stream",
     "text": [
      "{'a': 5, 'b': 6, 'c': 7}\n"
     ]
    }
   ],
   "source": [
    "def f():\n",
    "    a = 5\n",
    "    b = 6\n",
    "    c = 7\n",
    "    return {\"a\": a, \"b\": b, \"c\": c}\n",
    "\n",
    "return_value = f()\n",
    "print(return_value)"
   ]
  },
  {
   "cell_type": "code",
   "execution_count": 16,
   "id": "98fa3168-fe81-49c1-82b4-8c5f90a6ac55",
   "metadata": {},
   "outputs": [
    {
     "data": {
      "text/plain": [
       "['Alabama',\n",
       " 'Georgia',\n",
       " 'Georgia',\n",
       " 'Georgia',\n",
       " 'Florida',\n",
       " 'South  Carolina',\n",
       " 'West Virginia']"
      ]
     },
     "execution_count": 16,
     "metadata": {},
     "output_type": "execute_result"
    }
   ],
   "source": [
    "states = [\"   Alabama \", \"Georgia!\", \"Georgia\", \"georgia\", \"FlOrIda\",\n",
    "          \"south  carolina##\", \"West virginia?\"]\n",
    "#数据清洗，使用py内置的字符串处理方法和正则表达式的re模块：\n",
    "import re\n",
    "def clean_strings(strings):\n",
    "    result = []\n",
    "    for value in strings:\n",
    "        value = value.strip()\n",
    "        value = re.sub(\"[!#?]\", \"\", value)\n",
    "        value = value.title()\n",
    "        result.append(value)\n",
    "    return result\n",
    "\n",
    "clean_strings(states)"
   ]
  },
  {
   "cell_type": "code",
   "execution_count": 17,
   "id": "b51d5d6e-6b8c-4c98-889a-2c1cccab4207",
   "metadata": {},
   "outputs": [
    {
     "data": {
      "text/plain": [
       "['Alabama',\n",
       " 'Georgia',\n",
       " 'Georgia',\n",
       " 'Georgia',\n",
       " 'Florida',\n",
       " 'South  Carolina',\n",
       " 'West Virginia']"
      ]
     },
     "execution_count": 17,
     "metadata": {},
     "output_type": "execute_result"
    }
   ],
   "source": [
    "#简化的方法，所有操作组合成一个列表\n",
    "def remove_punctuation(value):\n",
    "    return re.sub(\"[!#?]\", \"\", value)\n",
    "\n",
    "#strip函数，将每个字符串以行的形式排列（输出）\n",
    "clean_ops = [str.strip, remove_punctuation, str.title]\n",
    "\n",
    "#将列表中的每个字符都进行clean_ops列表中的操作，以达到清洗数据的目的\n",
    "def clean_strings(strings, ops):\n",
    "    result = []\n",
    "    for value in strings:\n",
    "        for func in ops:\n",
    "            value = func(value)\n",
    "        result.append(value)\n",
    "    return result\n",
    "\n",
    "clean_strings(states, clean_ops)"
   ]
  },
  {
   "cell_type": "code",
   "execution_count": 18,
   "id": "a38a340a-c486-4283-a94b-ab1f90a3471d",
   "metadata": {},
   "outputs": [
    {
     "name": "stdout",
     "output_type": "stream",
     "text": [
      "   Alabama \n",
      "Georgia\n",
      "Georgia\n",
      "georgia\n",
      "FlOrIda\n",
      "south  carolina\n",
      "West virginia\n"
     ]
    }
   ],
   "source": [
    "#map函数会将列表、数组有迭代性质的对象投入前面的函数中批量处理，并返回一个迭代器，包含所有处理的结果\n",
    "#map也可以作为不带过滤器的列表推导式\n",
    "for x in map(remove_punctuation, states):\n",
    "    print(x)"
   ]
  },
  {
   "cell_type": "code",
   "execution_count": 20,
   "id": "1487eb46-58b4-424a-9a81-3ddf46517682",
   "metadata": {},
   "outputs": [],
   "source": [
    "#匿名函数 lambda 匿名函数由单条语句组成，结果就是返回值\n",
    "def short_function(x):\n",
    "    return x * 2\n",
    "\n",
    "equiv_anon = lambda x: x * 2"
   ]
  },
  {
   "cell_type": "code",
   "execution_count": 21,
   "id": "bffcc13f-7215-4b70-9878-5863bbc558e8",
   "metadata": {},
   "outputs": [
    {
     "data": {
      "text/plain": [
       "[8, 0, 2, 10, 12]"
      ]
     },
     "execution_count": 21,
     "metadata": {},
     "output_type": "execute_result"
    }
   ],
   "source": [
    "def apply_to_list(some_list, f):\n",
    "    return [f(x) for x in some_list]\n",
    "\n",
    "ints = [4, 0, 1, 5, 6]\n",
    "\n",
    "apply_to_list(ints, lambda x: x * 2)"
   ]
  },
  {
   "cell_type": "code",
   "execution_count": 5,
   "id": "ee1b03e3-3a75-4d31-9daf-1df8053d3c21",
   "metadata": {},
   "outputs": [
    {
     "data": {
      "text/plain": [
       "['aaaa', 'foo', 'abab', 'bar', 'card']"
      ]
     },
     "execution_count": 5,
     "metadata": {},
     "output_type": "execute_result"
    }
   ],
   "source": [
    "#根据字符串中不同字母的数量进行排序  可以用sord的方法传入lambda函数\n",
    "strings = [\"foo\", \"card\", \"bar\", \"aaaa\", \"abab\"]\n",
    "strings.sort(key=lambda x: len(set(x)))\n",
    "strings"
   ]
  },
  {
   "cell_type": "markdown",
   "id": "f4f8593b-d930-44c0-87fa-8f51d3e152d6",
   "metadata": {},
   "source": [
    "lambda x: len(set(x)) 是一个匿名函数，接受一个参数x，并返回x的长度，set（x）是将x转化为一个集合\n",
    "去除重复字符，所以len可以计算出每个串的长度即为不同字符的个数"
   ]
  },
  {
   "cell_type": "code",
   "execution_count": 8,
   "id": "ad39ae21-a531-4a4c-9917-15573546ba3f",
   "metadata": {},
   "outputs": [
    {
     "name": "stdout",
     "output_type": "stream",
     "text": [
      "a\n",
      "b\n",
      "c\n"
     ]
    }
   ],
   "source": [
    "#迭代协议 让对象可迭代的通用方式 如：对字典迭代，得到所有的键值\n",
    "some_dict = {\"a\": 1, \"b\": 2, \"c\": 3}\n",
    "for key in some_dict:\n",
    "    print(key)"
   ]
  },
  {
   "cell_type": "code",
   "execution_count": 10,
   "id": "627eac8a-3fdd-4fcc-a2df-04340485856a",
   "metadata": {},
   "outputs": [
    {
     "data": {
      "text/plain": [
       "<dict_keyiterator at 0x111906160>"
      ]
     },
     "execution_count": 10,
     "metadata": {},
     "output_type": "execute_result"
    }
   ],
   "source": [
    "#在编写 for key in some_dict 时，py会先从some_dict创建一个迭代器\n",
    "dict_iterator = iter(some_dict)\n",
    "dict_iterator"
   ]
  },
  {
   "cell_type": "markdown",
   "id": "a90a48c0-98a0-437b-afb2-b6742318a8a2",
   "metadata": {},
   "source": [
    "iter()函数用于获取一个迭代器。迭代器是一个可以记住遍历的位置的对象。\n",
    "迭代器从集合的第一个元素开始访问，直到所有的元素被访问完结束。迭代器只能往前不会后退。"
   ]
  },
  {
   "cell_type": "code",
   "execution_count": 11,
   "id": "096a0483-62d7-4b8d-8d9b-8347272386e4",
   "metadata": {},
   "outputs": [
    {
     "data": {
      "text/plain": [
       "['a', 'b', 'c']"
      ]
     },
     "execution_count": 11,
     "metadata": {},
     "output_type": "execute_result"
    }
   ],
   "source": [
    "#迭代器可以接收的对象有很多，如min、max、sum等内置函数，以及list、tuple等构造器也可以\n",
    "list(dict_iterator)"
   ]
  },
  {
   "cell_type": "markdown",
   "id": "a51987ba-9ad5-4bd4-b6a6-b6ad9ebb31d9",
   "metadata": {},
   "source": [
    "生成器是构造新的可迭代对象的简单方式，类似于编写函数。一般函数执行后返回单个值，\n",
    "生成器则是以延迟的方式返回一个多值序列，每返回一个值之后暂停，直到请求下一个值时再继续\n",
    "只需将return转化为yeild即可"
   ]
  },
  {
   "cell_type": "code",
   "execution_count": 16,
   "id": "0d820b06-6b7c-4568-a75b-ee0eb4d34d1d",
   "metadata": {},
   "outputs": [
    {
     "name": "stdout",
     "output_type": "stream",
     "text": [
      "<generator object squares at 0x1126c7ca0>\n"
     ]
    }
   ],
   "source": [
    "def squares(n=10):\n",
    "    print(f\"Generating squares from 1 to {n ** 2}\")\n",
    "    for i in range(1, n+1):\n",
    "        yield i ** 2\n",
    "\n",
    "gen = squares()\n",
    "#直接调用不会立即执行任何代码\n",
    "gen"
   ]
  },
  {
   "cell_type": "code",
   "execution_count": 15,
   "id": "b7bfa113-cc98-48ff-bdf0-26044ad05357",
   "metadata": {},
   "outputs": [
    {
     "name": "stdout",
     "output_type": "stream",
     "text": [
      "Generating squares from 1 to 100\n",
      "1 4 9 16 25 36 49 64 81 100 "
     ]
    }
   ],
   "source": [
    "for x in gen:\n",
    "    print(x, end=\" \")"
   ]
  },
  {
   "cell_type": "markdown",
   "id": "a94a1d6b-72d2-4cb4-b5b4-c5b0b9d7dc08",
   "metadata": {},
   "source": [
    "生成器每次只生成一个元素，而不是一个列表，所以占用更少的内存"
   ]
  },
  {
   "cell_type": "code",
   "execution_count": 21,
   "id": "ce156142-53a6-47c9-bffe-c3c5285929a2",
   "metadata": {},
   "outputs": [
    {
     "name": "stdout",
     "output_type": "stream",
     "text": [
      "0 1 4 9 16 25 36 49 64 81 100 121 144 169 196 225 256 289 324 361 400 441 484 529 576 625 676 729 784 841 900 961 1024 1089 1156 1225 1296 1369 1444 1521 1600 1681 1764 1849 1936 2025 2116 2209 2304 2401 2500 2601 2704 2809 2916 3025 3136 3249 3364 3481 3600 3721 3844 3969 4096 4225 4356 4489 4624 4761 4900 5041 5184 5329 5476 5625 5776 5929 6084 6241 6400 6561 6724 6889 7056 7225 7396 7569 7744 7921 8100 8281 8464 8649 8836 9025 9216 9409 9604 9801 "
     ]
    }
   ],
   "source": [
    "#生成器表达式，将列表推导式两端的方括号改为圆括号\n",
    "gen = (x ** 2 for x in range(100))\n",
    "for x in gen:\n",
    "    print(x, end=\" \")"
   ]
  },
  {
   "cell_type": "code",
   "execution_count": 22,
   "id": "56de3605-0a69-47e6-8034-1af701647479",
   "metadata": {},
   "outputs": [
    {
     "data": {
      "text/plain": [
       "328350"
      ]
     },
     "execution_count": 22,
     "metadata": {},
     "output_type": "execute_result"
    }
   ],
   "source": [
    "#()元组，不可修改，map后可变为元组 []列表 {}字典\n",
    "#生成器表达式也可以代替列表推导式作为函数参数\n",
    "sum(x ** 2 for x in range(100))"
   ]
  },
  {
   "cell_type": "code",
   "execution_count": 2,
   "id": "23ef079e-86f7-4f13-affd-fb61316edad2",
   "metadata": {},
   "outputs": [
    {
     "data": {
      "text/plain": [
       "{0: 0, 1: 1, 2: 4, 3: 9, 4: 16}"
      ]
     },
     "execution_count": 2,
     "metadata": {},
     "output_type": "execute_result"
    }
   ],
   "source": [
    "dict((i, i ** 2) for i in range(5))"
   ]
  },
  {
   "cell_type": "code",
   "execution_count": 3,
   "id": "fb323170-9669-45ac-a938-f7748c736968",
   "metadata": {},
   "outputs": [
    {
     "name": "stdout",
     "output_type": "stream",
     "text": [
      "A ['Alan', 'Adam']\n",
      "W ['Wes', 'Will']\n",
      "A ['Albert']\n",
      "S ['Steven']\n"
     ]
    }
   ],
   "source": [
    "#itertools模块  数据算法，根据函数返回值对连续元素进行分组  牛犇🐮\n",
    "import itertools\n",
    "\n",
    "def first_letter(x):\n",
    "    return x[0]\n",
    "\n",
    "names = [\"Alan\", \"Adam\", \"Wes\", \"Will\", \"Albert\", \"Steven\"]\n",
    "for letter, names in  itertools.groupby(names, first_letter):\n",
    "    print(letter, list(names))"
   ]
  },
  {
   "cell_type": "markdown",
   "id": "11a6a9d1-2be3-4a3e-9162-78bf6d072554",
   "metadata": {},
   "source": [
    "常见的itertools函数\n",
    "chain（*iterables） 用于串联迭代器\n",
    "combinations（iterable， k） 从iterables固有的元素中抽取k个进行组合，忽略顺序，不进行替换，若替换，则用函数combination_with_replacement\n",
    "permutations(iterable, k)  根据迭代器元素顺序，生成k元元组序列\n",
    "product（*iterable， repear=1） 笛卡尔积"
   ]
  },
  {
   "cell_type": "code",
   "execution_count": 6,
   "id": "026be522-32e3-4c20-ae31-fd8681deb11b",
   "metadata": {},
   "outputs": [
    {
     "ename": "ValueError",
     "evalue": "could not convert string to float: 'something'",
     "output_type": "error",
     "traceback": [
      "\u001b[0;31m---------------------------------------------------------------------------\u001b[0m",
      "\u001b[0;31mValueError\u001b[0m                                Traceback (most recent call last)",
      "Cell \u001b[0;32mIn[6], line 2\u001b[0m\n\u001b[1;32m      1\u001b[0m \u001b[38;5;66;03m#exception\u001b[39;00m\n\u001b[0;32m----> 2\u001b[0m \u001b[38;5;28;43mfloat\u001b[39;49m\u001b[43m(\u001b[49m\u001b[38;5;124;43m\"\u001b[39;49m\u001b[38;5;124;43msomething\u001b[39;49m\u001b[38;5;124;43m\"\u001b[39;49m\u001b[43m)\u001b[49m\n",
      "\u001b[0;31mValueError\u001b[0m: could not convert string to float: 'something'"
     ]
    }
   ],
   "source": [
    "#exception\n",
    "float(\"something\")"
   ]
  },
  {
   "cell_type": "code",
   "execution_count": 7,
   "id": "1a8ba63b-c197-45bd-8eda-7b28756a30a6",
   "metadata": {},
   "outputs": [],
   "source": [
    "def attempt_float(x):\n",
    "    try:\n",
    "        return float(x)\n",
    "    except:\n",
    "        return x"
   ]
  },
  {
   "cell_type": "code",
   "execution_count": 8,
   "id": "2f57e1e4-e3ce-4e57-b224-c6571dbae552",
   "metadata": {},
   "outputs": [
    {
     "data": {
      "text/plain": [
       "'something'"
      ]
     },
     "execution_count": 8,
     "metadata": {},
     "output_type": "execute_result"
    }
   ],
   "source": [
    "#抛出异常时，直接返回x内容，执行except的内容\n",
    "attempt_float(\"something\")"
   ]
  },
  {
   "cell_type": "code",
   "execution_count": 10,
   "id": "9ec25e7d-f55a-4c57-b755-02f647a1134c",
   "metadata": {},
   "outputs": [
    {
     "ename": "TypeError",
     "evalue": "float() argument must be a string or a real number, not 'tuple'",
     "output_type": "error",
     "traceback": [
      "\u001b[0;31m---------------------------------------------------------------------------\u001b[0m",
      "\u001b[0;31mTypeError\u001b[0m                                 Traceback (most recent call last)",
      "Cell \u001b[0;32mIn[10], line 8\u001b[0m\n\u001b[1;32m      5\u001b[0m     \u001b[38;5;28;01mexcept\u001b[39;00m \u001b[38;5;167;01mValueError\u001b[39;00m:\n\u001b[1;32m      6\u001b[0m         \u001b[38;5;28;01mreturn\u001b[39;00m x\n\u001b[0;32m----> 8\u001b[0m \u001b[43mattempt_float\u001b[49m\u001b[43m(\u001b[49m\u001b[43m(\u001b[49m\u001b[38;5;241;43m1\u001b[39;49m\u001b[43m,\u001b[49m\u001b[43m \u001b[49m\u001b[38;5;241;43m2\u001b[39;49m\u001b[43m)\u001b[49m\u001b[43m)\u001b[49m\n",
      "Cell \u001b[0;32mIn[10], line 4\u001b[0m, in \u001b[0;36mattempt_float\u001b[0;34m(x)\u001b[0m\n\u001b[1;32m      2\u001b[0m \u001b[38;5;28;01mdef\u001b[39;00m \u001b[38;5;21mattempt_float\u001b[39m(x):\n\u001b[1;32m      3\u001b[0m     \u001b[38;5;28;01mtry\u001b[39;00m:\n\u001b[0;32m----> 4\u001b[0m         \u001b[38;5;28;01mreturn\u001b[39;00m \u001b[38;5;28;43mfloat\u001b[39;49m\u001b[43m(\u001b[49m\u001b[43mx\u001b[49m\u001b[43m)\u001b[49m\n\u001b[1;32m      5\u001b[0m     \u001b[38;5;28;01mexcept\u001b[39;00m \u001b[38;5;167;01mValueError\u001b[39;00m:\n\u001b[1;32m      6\u001b[0m         \u001b[38;5;28;01mreturn\u001b[39;00m x\n",
      "\u001b[0;31mTypeError\u001b[0m: float() argument must be a string or a real number, not 'tuple'"
     ]
    }
   ],
   "source": [
    "#有时不一定只抛出一个异常，还有多种类型的异常，可以处理多种异常\n",
    "def attempt_float(x):\n",
    "    try:\n",
    "        return float(x)\n",
    "    except ValueError:\n",
    "        return x\n",
    "\n",
    "attempt_float((1, 2))"
   ]
  },
  {
   "cell_type": "code",
   "execution_count": 11,
   "id": "8781786f-82bd-4984-bb5a-c2f996f354d9",
   "metadata": {},
   "outputs": [
    {
     "data": {
      "text/plain": [
       "(1, 2)"
      ]
     },
     "execution_count": 11,
     "metadata": {},
     "output_type": "execute_result"
    }
   ],
   "source": [
    "#捕获多个异常\n",
    "def attempt_float(x):\n",
    "    try:\n",
    "        return float(x)\n",
    "    except (TypeError, ValueError):\n",
    "        return x\n",
    "\n",
    "attempt_float((1, 2))"
   ]
  },
  {
   "cell_type": "code",
   "execution_count": 13,
   "id": "a010f4b6-c53c-463d-9f16-132a15811dc4",
   "metadata": {},
   "outputs": [
    {
     "ename": "NameError",
     "evalue": "name 'path' is not defined",
     "output_type": "error",
     "traceback": [
      "\u001b[0;31m---------------------------------------------------------------------------\u001b[0m",
      "\u001b[0;31mNameError\u001b[0m                                 Traceback (most recent call last)",
      "Cell \u001b[0;32mIn[13], line 2\u001b[0m\n\u001b[1;32m      1\u001b[0m \u001b[38;5;66;03m#有时想要处理异常，try代码是否报错时都执行代码，则需要finally\u001b[39;00m\n\u001b[0;32m----> 2\u001b[0m f \u001b[38;5;241m=\u001b[39m \u001b[38;5;28mopen\u001b[39m(\u001b[43mpath\u001b[49m, mode\u001b[38;5;241m=\u001b[39m\u001b[38;5;124m\"\u001b[39m\u001b[38;5;124mw\u001b[39m\u001b[38;5;124m\"\u001b[39m)\n\u001b[1;32m      4\u001b[0m \u001b[38;5;28;01mtry\u001b[39;00m:\n\u001b[1;32m      5\u001b[0m     write_to_file(f)\n",
      "\u001b[0;31mNameError\u001b[0m: name 'path' is not defined"
     ]
    }
   ],
   "source": [
    "#有时想要处理异常，try代码是否报错时都执行代码，则需要finally\n",
    "f = open(path, mode=\"w\")\n",
    "\n",
    "try:\n",
    "    write_to_file(f)\n",
    "finally:\n",
    "    f.close()"
   ]
  },
  {
   "cell_type": "code",
   "execution_count": 14,
   "id": "b07b7ae4-e7ad-43a8-8598-c56b8bc747d7",
   "metadata": {},
   "outputs": [
    {
     "ename": "NameError",
     "evalue": "name 'path' is not defined",
     "output_type": "error",
     "traceback": [
      "\u001b[0;31m---------------------------------------------------------------------------\u001b[0m",
      "\u001b[0;31mNameError\u001b[0m                                 Traceback (most recent call last)",
      "Cell \u001b[0;32mIn[14], line 2\u001b[0m\n\u001b[1;32m      1\u001b[0m \u001b[38;5;66;03m#也可以当文件打开成功时执行fclose\u001b[39;00m\n\u001b[0;32m----> 2\u001b[0m f \u001b[38;5;241m=\u001b[39m \u001b[38;5;28mopen\u001b[39m(\u001b[43mpath\u001b[49m, mode\u001b[38;5;241m=\u001b[39m\u001b[38;5;124m\"\u001b[39m\u001b[38;5;124mw\u001b[39m\u001b[38;5;124m\"\u001b[39m)\n\u001b[1;32m      4\u001b[0m \u001b[38;5;28;01mtry\u001b[39;00m:\n\u001b[1;32m      5\u001b[0m     write_to_file(f)\n",
      "\u001b[0;31mNameError\u001b[0m: name 'path' is not defined"
     ]
    }
   ],
   "source": [
    "#也可以当文件打开成功时执行fclose\n",
    "f = open(path, mode=\"w\")\n",
    "\n",
    "try:\n",
    "    write_to_file(f)\n",
    "except:\n",
    "    print(\"Failed\")\n",
    "else:\n",
    "    print(\"Succeeded\")\n",
    "finally:\n",
    "    f.close()"
   ]
  },
  {
   "cell_type": "code",
   "execution_count": 1,
   "id": "0097c030-527c-4f9f-a30e-84deb75d1aaa",
   "metadata": {},
   "outputs": [
    {
     "name": "stdout",
     "output_type": "stream",
     "text": [
      "滕王高阁临江渚，佩玉鸣鸾罢歌舞。\n",
      "\n",
      "画栋朝飞南浦云，珠帘暮卷西山雨。\n",
      "\n",
      "闲云潭影日悠悠，物换星移几度秋。\n",
      "\n",
      "阁中帝子今何在？槛外长江空自流。\n",
      "\n"
     ]
    }
   ],
   "source": [
    "path = \"example.txt\"\n",
    "f = open(path, encoding=\"utf-8\")\n",
    "\n",
    "for line in f:\n",
    "    print(line)"
   ]
  },
  {
   "cell_type": "code",
   "execution_count": 4,
   "id": "d7bf02f6-eb39-498a-8874-a8be386059f6",
   "metadata": {},
   "outputs": [
    {
     "data": {
      "text/plain": [
       "['滕王高阁临江渚，佩玉鸣鸾罢歌舞。',\n",
       " '画栋朝飞南浦云，珠帘暮卷西山雨。',\n",
       " '闲云潭影日悠悠，物换星移几度秋。',\n",
       " '阁中帝子今何在？槛外长江空自流。']"
      ]
     },
     "execution_count": 4,
     "metadata": {},
     "output_type": "execute_result"
    }
   ],
   "source": [
    "#因为每一行字符都会有完整的行终止符（ELO===end of line），所以会多一个换行符，一般都是要去掉\n",
    "lines = [x.rstrip() for x in open(path, encoding=\"utf-8\")]\n",
    "lines"
   ]
  },
  {
   "cell_type": "code",
   "execution_count": 7,
   "id": "8378dbe7-64a8-489c-9fb7-58ef27147bef",
   "metadata": {},
   "outputs": [],
   "source": [
    "f.close()"
   ]
  },
  {
   "cell_type": "code",
   "execution_count": 9,
   "id": "413b8b37-e083-423b-8c17-0081999941a2",
   "metadata": {},
   "outputs": [
    {
     "name": "stdout",
     "output_type": "stream",
     "text": [
      "['滕王高阁临江渚，佩玉鸣鸾罢歌舞。', '画栋朝飞南浦云，珠帘暮卷西山雨。', '闲云潭影日悠悠，物换星移几度秋。', '阁中帝子今何在？槛外长江空自流。']\n"
     ]
    }
   ],
   "source": [
    "#with语句可以更容易清理打开的文件，不需要close\n",
    "with open(path, encoding=\"utf-8\") as f:\n",
    "    lines = [x.rstrip() for x in f]\n",
    "    print(lines)"
   ]
  },
  {
   "cell_type": "code",
   "execution_count": 16,
   "id": "abe350ee-738d-4904-acb5-7904bac29e4a",
   "metadata": {},
   "outputs": [
    {
     "data": {
      "text/plain": [
       "'滕王高阁临江渚，佩玉'"
      ]
     },
     "execution_count": 16,
     "metadata": {},
     "output_type": "execute_result"
    }
   ],
   "source": [
    "#f = open(path, \"w\")会覆盖掉原来的任何文件，可以用f = open(path, \"x\")创建文件，若存在此姓名的文件则会创建失败\n",
    "#r只读 w只写创建新文件  x只写创建新文件  a追加到现有文件，不存在则会自动创建  \n",
    "#r+ 读写模式  b rb wb 二进制下的读写  t txt模式\n",
    "f1 = open(path)\n",
    "f1.read(10)"
   ]
  },
  {
   "cell_type": "code",
   "execution_count": 15,
   "id": "90d5a1eb-7312-4151-ba51-06afd1d3ba49",
   "metadata": {},
   "outputs": [
    {
     "data": {
      "text/plain": [
       "b'\\xe6\\xbb\\x95\\xe7\\x8e\\x8b\\xe9\\xab\\x98\\xe9'"
      ]
     },
     "execution_count": 15,
     "metadata": {},
     "output_type": "execute_result"
    }
   ],
   "source": [
    "f2 = open(path, mode=\"rb\")\n",
    "f2.read(10)"
   ]
  },
  {
   "cell_type": "code",
   "execution_count": 14,
   "id": "b9c2c18d-9f1e-4db8-b530-e91d3accc1a8",
   "metadata": {},
   "outputs": [
    {
     "data": {
      "text/plain": [
       "30"
      ]
     },
     "execution_count": 14,
     "metadata": {},
     "output_type": "execute_result"
    }
   ],
   "source": [
    "#read通过读取文件的字节数推进文件对象的位置，tell函数可以告知我们当前的位置\n",
    "f1.tell()"
   ]
  },
  {
   "cell_type": "code",
   "execution_count": 13,
   "id": "74ba1dd6-db71-4198-8dd6-bca5cb174825",
   "metadata": {},
   "outputs": [
    {
     "data": {
      "text/plain": [
       "10"
      ]
     },
     "execution_count": 13,
     "metadata": {},
     "output_type": "execute_result"
    }
   ],
   "source": [
    "f2.tell()"
   ]
  },
  {
   "cell_type": "code",
   "execution_count": 17,
   "id": "b986c27e-a5ae-4723-a004-93290676493c",
   "metadata": {},
   "outputs": [
    {
     "data": {
      "text/plain": [
       "3"
      ]
     },
     "execution_count": 17,
     "metadata": {},
     "output_type": "execute_result"
    }
   ],
   "source": [
    "#seek函数可以将文件位置更改为文件中的指定字节\n",
    "f1.seek(3)"
   ]
  },
  {
   "cell_type": "code",
   "execution_count": 18,
   "id": "62b3e620-c60d-4af9-86c7-e7392e349456",
   "metadata": {},
   "outputs": [
    {
     "data": {
      "text/plain": [
       "'王'"
      ]
     },
     "execution_count": 18,
     "metadata": {},
     "output_type": "execute_result"
    }
   ],
   "source": [
    "f1.read(1)"
   ]
  },
  {
   "cell_type": "code",
   "execution_count": 19,
   "id": "27285652-978c-4de8-bc09-244374cf6846",
   "metadata": {},
   "outputs": [
    {
     "data": {
      "text/plain": [
       "6"
      ]
     },
     "execution_count": 19,
     "metadata": {},
     "output_type": "execute_result"
    }
   ],
   "source": [
    "f1.tell()"
   ]
  },
  {
   "cell_type": "code",
   "execution_count": 20,
   "id": "8c702a36-849d-47b5-a4f0-1d67c5d1fdfd",
   "metadata": {},
   "outputs": [],
   "source": [
    "f1.close()"
   ]
  },
  {
   "cell_type": "code",
   "execution_count": 21,
   "id": "1289f240-8d4a-4a5b-b773-c0dcfc4a7d05",
   "metadata": {},
   "outputs": [],
   "source": [
    "f2.close()"
   ]
  },
  {
   "cell_type": "code",
   "execution_count": 22,
   "id": "9dc8fd00-8fb7-4c74-8353-489bae7d28b3",
   "metadata": {},
   "outputs": [
    {
     "data": {
      "text/plain": [
       "'example.txt'"
      ]
     },
     "execution_count": 22,
     "metadata": {},
     "output_type": "execute_result"
    }
   ],
   "source": [
    "path"
   ]
  },
  {
   "cell_type": "code",
   "execution_count": 23,
   "id": "834477cc-f11e-4673-b5b7-b9139026a134",
   "metadata": {},
   "outputs": [
    {
     "data": {
      "text/plain": [
       "['滕王高阁临江渚，佩玉鸣鸾罢歌舞。\\n',\n",
       " '画栋朝飞南浦云，珠帘暮卷西山雨。\\n',\n",
       " '闲云潭影日悠悠，物换星移几度秋。\\n',\n",
       " '阁中帝子今何在？槛外长江空自流。\\n']"
      ]
     },
     "execution_count": 23,
     "metadata": {},
     "output_type": "execute_result"
    }
   ],
   "source": [
    "with open(\"tmp.txt\", mode=\"w\") as handle:\n",
    "    handle.writelines(x for x in open(path) if len(x) > 1)\n",
    "\n",
    "with open(\"tmp.txt\") as f:\n",
    "    lines = f.readlines()\n",
    "\n",
    "lines"
   ]
  },
  {
   "cell_type": "markdown",
   "id": "e755eeda-d5c3-4787-9ac9-f36d1f4c2f29",
   "metadata": {},
   "source": [
    "py常用的文件方法、属性P89"
   ]
  },
  {
   "cell_type": "code",
   "execution_count": 24,
   "id": "c59507cb-7ca2-4100-b2af-16af305cd399",
   "metadata": {},
   "outputs": [
    {
     "data": {
      "text/plain": [
       "'滕王高阁临江渚，佩玉'"
      ]
     },
     "execution_count": 24,
     "metadata": {},
     "output_type": "execute_result"
    }
   ],
   "source": [
    "#py文件操作默认是文本模式，需要处理字符串如Unicode\n",
    "with open(path) as f:\n",
    "    chars = f.read(10)\n",
    "\n",
    "chars"
   ]
  },
  {
   "cell_type": "code",
   "execution_count": 25,
   "id": "cf028e85-3c08-4e00-8719-dd198f569fb5",
   "metadata": {},
   "outputs": [
    {
     "data": {
      "text/plain": [
       "10"
      ]
     },
     "execution_count": 25,
     "metadata": {},
     "output_type": "execute_result"
    }
   ],
   "source": [
    "len(chars)"
   ]
  },
  {
   "cell_type": "markdown",
   "id": "6ebd55c6-b71e-474d-a337-e4544034823c",
   "metadata": {},
   "source": [
    "py文件操作也可以对特殊符号进行处理，可以直接读取即可，二进制中不可以用seek去定位置"
   ]
  },
  {
   "cell_type": "code",
   "execution_count": null,
   "id": "9250f9e5-5883-4342-9d22-8bc6e10354b8",
   "metadata": {},
   "outputs": [],
   "source": []
  }
 ],
 "metadata": {
  "kernelspec": {
   "display_name": "Python 3 (ipykernel)",
   "language": "python",
   "name": "python3"
  },
  "language_info": {
   "codemirror_mode": {
    "name": "ipython",
    "version": 3
   },
   "file_extension": ".py",
   "mimetype": "text/x-python",
   "name": "python",
   "nbconvert_exporter": "python",
   "pygments_lexer": "ipython3",
   "version": "3.11.7"
  }
 },
 "nbformat": 4,
 "nbformat_minor": 5
}
