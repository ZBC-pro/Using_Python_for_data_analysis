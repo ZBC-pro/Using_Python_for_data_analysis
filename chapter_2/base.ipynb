{
 "cells": [
  {
   "cell_type": "markdown",
   "id": "f7b6b44c-a0c8-4a35-bdd4-b783b77de1fc",
   "metadata": {},
   "source": [
    "在变量名称后面使用(?)可以显示对象信息"
   ]
  },
  {
   "cell_type": "code",
   "execution_count": 3,
   "id": "f161127a-b3c0-4dce-8a78-f269da01b82f",
   "metadata": {},
   "outputs": [
    {
     "data": {
      "text/plain": [
       "\u001b[0;31mType:\u001b[0m        list\n",
       "\u001b[0;31mString form:\u001b[0m [1, 2, 3]\n",
       "\u001b[0;31mLength:\u001b[0m      3\n",
       "\u001b[0;31mDocstring:\u001b[0m  \n",
       "Built-in mutable sequence.\n",
       "\n",
       "If no argument is given, the constructor creates a new empty list.\n",
       "The argument must be an iterable if specified."
      ]
     },
     "metadata": {},
     "output_type": "display_data"
    }
   ],
   "source": [
    "b = [1, 2, 3, ]\n",
    "b?"
   ]
  },
  {
   "cell_type": "code",
   "execution_count": 4,
   "id": "64197bef-e8e3-4ba9-ae6d-da8129459792",
   "metadata": {},
   "outputs": [
    {
     "data": {
      "text/plain": [
       "\u001b[0;31mSignature:\u001b[0m \u001b[0mprint\u001b[0m\u001b[0;34m(\u001b[0m\u001b[0;34m*\u001b[0m\u001b[0margs\u001b[0m\u001b[0;34m,\u001b[0m \u001b[0msep\u001b[0m\u001b[0;34m=\u001b[0m\u001b[0;34m' '\u001b[0m\u001b[0;34m,\u001b[0m \u001b[0mend\u001b[0m\u001b[0;34m=\u001b[0m\u001b[0;34m'\\n'\u001b[0m\u001b[0;34m,\u001b[0m \u001b[0mfile\u001b[0m\u001b[0;34m=\u001b[0m\u001b[0;32mNone\u001b[0m\u001b[0;34m,\u001b[0m \u001b[0mflush\u001b[0m\u001b[0;34m=\u001b[0m\u001b[0;32mFalse\u001b[0m\u001b[0;34m)\u001b[0m\u001b[0;34m\u001b[0m\u001b[0;34m\u001b[0m\u001b[0m\n",
       "\u001b[0;31mDocstring:\u001b[0m\n",
       "Prints the values to a stream, or to sys.stdout by default.\n",
       "\n",
       "sep\n",
       "  string inserted between values, default a space.\n",
       "end\n",
       "  string appended after the last value, default a newline.\n",
       "file\n",
       "  a file-like object (stream); defaults to the current sys.stdout.\n",
       "flush\n",
       "  whether to forcibly flush the stream.\n",
       "\u001b[0;31mType:\u001b[0m      builtin_function_or_method"
      ]
     },
     "metadata": {},
     "output_type": "display_data"
    }
   ],
   "source": [
    "print?"
   ]
  },
  {
   "cell_type": "code",
   "execution_count": 6,
   "id": "f4bd632d-98aa-4e38-8698-f78497cbfebc",
   "metadata": {},
   "outputs": [
    {
     "data": {
      "text/plain": [
       "np.__loader__\n",
       "np.load\n",
       "np.loadtxt"
      ]
     },
     "metadata": {},
     "output_type": "display_data"
    }
   ],
   "source": [
    "import numpy as np\n",
    "np.*load*?"
   ]
  },
  {
   "cell_type": "markdown",
   "id": "6af4e1bf-2177-459a-89e1-c612df25ba23",
   "metadata": {},
   "source": [
    "?终极用途，与通配符（*）结合匹配所有通配符表达式的命名，如下可以获得所有包含load的顶级NumPy的对象名"
   ]
  },
  {
   "cell_type": "code",
   "execution_count": 8,
   "id": "fbe39b4d-dbfc-4641-8d2f-f3247b778042",
   "metadata": {},
   "outputs": [
    {
     "data": {
      "text/plain": [
       "[1, 2, 3, 4]"
      ]
     },
     "execution_count": 8,
     "metadata": {},
     "output_type": "execute_result"
    }
   ],
   "source": [
    "a = [1, 2, 3, ]\n",
    "b = a\n",
    "b\n",
    "a.append(4)\n",
    "b"
   ]
  },
  {
   "cell_type": "code",
   "execution_count": 9,
   "id": "2061cf8c-2dc5-4196-8222-b8a06871e538",
   "metadata": {},
   "outputs": [
    {
     "data": {
      "text/plain": [
       "int"
      ]
     },
     "execution_count": 9,
     "metadata": {},
     "output_type": "execute_result"
    }
   ],
   "source": [
    "a = 5\n",
    "type(a)"
   ]
  },
  {
   "cell_type": "code",
   "execution_count": 10,
   "id": "d645b5b5-3505-429b-80bb-2d4472babeba",
   "metadata": {},
   "outputs": [
    {
     "data": {
      "text/plain": [
       "str"
      ]
     },
     "execution_count": 10,
     "metadata": {},
     "output_type": "execute_result"
    }
   ],
   "source": [
    "a = \"foo\"\n",
    "type(a)"
   ]
  },
  {
   "cell_type": "code",
   "execution_count": 11,
   "id": "40ca709b-9bed-4db8-891c-ec2a7fd42655",
   "metadata": {},
   "outputs": [
    {
     "ename": "TypeError",
     "evalue": "can only concatenate str (not \"int\") to str",
     "output_type": "error",
     "traceback": [
      "\u001b[0;31m---------------------------------------------------------------------------\u001b[0m",
      "\u001b[0;31mTypeError\u001b[0m                                 Traceback (most recent call last)",
      "Cell \u001b[0;32mIn[11], line 1\u001b[0m\n\u001b[0;32m----> 1\u001b[0m \u001b[38;5;124;43m\"\u001b[39;49m\u001b[38;5;124;43m5\u001b[39;49m\u001b[38;5;124;43m\"\u001b[39;49m\u001b[43m \u001b[49m\u001b[38;5;241;43m+\u001b[39;49m\u001b[43m \u001b[49m\u001b[38;5;241;43m5\u001b[39;49m\n",
      "\u001b[0;31mTypeError\u001b[0m: can only concatenate str (not \"int\") to str"
     ]
    }
   ],
   "source": [
    "\"5\" + 5"
   ]
  },
  {
   "cell_type": "code",
   "execution_count": 13,
   "id": "f8bdaa01-e9e8-4396-aceb-15277fd90434",
   "metadata": {},
   "outputs": [
    {
     "name": "stdout",
     "output_type": "stream",
     "text": [
      "a is <class 'float'>, b is <class 'int'>\n"
     ]
    },
    {
     "data": {
      "text/plain": [
       "2.25"
      ]
     },
     "execution_count": 13,
     "metadata": {},
     "output_type": "execute_result"
    }
   ],
   "source": [
    "a = 4.5 \n",
    "b = 2\n",
    "print(f\"a is {type(a)}, b is {type(b)}\")\n",
    "a/b"
   ]
  },
  {
   "cell_type": "code",
   "execution_count": 15,
   "id": "b312acf8-3cb5-490c-95b2-4bab64d24220",
   "metadata": {},
   "outputs": [
    {
     "data": {
      "text/plain": [
       "True"
      ]
     },
     "execution_count": 15,
     "metadata": {},
     "output_type": "execute_result"
    }
   ],
   "source": [
    "a = 5\n",
    "isinstance(a, int)"
   ]
  },
  {
   "cell_type": "markdown",
   "id": "8c42bb8f-183c-41f1-b2db-5d8f6bed75b3",
   "metadata": {},
   "source": [
    "isinstancae 可以接收包含类型的元组作为参数’检查对象类型是否在类型元组"
   ]
  },
  {
   "cell_type": "code",
   "execution_count": 17,
   "id": "6bb3e68a-f4f0-419e-b346-045288560952",
   "metadata": {},
   "outputs": [
    {
     "data": {
      "text/plain": [
       "True"
      ]
     },
     "execution_count": 17,
     "metadata": {},
     "output_type": "execute_result"
    }
   ],
   "source": [
    "a = 5\n",
    "b = 4.5\n",
    "isinstance(a, (int, float))\n",
    "isinstance(b, (int, float))"
   ]
  },
  {
   "cell_type": "code",
   "execution_count": 19,
   "id": "c5a366d5-4157-4fcb-ba77-cb4bfabdf6df",
   "metadata": {},
   "outputs": [
    {
     "data": {
      "text/plain": [
       "<function str.split(sep=None, maxsplit=-1)>"
      ]
     },
     "execution_count": 19,
     "metadata": {},
     "output_type": "execute_result"
    }
   ],
   "source": [
    "a = \"foo\"\n",
    "getattr(a, \"split\")"
   ]
  },
  {
   "cell_type": "code",
   "execution_count": 22,
   "id": "5355b32d-b0f1-471c-8234-4eb1534903c6",
   "metadata": {},
   "outputs": [
    {
     "data": {
      "text/plain": [
       "False"
      ]
     },
     "execution_count": 22,
     "metadata": {},
     "output_type": "execute_result"
    }
   ],
   "source": [
    "def isiterable(obj):\n",
    "    try:\n",
    "        iter(obj)\n",
    "        return True\n",
    "    except TypeError: #不可迭代\n",
    "        return False\n",
    "\n",
    "#isiterable(\"a string\")\n",
    "#isiterable([1, 2, 3, ])\n",
    "isiterable(5)"
   ]
  },
  {
   "cell_type": "markdown",
   "id": "55416178-2dd6-493c-89bd-92b21fcab06f",
   "metadata": {},
   "source": [
    "鸭子类型，动态类型语言设计风格，一个对象的特征不是由父类决定，而是通过对象的方法决定的。\n",
    "不关心对象是什么类型，到底是不是鸭子，只关心其行为，若是行为类似则定义为同类\n",
    "在这段代码中通过“魔方验证器(iter)”去验证此类是否为可迭代类型，若是则可以则返回True，否则为False"
   ]
  },
  {
   "cell_type": "code",
   "execution_count": 27,
   "id": "9ca671b6-7143-45eb-b3c4-dbac9c83c92c",
   "metadata": {},
   "outputs": [
    {
     "data": {
      "text/plain": [
       "True"
      ]
     },
     "execution_count": 27,
     "metadata": {},
     "output_type": "execute_result"
    }
   ],
   "source": [
    "a = [1, 2, 3, ]\n",
    "b = a\n",
    "c = list(a)\n",
    "#a is b  #True\n",
    "a is not c  #False\n",
    "a == c"
   ]
  },
  {
   "cell_type": "markdown",
   "id": "9b7456e7-c03b-4080-ba58-0175f3386b89",
   "metadata": {},
   "source": [
    "判断两个变量是否引用同一个对象，用is关键字，is not则判断两个对象不同"
   ]
  },
  {
   "cell_type": "code",
   "execution_count": 28,
   "id": "5a975bbc-e94b-49ee-acf5-e97c7e94ae08",
   "metadata": {},
   "outputs": [
    {
     "data": {
      "text/plain": [
       "['foo', 2, (3, 4)]"
      ]
     },
     "execution_count": 28,
     "metadata": {},
     "output_type": "execute_result"
    }
   ],
   "source": [
    "a_list = [\"foo\", 2, [4, 5]]\n",
    "a_list[2] = (3, 4)\n",
    "a_list"
   ]
  },
  {
   "cell_type": "code",
   "execution_count": 29,
   "id": "91641f55-250c-4881-9a92-d39013733b60",
   "metadata": {},
   "outputs": [
    {
     "ename": "TypeError",
     "evalue": "'tuple' object does not support item assignment",
     "output_type": "error",
     "traceback": [
      "\u001b[0;31m---------------------------------------------------------------------------\u001b[0m",
      "\u001b[0;31mTypeError\u001b[0m                                 Traceback (most recent call last)",
      "Cell \u001b[0;32mIn[29], line 2\u001b[0m\n\u001b[1;32m      1\u001b[0m a_tuple \u001b[38;5;241m=\u001b[39m (\u001b[38;5;241m3\u001b[39m, \u001b[38;5;241m5\u001b[39m, (\u001b[38;5;241m4\u001b[39m, \u001b[38;5;241m5\u001b[39m))\n\u001b[0;32m----> 2\u001b[0m \u001b[43ma_tuple\u001b[49m\u001b[43m[\u001b[49m\u001b[38;5;241;43m1\u001b[39;49m\u001b[43m]\u001b[49m \u001b[38;5;241m=\u001b[39m \u001b[38;5;124m\"\u001b[39m\u001b[38;5;124mfour\u001b[39m\u001b[38;5;124m\"\u001b[39m\n",
      "\u001b[0;31mTypeError\u001b[0m: 'tuple' object does not support item assignment"
     ]
    }
   ],
   "source": [
    "a_tuple = (3, 5, (4, 5))\n",
    "a_tuple[1] = \"four\""
   ]
  },
  {
   "cell_type": "markdown",
   "id": "57628c3a-49ce-45fc-91e2-e2c291927a4c",
   "metadata": {},
   "source": [
    "字符串元组是不可变对象，不能修改其内部数据"
   ]
  },
  {
   "cell_type": "code",
   "execution_count": 1,
   "id": "a3f2d784-e078-40ae-b1c4-285f7ce20d26",
   "metadata": {},
   "outputs": [
    {
     "data": {
      "text/plain": [
       "26254519291092456596965462913230729701102721"
      ]
     },
     "execution_count": 1,
     "metadata": {},
     "output_type": "execute_result"
    }
   ],
   "source": [
    "ival = 17239871\n",
    "ival ** 6"
   ]
  },
  {
   "cell_type": "code",
   "execution_count": 2,
   "id": "19de8800-8f38-4869-90f9-c8f7bc0cf01d",
   "metadata": {},
   "outputs": [
    {
     "data": {
      "text/plain": [
       "1"
      ]
     },
     "execution_count": 2,
     "metadata": {},
     "output_type": "execute_result"
    }
   ],
   "source": [
    "3//2"
   ]
  },
  {
   "cell_type": "code",
   "execution_count": 4,
   "id": "3f4a844c-2e81-4b58-a4c2-318b3fda8113",
   "metadata": {},
   "outputs": [
    {
     "data": {
      "text/plain": [
       "3"
      ]
     },
     "execution_count": 4,
     "metadata": {},
     "output_type": "execute_result"
    }
   ],
   "source": [
    "c = \"\"\"\n",
    "       This is a longer string that\n",
    "       spans multiple lines\n",
    "    \"\"\"\n",
    "c.count(\"\\n\")"
   ]
  },
  {
   "cell_type": "markdown",
   "id": "67ab6995-8dde-47af-a12a-09580719077a",
   "metadata": {},
   "source": [
    "多行的字符串可以用\"\"\",并且可以使用count函数去计算里面的字符个数，包括换行符"
   ]
  },
  {
   "cell_type": "code",
   "execution_count": 6,
   "id": "01b145de-8c31-47b9-9649-44b986fda139",
   "metadata": {},
   "outputs": [
    {
     "ename": "TypeError",
     "evalue": "'str' object does not support item assignment",
     "output_type": "error",
     "traceback": [
      "\u001b[0;31m---------------------------------------------------------------------------\u001b[0m",
      "\u001b[0;31mTypeError\u001b[0m                                 Traceback (most recent call last)",
      "Cell \u001b[0;32mIn[6], line 2\u001b[0m\n\u001b[1;32m      1\u001b[0m a \u001b[38;5;241m=\u001b[39m \u001b[38;5;124m\"\u001b[39m\u001b[38;5;124mthis is a string\u001b[39m\u001b[38;5;124m\"\u001b[39m\n\u001b[0;32m----> 2\u001b[0m \u001b[43ma\u001b[49m\u001b[43m[\u001b[49m\u001b[38;5;241;43m3\u001b[39;49m\u001b[43m]\u001b[49m \u001b[38;5;241m=\u001b[39m \u001b[38;5;124m\"\u001b[39m\u001b[38;5;124mf\u001b[39m\u001b[38;5;124m\"\u001b[39m\n",
      "\u001b[0;31mTypeError\u001b[0m: 'str' object does not support item assignment"
     ]
    }
   ],
   "source": [
    "a = \"this is a string\"\n",
    "a[3] = \"f\""
   ]
  },
  {
   "cell_type": "markdown",
   "id": "4e7dc62d-54f5-4927-8d40-9c373bd133f2",
   "metadata": {},
   "source": [
    "字符串不支持替换，若要修改字符串可以使用函数或者方法先创建新的字符串再利用replace的方法"
   ]
  },
  {
   "cell_type": "code",
   "execution_count": 8,
   "id": "1c1f9b5c-01fb-4f9b-bd13-1621131b4e38",
   "metadata": {},
   "outputs": [
    {
     "data": {
      "text/plain": [
       "'this is a longer string'"
      ]
     },
     "execution_count": 8,
     "metadata": {},
     "output_type": "execute_result"
    }
   ],
   "source": [
    "b = a.replace(\"string\", \"longer string\")\n",
    "b"
   ]
  },
  {
   "cell_type": "code",
   "execution_count": 9,
   "id": "448b48d1-553e-4600-a617-3abc64211dbf",
   "metadata": {},
   "outputs": [
    {
     "name": "stdout",
     "output_type": "stream",
     "text": [
      "5.6\n"
     ]
    }
   ],
   "source": [
    "a = 5.6\n",
    "s = str(a)\n",
    "print(s)"
   ]
  },
  {
   "cell_type": "code",
   "execution_count": 10,
   "id": "516c87d2-20e3-4c61-aa34-42d69d6cb96f",
   "metadata": {},
   "outputs": [
    {
     "data": {
      "text/plain": [
       "['p', 'y', 't', 'h', 'o', 'n']"
      ]
     },
     "execution_count": 10,
     "metadata": {},
     "output_type": "execute_result"
    }
   ],
   "source": [
    "s = \"python\"\n",
    "list(s)"
   ]
  },
  {
   "cell_type": "code",
   "execution_count": 12,
   "id": "30eeb97f-c934-4eb1-beb8-984e5a0fd9e3",
   "metadata": {},
   "outputs": [
    {
     "data": {
      "text/plain": [
       "'pyt'"
      ]
     },
     "execution_count": 12,
     "metadata": {},
     "output_type": "execute_result"
    }
   ],
   "source": [
    "s[:3] #切片"
   ]
  },
  {
   "cell_type": "code",
   "execution_count": 14,
   "id": "1ff99912-7265-4b99-9d13-228a146c5622",
   "metadata": {},
   "outputs": [
    {
     "name": "stdout",
     "output_type": "stream",
     "text": [
      "12\\34\n"
     ]
    }
   ],
   "source": [
    "s = \"12\\\\34\"\n",
    "print(s)"
   ]
  },
  {
   "cell_type": "markdown",
   "id": "f5343d16-aa7b-43d9-9d58-f59634156402",
   "metadata": {},
   "source": [
    "\\转义字符，表示特殊字符，比如\\n,写一个包含转义符的字符串，需要转义"
   ]
  },
  {
   "cell_type": "code",
   "execution_count": 15,
   "id": "7a7b6e96-4f16-423b-81bd-eaf263cabc98",
   "metadata": {},
   "outputs": [
    {
     "data": {
      "text/plain": [
       "'this\\\\has\\\\no\\\\special\\\\characters'"
      ]
     },
     "execution_count": 15,
     "metadata": {},
     "output_type": "execute_result"
    }
   ],
   "source": [
    "s = r\"this\\has\\no\\special\\characters\"\n",
    "s"
   ]
  },
  {
   "cell_type": "markdown",
   "id": "39ad0983-cd52-46c7-bc27-c852b9b252da",
   "metadata": {},
   "source": [
    "r表示原生，raw，表明是原生字符串"
   ]
  },
  {
   "cell_type": "code",
   "execution_count": 16,
   "id": "ec65b6a0-c8c0-49c6-a71b-cb5c3462ab2c",
   "metadata": {},
   "outputs": [
    {
     "data": {
      "text/plain": [
       "'this is the frist halfthis is the second half'"
      ]
     },
     "execution_count": 16,
     "metadata": {},
     "output_type": "execute_result"
    }
   ],
   "source": [
    "a = \"this is the frist half\"\n",
    "b = \"this is the second half\"\n",
    "a + b\n"
   ]
  },
  {
   "cell_type": "code",
   "execution_count": 20,
   "id": "c22164df-5b45-401e-b5af-6115c0ddbec9",
   "metadata": {},
   "outputs": [],
   "source": [
    "template = \"{0:.2f}{1:s} are worth US${2:d}\""
   ]
  },
  {
   "cell_type": "markdown",
   "id": "4cf1364a-42f3-4557-851e-5b2a785b89fd",
   "metadata": {},
   "source": [
    "｛0:.2f｝表示第一个参数格式化为带有两位小数的浮点数。\n",
    "｛1:S｝表示第二个参数格式化为字符串.\n",
    "｛2:d｝表示第三个参数格式化为＿个整数。"
   ]
  },
  {
   "cell_type": "code",
   "execution_count": 23,
   "id": "b19351a7-1609-4a1e-b91a-2d2ade50dcee",
   "metadata": {},
   "outputs": [
    {
     "data": {
      "text/plain": [
       "'88.46Argentine Pesos are worth US$1'"
      ]
     },
     "execution_count": 23,
     "metadata": {},
     "output_type": "execute_result"
    }
   ],
   "source": [
    "template.format(88.46, \"Argentine Pesos\", 1)"
   ]
  },
  {
   "cell_type": "code",
   "execution_count": 28,
   "id": "db6c8733-e558-4aad-a582-0f23ede9fa03",
   "metadata": {},
   "outputs": [
    {
     "data": {
      "text/plain": [
       "'10 Pesos is worth US$0.11'"
      ]
     },
     "execution_count": 28,
     "metadata": {},
     "output_type": "execute_result"
    }
   ],
   "source": [
    "amount = 10\n",
    "rate = 88.46\n",
    "currency = \"Pesos\"\n",
    "result = f\"{amount} {currency} is worth US${amount / rate}\"\n",
    "f\"{amount} {currency} is worth US${amount / rate:.2f}\"\n",
    "#result"
   ]
  },
  {
   "cell_type": "markdown",
   "id": "176673c0-97e5-4020-90e0-ba1518c76e47",
   "metadata": {},
   "source": [
    "encode方法可以将Unicode字符串转换为UTF-8字节，若知道字节对象的Unicode，可以用decode方法解码"
   ]
  },
  {
   "cell_type": "code",
   "execution_count": 2,
   "id": "65ae58fa-6e0a-4993-9fc8-409d8bd01ac4",
   "metadata": {},
   "outputs": [
    {
     "data": {
      "text/plain": [
       "True"
      ]
     },
     "execution_count": 2,
     "metadata": {},
     "output_type": "execute_result"
    }
   ],
   "source": [
    "False or True"
   ]
  },
  {
   "cell_type": "code",
   "execution_count": 3,
   "id": "fbe8ae10-c8ec-4ccb-b502-c5aeb033c93b",
   "metadata": {},
   "outputs": [
    {
     "data": {
      "text/plain": [
       "0"
      ]
     },
     "execution_count": 3,
     "metadata": {},
     "output_type": "execute_result"
    }
   ],
   "source": [
    "int(False)"
   ]
  },
  {
   "cell_type": "code",
   "execution_count": 4,
   "id": "67942146-bf69-442a-83f4-d5ce2518ef70",
   "metadata": {},
   "outputs": [
    {
     "data": {
      "text/plain": [
       "1"
      ]
     },
     "execution_count": 4,
     "metadata": {},
     "output_type": "execute_result"
    }
   ],
   "source": [
    "int(True)"
   ]
  },
  {
   "cell_type": "code",
   "execution_count": 5,
   "id": "7703a3f2-654f-482b-b30b-9bf20afb26ea",
   "metadata": {},
   "outputs": [
    {
     "data": {
      "text/plain": [
       "False"
      ]
     },
     "execution_count": 5,
     "metadata": {},
     "output_type": "execute_result"
    }
   ],
   "source": [
    "a = True\n",
    "b = False\n",
    "not a  #not翻转bool值"
   ]
  },
  {
   "cell_type": "code",
   "execution_count": 6,
   "id": "88b08935-f241-47bb-a72f-6bdbe8c500e0",
   "metadata": {},
   "outputs": [
    {
     "data": {
      "text/plain": [
       "True"
      ]
     },
     "execution_count": 6,
     "metadata": {},
     "output_type": "execute_result"
    }
   ],
   "source": [
    "not b"
   ]
  },
  {
   "cell_type": "code",
   "execution_count": 7,
   "id": "3600229f-adf7-4f3e-ba88-6372304fa643",
   "metadata": {},
   "outputs": [
    {
     "data": {
      "text/plain": [
       "float"
      ]
     },
     "execution_count": 7,
     "metadata": {},
     "output_type": "execute_result"
    }
   ],
   "source": [
    "s = \"3.1415926\"\n",
    "fval = float(s)\n",
    "type(fval)"
   ]
  },
  {
   "cell_type": "code",
   "execution_count": 8,
   "id": "f2a7bf40-5b52-4bd0-9ef9-82b4282ddab6",
   "metadata": {},
   "outputs": [
    {
     "data": {
      "text/plain": [
       "3"
      ]
     },
     "execution_count": 8,
     "metadata": {},
     "output_type": "execute_result"
    }
   ],
   "source": [
    "int(fval)"
   ]
  },
  {
   "cell_type": "code",
   "execution_count": 9,
   "id": "773cfd68-93df-4523-a848-c00aa7fa25dc",
   "metadata": {},
   "outputs": [
    {
     "data": {
      "text/plain": [
       "True"
      ]
     },
     "execution_count": 9,
     "metadata": {},
     "output_type": "execute_result"
    }
   ],
   "source": [
    "bool(fval)"
   ]
  },
  {
   "cell_type": "code",
   "execution_count": 10,
   "id": "7480dff8-1f95-4a81-b326-5f2213966117",
   "metadata": {},
   "outputs": [
    {
     "data": {
      "text/plain": [
       "False"
      ]
     },
     "execution_count": 10,
     "metadata": {},
     "output_type": "execute_result"
    }
   ],
   "source": [
    "bool(0)"
   ]
  },
  {
   "cell_type": "code",
   "execution_count": 11,
   "id": "57d16b41-7c87-483d-bb34-53a4ad5c8f03",
   "metadata": {},
   "outputs": [],
   "source": [
    "def add_and_maybe_multiply(a, b, c=None):\n",
    "    result = a + b\n",
    "    if c is not None:\n",
    "        result = result*c\n",
    "    return result"
   ]
  },
  {
   "cell_type": "code",
   "execution_count": 14,
   "id": "8480045e-6257-4c19-af39-91683cb2821f",
   "metadata": {},
   "outputs": [
    {
     "data": {
      "text/plain": [
       "29"
      ]
     },
     "execution_count": 14,
     "metadata": {},
     "output_type": "execute_result"
    }
   ],
   "source": [
    "from datetime import datetime, date, time\n",
    "dt = datetime(2011, 10, 29, 20, 30, 21)\n",
    "#年 月 日 小时 分钟 秒\n",
    "dt.day"
   ]
  },
  {
   "cell_type": "code",
   "execution_count": 15,
   "id": "074c6945-3f5f-4398-9bd9-a44638abfc8d",
   "metadata": {},
   "outputs": [
    {
     "data": {
      "text/plain": [
       "30"
      ]
     },
     "execution_count": 15,
     "metadata": {},
     "output_type": "execute_result"
    }
   ],
   "source": [
    "dt.minute"
   ]
  },
  {
   "cell_type": "code",
   "execution_count": 16,
   "id": "cf838d4f-c012-4d4a-bdb7-ac88ca5aaa5e",
   "metadata": {},
   "outputs": [
    {
     "data": {
      "text/plain": [
       "datetime.date(2011, 10, 29)"
      ]
     },
     "execution_count": 16,
     "metadata": {},
     "output_type": "execute_result"
    }
   ],
   "source": [
    "dt.date()"
   ]
  },
  {
   "cell_type": "code",
   "execution_count": 17,
   "id": "d7d8f73f-87f2-4ef9-bfac-3a2c4ff69b97",
   "metadata": {},
   "outputs": [
    {
     "data": {
      "text/plain": [
       "datetime.time(20, 30, 21)"
      ]
     },
     "execution_count": 17,
     "metadata": {},
     "output_type": "execute_result"
    }
   ],
   "source": [
    "dt.time()"
   ]
  },
  {
   "cell_type": "code",
   "execution_count": 18,
   "id": "72c59dd7-4167-474d-85b1-ac59f885de28",
   "metadata": {},
   "outputs": [
    {
     "data": {
      "text/plain": [
       "'2011-10-29 20:30'"
      ]
     },
     "execution_count": 18,
     "metadata": {},
     "output_type": "execute_result"
    }
   ],
   "source": [
    "#strftime方法可以将datetime格式化化为字符串\n",
    "dt.strftime(\"%Y-%m-%d %H:%M\")"
   ]
  },
  {
   "cell_type": "code",
   "execution_count": 19,
   "id": "e1d326cd-c05f-4df7-a08a-e8065aec1421",
   "metadata": {},
   "outputs": [
    {
     "data": {
      "text/plain": [
       "datetime.datetime(2009, 10, 31, 0, 0)"
      ]
     },
     "execution_count": 19,
     "metadata": {},
     "output_type": "execute_result"
    }
   ],
   "source": [
    "#strptime函数可以将字符串解析为datetime对象\n",
    "datetime.strptime(\"20091031\", \"%Y%m%d\")"
   ]
  },
  {
   "cell_type": "code",
   "execution_count": 20,
   "id": "14cf1015-5404-4b40-b505-6c7bc8effd0c",
   "metadata": {},
   "outputs": [
    {
     "data": {
      "text/plain": [
       "datetime.datetime(2011, 10, 29, 20, 0)"
      ]
     },
     "execution_count": 20,
     "metadata": {},
     "output_type": "execute_result"
    }
   ],
   "source": [
    "dt_hour = dt.replace(minute=0, second=0)\n",
    "dt_hour"
   ]
  },
  {
   "cell_type": "code",
   "execution_count": 21,
   "id": "07637ed9-6353-414d-b06b-53484da863f4",
   "metadata": {},
   "outputs": [
    {
     "data": {
      "text/plain": [
       "datetime.datetime(2011, 10, 29, 20, 30, 21)"
      ]
     },
     "execution_count": 21,
     "metadata": {},
     "output_type": "execute_result"
    }
   ],
   "source": [
    "dt"
   ]
  },
  {
   "cell_type": "markdown",
   "id": "6404a8df-f0cb-458e-bff6-f343fbe5b182",
   "metadata": {},
   "source": [
    "即使是replace修改了dt的分秒存储在了新的dt_hour中，但原先的dt仍然不变，因为datetime.datetime是不可变类型"
   ]
  },
  {
   "cell_type": "code",
   "execution_count": 22,
   "id": "2676e379-2e17-464e-a467-5df3cfa0149d",
   "metadata": {},
   "outputs": [
    {
     "data": {
      "text/plain": [
       "datetime.timedelta(days=17, seconds=7179)"
      ]
     },
     "execution_count": 22,
     "metadata": {},
     "output_type": "execute_result"
    }
   ],
   "source": [
    "dt2 = datetime(2011, 11, 15, 22, 30)\n",
    "delta = dt2 - dt\n",
    "delta"
   ]
  },
  {
   "cell_type": "markdown",
   "id": "a2724955-7f5a-4d3c-91d9-33dd2e798694",
   "metadata": {},
   "source": [
    "两个datetime对象相减产生timedelta类型的对象，结果就是timedelta时间偏移量为17天，7179秒"
   ]
  },
  {
   "cell_type": "code",
   "execution_count": 24,
   "id": "10d66064-7a53-4a19-8d67-a26db337816f",
   "metadata": {},
   "outputs": [
    {
     "data": {
      "text/plain": [
       "datetime.datetime(2011, 10, 29, 20, 30, 21)"
      ]
     },
     "execution_count": 24,
     "metadata": {},
     "output_type": "execute_result"
    }
   ],
   "source": [
    "dt"
   ]
  },
  {
   "cell_type": "code",
   "execution_count": 25,
   "id": "9541e1c9-448c-424c-bcb8-1fc471ce906d",
   "metadata": {},
   "outputs": [
    {
     "data": {
      "text/plain": [
       "datetime.datetime(2011, 11, 15, 22, 30)"
      ]
     },
     "execution_count": 25,
     "metadata": {},
     "output_type": "execute_result"
    }
   ],
   "source": [
    "dt + delta "
   ]
  },
  {
   "cell_type": "markdown",
   "id": "119925d6-3d55-42c3-aef0-592cc847f95d",
   "metadata": {},
   "source": [
    "datetime类型相加的会出现一个变动过的datetime"
   ]
  },
  {
   "cell_type": "code",
   "execution_count": 27,
   "id": "8e975857-aff4-4d16-8592-139cbf1f871d",
   "metadata": {},
   "outputs": [
    {
     "data": {
      "text/plain": [
       "12"
      ]
     },
     "execution_count": 27,
     "metadata": {},
     "output_type": "execute_result"
    }
   ],
   "source": [
    "sequence = [1, 2, None, 4, None, 5]\n",
    "total = 0\n",
    "for value in sequence:\n",
    "    if value is None:\n",
    "        continue\n",
    "    total += value\n",
    "total"
   ]
  },
  {
   "cell_type": "code",
   "execution_count": 1,
   "id": "b77c959f-bbd5-4c02-8bbe-0e2fbb6073ce",
   "metadata": {},
   "outputs": [
    {
     "name": "stdout",
     "output_type": "stream",
     "text": [
      "(0, 0)\n",
      "(1, 0)\n",
      "(1, 1)\n",
      "(2, 0)\n",
      "(2, 1)\n",
      "(2, 2)\n",
      "(3, 0)\n",
      "(3, 1)\n",
      "(3, 2)\n",
      "(3, 3)\n"
     ]
    }
   ],
   "source": [
    "for i in range(4):\n",
    "    for j in range(4):\n",
    "        if j > i:\n",
    "            break\n",
    "        print((i, j))\n",
    "#如果要循环的并非一种元素，则可以将其中的所有序列拆包成元素\n",
    "#for a, b, c in iterator:\n",
    "#    option"
   ]
  },
  {
   "cell_type": "code",
   "execution_count": 4,
   "id": "d62b2663-3231-4a5f-94ce-38dc17f36af4",
   "metadata": {},
   "outputs": [],
   "source": [
    "x = 256\n",
    "total = 0\n",
    "while x > 0:\n",
    "    if total > 500:\n",
    "        break\n",
    "    total += x\n",
    "    x = x // 2\n",
    "#pass 可以让函数跳过此判断语句"
   ]
  },
  {
   "cell_type": "code",
   "execution_count": 5,
   "id": "e9a81bfe-49b4-43d1-817c-c445933637ef",
   "metadata": {},
   "outputs": [
    {
     "name": "stdout",
     "output_type": "stream",
     "text": [
      "element 0: 1\n",
      "element 1: 2\n",
      "element 2: 3\n",
      "element 3: 4\n"
     ]
    }
   ],
   "source": [
    "#range(起点， 终点， 阶数)，阶数可以为负，并且产生的数不包括终点\n",
    "seq = [1, 2, 3, 4, ]\n",
    "for i in range(len(seq)):\n",
    "    print(f\"element {i}: {seq[i]}\")"
   ]
  },
  {
   "cell_type": "code",
   "execution_count": 7,
   "id": "95b2b943-029a-4c3a-a147-b2deb19474ec",
   "metadata": {},
   "outputs": [
    {
     "name": "stdout",
     "output_type": "stream",
     "text": [
      "2333316668\n"
     ]
    }
   ],
   "source": [
    "total = 0\n",
    "for i in range(100_000):\n",
    "    if i % 3 == 0 or i % 5 == 0:\n",
    "        total += i\n",
    "print(total)"
   ]
  }
 ],
 "metadata": {
  "kernelspec": {
   "display_name": "Python 3 (ipykernel)",
   "language": "python",
   "name": "python3"
  },
  "language_info": {
   "codemirror_mode": {
    "name": "ipython",
    "version": 3
   },
   "file_extension": ".py",
   "mimetype": "text/x-python",
   "name": "python",
   "nbconvert_exporter": "python",
   "pygments_lexer": "ipython3",
   "version": "3.11.7"
  }
 },
 "nbformat": 4,
 "nbformat_minor": 5
}
