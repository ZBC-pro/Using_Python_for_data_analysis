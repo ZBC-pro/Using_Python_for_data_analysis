{
 "cells": [
  {
   "cell_type": "code",
   "execution_count": 1,
   "id": "a11e81de-7622-450d-ab38-413b8bc8e9a5",
   "metadata": {},
   "outputs": [],
   "source": [
    "import numpy as np\n",
    "import pandas as pd\n",
    "from pandas import Series, DataFrame"
   ]
  },
  {
   "cell_type": "markdown",
   "id": "848c437e-1d98-4cb6-8560-3041c6e1d9ff",
   "metadata": {},
   "source": [
    "Series 是 pandas 库中的一种数据结构，用于表示一维的、带有标签（索引）的数据\n",
    "你可以把 Series 看作是带有索引的数组或字典\n",
    "它是一种灵活的数据类型，可以容纳多种数据类型，例如整数、浮点数、字符串、Python 对象等"
   ]
  },
  {
   "cell_type": "code",
   "execution_count": 2,
   "id": "32e567da-5719-40df-978b-34b5f16d2788",
   "metadata": {},
   "outputs": [
    {
     "data": {
      "text/plain": [
       "0    4\n",
       "1    7\n",
       "2   -5\n",
       "3    3\n",
       "dtype: int64"
      ]
     },
     "execution_count": 2,
     "metadata": {},
     "output_type": "execute_result"
    }
   ],
   "source": [
    "obj = pd.Series([4, 7, -5, 3])\n",
    "obj"
   ]
  },
  {
   "cell_type": "markdown",
   "id": "1bdc6336-08a2-491f-bb5d-efd002ae0b71",
   "metadata": {},
   "source": [
    "Series字符串交互的方式呈现，索引位于左边，值位于右边。\n",
    "因为没有给数据指定索引，因此会自动创建一个0～N-1的整型索引\n",
    "可以通过Series的array和index属性获取其数组值和索引对象"
   ]
  },
  {
   "cell_type": "code",
   "execution_count": 3,
   "id": "fa8b7584-ed73-4bfd-93da-1b8f16aba3d1",
   "metadata": {},
   "outputs": [
    {
     "data": {
      "text/plain": [
       "<NumpyExtensionArray>\n",
       "[4, 7, -5, 3]\n",
       "Length: 4, dtype: int64"
      ]
     },
     "execution_count": 3,
     "metadata": {},
     "output_type": "execute_result"
    }
   ],
   "source": [
    "obj.array"
   ]
  },
  {
   "cell_type": "markdown",
   "id": "59c081ab-6c26-42e2-b188-31ce22d09524",
   "metadata": {},
   "source": [
    ".array属性结果是PandasArray对象，它通常封装了一个Numpy数组，但也可以包含特殊的扩展数组类型。"
   ]
  },
  {
   "cell_type": "code",
   "execution_count": 4,
   "id": "6c52a705-820f-489b-bea1-7c1d8f84a95e",
   "metadata": {},
   "outputs": [
    {
     "data": {
      "text/plain": [
       "RangeIndex(start=0, stop=4, step=1)"
      ]
     },
     "execution_count": 4,
     "metadata": {},
     "output_type": "execute_result"
    }
   ],
   "source": [
    "obj.index"
   ]
  },
  {
   "cell_type": "code",
   "execution_count": 6,
   "id": "36f60acd-b42d-45ab-8f60-1de6c73119f6",
   "metadata": {},
   "outputs": [
    {
     "data": {
      "text/plain": [
       "d    4\n",
       "b    7\n",
       "a   -5\n",
       "c    3\n",
       "dtype: int64"
      ]
     },
     "execution_count": 6,
     "metadata": {},
     "output_type": "execute_result"
    }
   ],
   "source": [
    "#经常需要创建带有索引的Series，用标签指明各个数据点：\n",
    "obj2 = pd.Series([4, 7, -5, 3], index=[\"d\", \"b\", \"a\", \"c\"])\n",
    "obj2"
   ]
  },
  {
   "cell_type": "code",
   "execution_count": 7,
   "id": "f33fe9de-a86c-45d3-b6cc-042116c2ccd8",
   "metadata": {},
   "outputs": [
    {
     "data": {
      "text/plain": [
       "Index(['d', 'b', 'a', 'c'], dtype='object')"
      ]
     },
     "execution_count": 7,
     "metadata": {},
     "output_type": "execute_result"
    }
   ],
   "source": [
    "obj2.index"
   ]
  },
  {
   "cell_type": "code",
   "execution_count": 8,
   "id": "1988c320-104d-488a-8d13-1d52ffa48e90",
   "metadata": {},
   "outputs": [
    {
     "data": {
      "text/plain": [
       "-5"
      ]
     },
     "execution_count": 8,
     "metadata": {},
     "output_type": "execute_result"
    }
   ],
   "source": [
    "#与Numpy相比，可以通过索引的标签选取Series中的单个或一组值：\n",
    "obj2[\"a\"]"
   ]
  },
  {
   "cell_type": "code",
   "execution_count": 9,
   "id": "61897b83-1a98-424c-b152-cee4b22e6191",
   "metadata": {},
   "outputs": [
    {
     "data": {
      "text/plain": [
       "4"
      ]
     },
     "execution_count": 9,
     "metadata": {},
     "output_type": "execute_result"
    }
   ],
   "source": [
    "obj2[\"d\"]"
   ]
  },
  {
   "cell_type": "code",
   "execution_count": 10,
   "id": "781ba533-d489-45f9-81b1-170497d8c133",
   "metadata": {},
   "outputs": [],
   "source": [
    "obj2[\"d\"] = 6"
   ]
  },
  {
   "cell_type": "code",
   "execution_count": 11,
   "id": "1014e2e1-3a88-47ba-958b-2ed26ab5316e",
   "metadata": {},
   "outputs": [
    {
     "data": {
      "text/plain": [
       "c    3\n",
       "a   -5\n",
       "d    6\n",
       "dtype: int64"
      ]
     },
     "execution_count": 11,
     "metadata": {},
     "output_type": "execute_result"
    }
   ],
   "source": [
    "obj2[[\"c\", \"a\", \"d\"]]"
   ]
  },
  {
   "cell_type": "markdown",
   "id": "a46a16ae-eb12-4d7f-999b-cb0cd0c6dd3e",
   "metadata": {},
   "source": [
    "[\"c\", \"a\", \"d\"]是索引列表，它包含的是字符串而不是数字"
   ]
  },
  {
   "cell_type": "code",
   "execution_count": 12,
   "id": "79029f90-3b7a-4df3-91b2-fa65d3bc2ba8",
   "metadata": {},
   "outputs": [
    {
     "data": {
      "text/plain": [
       "d    6\n",
       "b    7\n",
       "c    3\n",
       "dtype: int64"
      ]
     },
     "execution_count": 12,
     "metadata": {},
     "output_type": "execute_result"
    }
   ],
   "source": [
    "#使用numpy函数进行运算时，比如bool数组过滤，标量乘法，应用函数等，都会保留索引值的链接\n",
    "obj2[obj2 > 0]"
   ]
  },
  {
   "cell_type": "code",
   "execution_count": 13,
   "id": "9fe77e60-3f82-426c-ac79-1f71b6296604",
   "metadata": {},
   "outputs": [
    {
     "data": {
      "text/plain": [
       "d    12\n",
       "b    14\n",
       "a   -10\n",
       "c     6\n",
       "dtype: int64"
      ]
     },
     "execution_count": 13,
     "metadata": {},
     "output_type": "execute_result"
    }
   ],
   "source": [
    "obj2 * 2"
   ]
  },
  {
   "cell_type": "code",
   "execution_count": 14,
   "id": "0c6fe052-8c8f-436d-866b-875977b2ee83",
   "metadata": {},
   "outputs": [
    {
     "data": {
      "text/plain": [
       "d     403.428793\n",
       "b    1096.633158\n",
       "a       0.006738\n",
       "c      20.085537\n",
       "dtype: float64"
      ]
     },
     "execution_count": 14,
     "metadata": {},
     "output_type": "execute_result"
    }
   ],
   "source": [
    "np.exp(obj2)"
   ]
  },
  {
   "cell_type": "markdown",
   "id": "f4fcea48-e05f-4807-956c-92017fb6bacf",
   "metadata": {},
   "source": [
    "使用 NumPy 的 exp 函数来计算 obj2 中每个元素的指数（exponential）\n",
    "即计算 e 的 x 次方（e^x），其中 e 是自然常数，约等于 2.71828\n",
    "所以此函数是将obj2中的每个元素进行计算e的次方，比如d为6，则第一个对应的是e的d次方，就是e的6次方\n",
    "e的6次方就是403.428793"
   ]
  },
  {
   "cell_type": "code",
   "execution_count": 16,
   "id": "af1b2021-ea4f-4257-b92d-f32df01384d1",
   "metadata": {},
   "outputs": [
    {
     "data": {
      "text/plain": [
       "True"
      ]
     },
     "execution_count": 16,
     "metadata": {},
     "output_type": "execute_result"
    }
   ],
   "source": [
    "#还可以将Series看作长度固定的有序字典，因为它是索引值对数据值的映射\n",
    "#在使用字典的场景里也可以用Series:\n",
    "\"b\" in obj2"
   ]
  },
  {
   "cell_type": "code",
   "execution_count": 17,
   "id": "a7a80ecc-3b8a-4c4e-b2a8-3118d71eef75",
   "metadata": {},
   "outputs": [
    {
     "data": {
      "text/plain": [
       "False"
      ]
     },
     "execution_count": 17,
     "metadata": {},
     "output_type": "execute_result"
    }
   ],
   "source": [
    "\"e\" in obj2"
   ]
  },
  {
   "cell_type": "code",
   "execution_count": 18,
   "id": "818a95e3-86a6-4e17-9b18-e5da339577b6",
   "metadata": {},
   "outputs": [
    {
     "data": {
      "text/plain": [
       "Ohio      35000\n",
       "Texas     71000\n",
       "Oregon    16000\n",
       "Utah       5000\n",
       "dtype: object"
      ]
     },
     "execution_count": 18,
     "metadata": {},
     "output_type": "execute_result"
    }
   ],
   "source": [
    "#如果数据已经存放在一个py字典中，也可以通过传入这个字典创建Series：\n",
    "sdata = {\"Ohio\": 35000, \"Texas\": 71000, \"Oregon\": 16000, \"Utah\": \"5000\"}\n",
    "obj3 = pd.Series(sdata)\n",
    "obj3"
   ]
  },
  {
   "cell_type": "code",
   "execution_count": 19,
   "id": "f39221d2-7bc1-4181-a77c-7d06ee0c642b",
   "metadata": {},
   "outputs": [
    {
     "data": {
      "text/plain": [
       "{'Ohio': 35000, 'Texas': 71000, 'Oregon': 16000, 'Utah': '5000'}"
      ]
     },
     "execution_count": 19,
     "metadata": {},
     "output_type": "execute_result"
    }
   ],
   "source": [
    "#通过to_dict方法可以将Series转换回字典：\n",
    "obj3.to_dict()"
   ]
  },
  {
   "cell_type": "code",
   "execution_count": 20,
   "id": "14c5f04e-df02-4907-a4f1-4c68f1dd5c4e",
   "metadata": {},
   "outputs": [
    {
     "data": {
      "text/plain": [
       "Ohio      35000\n",
       "Texas     71000\n",
       "Oregon    16000\n",
       "Utah       5000\n",
       "dtype: object"
      ]
     },
     "execution_count": 20,
     "metadata": {},
     "output_type": "execute_result"
    }
   ],
   "source": [
    "obj3"
   ]
  },
  {
   "cell_type": "code",
   "execution_count": 21,
   "id": "05ab826a-7b3f-4f67-82b4-33464d5e78ed",
   "metadata": {},
   "outputs": [
    {
     "data": {
      "text/plain": [
       "California      NaN\n",
       "Ohio          35000\n",
       "Oregon        16000\n",
       "Texas         71000\n",
       "dtype: object"
      ]
     },
     "execution_count": 21,
     "metadata": {},
     "output_type": "execute_result"
    }
   ],
   "source": [
    "states = [\"California\", \"Ohio\", \"Oregon\", \"Texas\"]\n",
    "#它包含 sdata 中的数据，并使用 states 列表中的值作为索引\n",
    "obj4 = pd.Series(sdata, index=states)\n",
    "obj4"
   ]
  },
  {
   "cell_type": "code",
   "execution_count": null,
   "id": "136c740f-44ce-4dc1-9935-0dc352d8eb60",
   "metadata": {},
   "outputs": [],
   "source": [
    "使用 pandas 库中的 Series 数据结构创建一个带有指定索引的 Series 对象 obj4\n",
    "sdata 是要赋值给 Series 的数据，可以是列表、字典、NumPy 数组或者其他可迭代对象\n",
    "index=states 表示为 Series 指定索引\n",
    "这里 states 是一个包含索引标签的列表，[\"California\", \"Ohio\", \"Oregon\", \"Texas\"]\n",
    "它们将作为 Series 中数据的索引\n",
    "\n",
    "如果只传入一个字典，则结果Series中的索引会遵循字典的顺序，键的顺序依据的是字典keys方法，keys方法又取决于键的插入顺序\n",
    "可以将字典键按照想要的顺序传给构造函数，从而使生成的Series索引符合预期"
   ]
  },
  {
   "cell_type": "code",
   "execution_count": null,
   "id": "a4bd75f8-1624-48be-b548-176b01947bc4",
   "metadata": {},
   "outputs": [],
   "source": [
    "在此例子中，stata中跟states索引相匹配的三个值放到了相应的位置上，\n",
    "但由于\"California\"没有对应值，其结果为Nan（not a number）非数字\n",
    "在pandas中，用于表示缺失值NA，因为Utah不在states中，所以他会从结果中除去"
   ]
  },
  {
   "cell_type": "code",
   "execution_count": 25,
   "id": "a54e6718-330b-4053-b973-e4ab39933a2c",
   "metadata": {},
   "outputs": [
    {
     "data": {
      "text/plain": [
       "California     True\n",
       "Ohio          False\n",
       "Oregon        False\n",
       "Texas         False\n",
       "dtype: bool"
      ]
     },
     "execution_count": 25,
     "metadata": {},
     "output_type": "execute_result"
    }
   ],
   "source": [
    "#后期会经常使用“缺失”，“NA”，“空值”等表示缺失数据\n",
    "#pandas中的isnull和notnull函数可以检测缺失值\n",
    "#判空\n",
    "pd.isna(obj4)"
   ]
  },
  {
   "cell_type": "code",
   "execution_count": 26,
   "id": "80497fae-ab0c-4436-9d82-e24a163ac254",
   "metadata": {},
   "outputs": [
    {
     "data": {
      "text/plain": [
       "California    False\n",
       "Ohio           True\n",
       "Oregon         True\n",
       "Texas          True\n",
       "dtype: bool"
      ]
     },
     "execution_count": 26,
     "metadata": {},
     "output_type": "execute_result"
    }
   ],
   "source": [
    "#非空\n",
    "pd.notna(obj4)"
   ]
  },
  {
   "cell_type": "code",
   "execution_count": 27,
   "id": "3cef82ac-d88c-4eb9-a860-242a004496f5",
   "metadata": {},
   "outputs": [
    {
     "data": {
      "text/plain": [
       "California     True\n",
       "Ohio          False\n",
       "Oregon        False\n",
       "Texas         False\n",
       "dtype: bool"
      ]
     },
     "execution_count": 27,
     "metadata": {},
     "output_type": "execute_result"
    }
   ],
   "source": [
    "#Series也将其作为实例方法：\n",
    "obj4.isna()"
   ]
  },
  {
   "cell_type": "code",
   "execution_count": 28,
   "id": "dcc1471e-8dc6-4314-a284-ad2c1ad37615",
   "metadata": {},
   "outputs": [
    {
     "data": {
      "text/plain": [
       "Ohio      35000\n",
       "Texas     71000\n",
       "Oregon    16000\n",
       "Utah       5000\n",
       "dtype: object"
      ]
     },
     "execution_count": 28,
     "metadata": {},
     "output_type": "execute_result"
    }
   ],
   "source": [
    "#Series最实用的是在算数运算中能自动对齐索引标签：\n",
    "obj3"
   ]
  },
  {
   "cell_type": "code",
   "execution_count": 29,
   "id": "251b57a0-a8af-412a-90e3-340de6bcddc9",
   "metadata": {},
   "outputs": [
    {
     "data": {
      "text/plain": [
       "California      NaN\n",
       "Ohio          35000\n",
       "Oregon        16000\n",
       "Texas         71000\n",
       "dtype: object"
      ]
     },
     "execution_count": 29,
     "metadata": {},
     "output_type": "execute_result"
    }
   ],
   "source": [
    "obj4"
   ]
  },
  {
   "cell_type": "code",
   "execution_count": 30,
   "id": "124aca65-1389-4d63-a727-cea31342b20f",
   "metadata": {},
   "outputs": [
    {
     "data": {
      "text/plain": [
       "California       NaN\n",
       "Ohio           70000\n",
       "Oregon         32000\n",
       "Texas         142000\n",
       "Utah             NaN\n",
       "dtype: object"
      ]
     },
     "execution_count": 30,
     "metadata": {},
     "output_type": "execute_result"
    }
   ],
   "source": [
    "obj3 + obj4"
   ]
  },
  {
   "cell_type": "markdown",
   "id": "b0006493-5a8c-457e-b2c4-90b580134381",
   "metadata": {},
   "source": [
    "数据对齐功能类似于数据库中的join操作"
   ]
  },
  {
   "cell_type": "code",
   "execution_count": 31,
   "id": "45b8df28-50bb-4819-a6af-cd9ae7a4f514",
   "metadata": {},
   "outputs": [
    {
     "data": {
      "text/plain": [
       "state\n",
       "California      NaN\n",
       "Ohio          35000\n",
       "Oregon        16000\n",
       "Texas         71000\n",
       "Name: population, dtype: object"
      ]
     },
     "execution_count": 31,
     "metadata": {},
     "output_type": "execute_result"
    }
   ],
   "source": [
    "#Series对象及其索引都有name属性，该属性与pandas其他功能的关系非常密切：\n",
    "obj4.name = \"population\"\n",
    "obj4.index.name = \"state\"\n",
    "obj4"
   ]
  },
  {
   "cell_type": "markdown",
   "id": "65faac4a-5526-46ad-ac49-62be4c9c7d3b",
   "metadata": {},
   "source": [
    "在 pandas 中，object 数据类型通常用于存储字符串或混合类型的数据。\n",
    "dtype:\n",
    "在 pandas 中，dtype 描述了 Series 或 DataFrame 中每一列的数据类型。\n",
    "object:\n",
    "object 是 pandas 中一种数据类型，通常用于存储字符串（文本）数据。\n",
    "它也可以用于存储混合类型的数据，例如包含字符串、整数、浮点数、甚至 Python 对象的列。\n",
    "由于 object 类型的灵活性，它在性能上比数值类型稍慢，但在处理非数值数据时是必须的。\n",
    "\n",
    "dtype: object 表示数据存储为 Python 的 object 类型，通常用于存储字符串或混合类型的数据。\n",
    "在 pandas 中，如果你看到 dtype: object，通常意味着这个 Series 或 DataFrame 中包含的不是纯粹的数值数据，而是文本或混合类型的数据。"
   ]
  },
  {
   "cell_type": "code",
   "execution_count": 33,
   "id": "5f9c8cc1-084e-4541-9987-2b427eedeb0a",
   "metadata": {},
   "outputs": [
    {
     "data": {
      "text/plain": [
       "0    4\n",
       "1    7\n",
       "2   -5\n",
       "3    3\n",
       "dtype: int64"
      ]
     },
     "execution_count": 33,
     "metadata": {},
     "output_type": "execute_result"
    }
   ],
   "source": [
    "#Series的索引可以通过赋值的方式就地修改：\n",
    "obj"
   ]
  },
  {
   "cell_type": "code",
   "execution_count": 34,
   "id": "05f16004-1219-48c4-a67f-9b79a56f6283",
   "metadata": {},
   "outputs": [
    {
     "data": {
      "text/plain": [
       "Bob      4\n",
       "Steve    7\n",
       "Jeff    -5\n",
       "Ryan     3\n",
       "dtype: int64"
      ]
     },
     "execution_count": 34,
     "metadata": {},
     "output_type": "execute_result"
    }
   ],
   "source": [
    "obj.index = [\"Bob\", \"Steve\", \"Jeff\", \"Ryan\"]\n",
    "obj"
   ]
  },
  {
   "cell_type": "code",
   "execution_count": null,
   "id": "52c1cea0-fd7d-4b04-9f7b-e415ddc4c274",
   "metadata": {},
   "outputs": [],
   "source": [
    "这里索引里有字符串为什么不是object类型？\n",
    "因为：\n",
    "dtype 仅描述 Series 或 DataFrame 中数据的类型，不涉及索引。\n",
    "索引的数据类型是独立的，可以通过 .index.dtype 查看。"
   ]
  }
 ],
 "metadata": {
  "kernelspec": {
   "display_name": "Python 3 (ipykernel)",
   "language": "python",
   "name": "python3"
  },
  "language_info": {
   "codemirror_mode": {
    "name": "ipython",
    "version": 3
   },
   "file_extension": ".py",
   "mimetype": "text/x-python",
   "name": "python",
   "nbconvert_exporter": "python",
   "pygments_lexer": "ipython3",
   "version": "3.11.7"
  }
 },
 "nbformat": 4,
 "nbformat_minor": 5
}
