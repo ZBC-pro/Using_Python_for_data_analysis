{
 "cells": [
  {
   "cell_type": "code",
   "execution_count": 1,
   "id": "657f9c95-f23d-4e88-bed0-6359f1a94ea1",
   "metadata": {},
   "outputs": [],
   "source": [
    "import numpy as np\n",
    "import matplotlib.pyplot as plt\n",
    "from random import normalvariate"
   ]
  },
  {
   "cell_type": "code",
   "execution_count": 5,
   "id": "319814ed-f69f-4d21-b63c-a6f3269be7bb",
   "metadata": {},
   "outputs": [
    {
     "data": {
      "text/plain": [
       "array([[1., 2., 3.],\n",
       "       [4., 5., 6.]])"
      ]
     },
     "execution_count": 5,
     "metadata": {},
     "output_type": "execute_result"
    }
   ],
   "source": [
    "#线代  dot函数\n",
    "x = np.array([[1., 2., 3.], [4., 5., 6.]])\n",
    "y = np.array([[6., 23.], [-1., 7], [8, 9]])\n",
    "x"
   ]
  },
  {
   "cell_type": "code",
   "execution_count": 6,
   "id": "681abd92-fb59-4c6d-aaa8-ae8b9befc4b9",
   "metadata": {},
   "outputs": [
    {
     "data": {
      "text/plain": [
       "array([[ 6., 23.],\n",
       "       [-1.,  7.],\n",
       "       [ 8.,  9.]])"
      ]
     },
     "execution_count": 6,
     "metadata": {},
     "output_type": "execute_result"
    }
   ],
   "source": [
    "y"
   ]
  },
  {
   "cell_type": "code",
   "execution_count": 7,
   "id": "4c932630-dff6-41e2-b938-60e4ba4150db",
   "metadata": {},
   "outputs": [
    {
     "data": {
      "text/plain": [
       "array([[ 28.,  64.],\n",
       "       [ 67., 181.]])"
      ]
     },
     "execution_count": 7,
     "metadata": {},
     "output_type": "execute_result"
    }
   ],
   "source": [
    "x.dot(y)"
   ]
  },
  {
   "cell_type": "code",
   "execution_count": 8,
   "id": "d07cf343-9bb0-4307-bfd3-4e3744a169c7",
   "metadata": {},
   "outputs": [
    {
     "data": {
      "text/plain": [
       "array([[ 28.,  64.],\n",
       "       [ 67., 181.]])"
      ]
     },
     "execution_count": 8,
     "metadata": {},
     "output_type": "execute_result"
    }
   ],
   "source": [
    "np.dot(x, y)"
   ]
  },
  {
   "cell_type": "markdown",
   "id": "0658f2c2-c1c7-4d62-a928-b3ce49bfe185",
   "metadata": {},
   "source": [
    "x.dot(y)等价于np.dot(x, y)，是2✖️3与3✖️2的矩阵相乘，最终是2✖️2的矩阵"
   ]
  },
  {
   "cell_type": "code",
   "execution_count": 11,
   "id": "760a8569-6595-4d43-9373-2a826dea1ca5",
   "metadata": {},
   "outputs": [
    {
     "data": {
      "text/plain": [
       "array([ 6., 15.])"
      ]
     },
     "execution_count": 11,
     "metadata": {},
     "output_type": "execute_result"
    }
   ],
   "source": [
    "#二维数组跟一个大小合适的一维数组的矩阵点积运算会得到一维数组\n",
    "#x\n",
    "x @ np.ones(3)"
   ]
  },
  {
   "cell_type": "markdown",
   "id": "7e6d296f-0ce6-482e-b1b8-f5c88af519c8",
   "metadata": {},
   "source": [
    "@ 运算符用于矩阵乘法，也称为点积。\n",
    "x @ np.ones(3) 将数组 x 与一个所有元素都是 1 的 1x3 矩阵相乘。[1, 1, 1]\n",
    "np.ones(3) 创建了一个长度为 3 的数组，所有元素都是 1。\n",
    "x矩阵是2✖️3，新建的是长度为3的一维数组"
   ]
  },
  {
   "cell_type": "code",
   "execution_count": null,
   "id": "80ccb608-2c8d-40a8-9177-403a00aae54b",
   "metadata": {},
   "outputs": [],
   "source": []
  }
 ],
 "metadata": {
  "kernelspec": {
   "display_name": "Python 3 (ipykernel)",
   "language": "python",
   "name": "python3"
  },
  "language_info": {
   "codemirror_mode": {
    "name": "ipython",
    "version": 3
   },
   "file_extension": ".py",
   "mimetype": "text/x-python",
   "name": "python",
   "nbconvert_exporter": "python",
   "pygments_lexer": "ipython3",
   "version": "3.11.7"
  }
 },
 "nbformat": 4,
 "nbformat_minor": 5
}
