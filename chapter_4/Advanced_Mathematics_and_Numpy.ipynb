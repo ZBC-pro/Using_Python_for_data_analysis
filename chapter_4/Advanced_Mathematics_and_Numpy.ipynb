{
 "cells": [
  {
   "cell_type": "code",
   "execution_count": 4,
   "id": "27428e3a-3642-4ea1-bdf9-8099c4d13530",
   "metadata": {},
   "outputs": [],
   "source": [
    "import numpy as np\n",
    "import matplotlib.pyplot as plt\n",
    "from random import normalvariate"
   ]
  },
  {
   "cell_type": "code",
   "execution_count": 5,
   "id": "4a8fcaa8-206e-4ca5-9ae2-523df9666821",
   "metadata": {},
   "outputs": [
    {
     "data": {
      "text/plain": [
       "array([[-1.61184926, -0.41066663, -1.83052292,  0.49091556],\n",
       "       [-0.36929447,  0.71084084,  0.03803592,  0.23008066],\n",
       "       [-0.39249345, -0.84746294, -1.17744278, -0.30044961],\n",
       "       [ 0.73086453,  0.04997405, -0.565764  , -0.37784494]])"
      ]
     },
     "execution_count": 5,
     "metadata": {},
     "output_type": "execute_result"
    }
   ],
   "source": [
    "#伪随机数\n",
    "#numpy.random模块对py内置的random进行了补充，用于从多种概率分布中有效地生成整个样本值数组\n",
    "#可以用numpy.normal得到一个标准正态分布的4✖️4样本数组\n",
    "samples = np.random.standard_normal(size=(4, 4))\n",
    "samples"
   ]
  },
  {
   "cell_type": "code",
   "execution_count": 6,
   "id": "a48e83c9-a9ee-49b1-a8c2-66759c6f968e",
   "metadata": {},
   "outputs": [
    {
     "name": "stdout",
     "output_type": "stream",
     "text": [
      "304 ms ± 2.89 ms per loop (mean ± std. dev. of 7 runs, 1 loop each)\n"
     ]
    }
   ],
   "source": [
    "N = 1_000_000\n",
    "%timeit samples = [normalvariate(0, 1) for _ in range(N)]"
   ]
  },
  {
   "cell_type": "markdown",
   "id": "2bd73ad0-3312-4871-a96b-32bfa0d81b77",
   "metadata": {},
   "source": [
    "normalvariate 函数用于生成服从正态分布（也称高斯分布）的随机样本。\n",
    "它的特点是呈现钟形曲线，两端对称，中间最高。\n",
    "正态分布可以由其均值（mean）和标准差（standard deviation）完全描述。\n",
    "正态分布是一种连续概率分布，意味着变量可以取任意实数值，而不是离散的数值。\n",
    "在实际应用中，我们通常会对正态分布进行抽样，从而得到一系列离散的观测值。"
   ]
  },
  {
   "cell_type": "code",
   "execution_count": 7,
   "id": "4e0a8bff-32ad-49b4-a125-79b50dd5ab85",
   "metadata": {},
   "outputs": [
    {
     "name": "stdout",
     "output_type": "stream",
     "text": [
      "15.2 ms ± 135 μs per loop (mean ± std. dev. of 7 runs, 100 loops each)\n"
     ]
    }
   ],
   "source": [
    "#%timeit np.random.standard_normal(N)"
   ]
  },
  {
   "cell_type": "markdown",
   "id": "ffa3756e-19b3-4e69-a264-5c8fe7af98be",
   "metadata": {},
   "source": [
    "%timeit 魔法命令是在 IPython 或 Jupyter Notebooks 中用于测量小块 Python 代码执行时间的工具。\n",
    "它提供了一种简单的办法来基准测试你的代码性能。\n",
    "%timeit 魔法命令是 IPython 或 Jupyter Notebooks 特有的，并且在普通 Python 脚本中不可用。\n",
    "如果你在普通 Python 脚本中，你可以使用 timeit 模块"
   ]
  },
  {
   "cell_type": "code",
   "execution_count": 7,
   "id": "bd53d088-65e7-4d9b-b123-5351a8c02850",
   "metadata": {},
   "outputs": [
    {
     "data": {
      "text/plain": [
       "numpy.random._generator.Generator"
      ]
     },
     "execution_count": 7,
     "metadata": {},
     "output_type": "execute_result"
    }
   ],
   "source": [
    "rng = np.random.default_rng(seed=12345)\n",
    "data = rng.standard_normal((2, 3))\n",
    "type(rng)"
   ]
  },
  {
   "cell_type": "markdown",
   "id": "a88371f4-995d-4a57-b515-2db52901037e",
   "metadata": {},
   "source": [
    "numpy 库提供了一个名为 np.random.default_rng 的函数，用于创建一个随机数生成器（也称为随机数发生器或RNG）。\n",
    "可以通过指定种子（seed）来初始化这个生成器，这样可以确保每次代码运行时生成的随机数序列是相同的。\n",
    "rng 是一个随机数生成器对象，它被初始化为具有指定种子 12345 的默认生成器。\n",
    "使用这个生成器通过 standard_normal 方法生成了一个2行3列的标准正态分布矩阵，\n",
    "这意味着矩阵中的每个元素都是从均值为0、标准差为1的正态分布中抽取的随机样本。"
   ]
  },
  {
   "cell_type": "markdown",
   "id": "366f3862-50e7-4cfa-8798-1d9247bae7d5",
   "metadata": {},
   "source": [
    "numpy.random.Generator这个类提供了一个随机数生成器的接口，用于生成各种分布的随机样本。\n",
    "Generator 类是线程安全的，这意味着它可以在多线程环境中安全地使用，而不会导致随机数生成器的状态被多个线程同时修改。\n",
    "\n",
    "Generator 类的一些主要方法包括：\n",
    "\n",
    "standard_normal: 生成服从标准正态分布（均值为0，标准差为1）的随机样本。\n",
    "uniform: 生成服从均匀分布的随机样本。\n",
    "randint: 生成服从整数均匀分布的随机样本。\n",
    "poisson: 生成服从泊松分布的随机样本。\n",
    "normal: 生成服从正态分布的随机样本。\n",
    "chisquare: 生成服从卡方分布的随机样本。\n",
    "rayleigh: 生成服从瑞利分布的随机样本。\n",
    "exponential: 生成服从指数分布的随机样本。"
   ]
  },
  {
   "cell_type": "markdown",
   "id": "be4c2fc6-0a2f-4ed3-93f9-a57aa8c0d4f5",
   "metadata": {},
   "source": [
    "![jupyter](./4.8.PNG)"
   ]
  },
  {
   "cell_type": "code",
   "execution_count": 9,
   "id": "0649dbbf-c1a1-4376-8cfa-ad58ba7c58f4",
   "metadata": {},
   "outputs": [
    {
     "data": {
      "text/plain": [
       "array([0, 1, 2, 3, 4, 5, 6, 7, 8, 9])"
      ]
     },
     "execution_count": 9,
     "metadata": {},
     "output_type": "execute_result"
    }
   ],
   "source": [
    "#通用函数：快速的元素级数组函数 ufunc \n",
    "#许多通用函数可以用于简单的元素转换。如numpy.sqrt numpy.exp\n",
    "arr = np.arange(10)\n",
    "arr"
   ]
  },
  {
   "cell_type": "code",
   "execution_count": 10,
   "id": "f1045b37-77bc-4d47-887f-6effae796465",
   "metadata": {},
   "outputs": [
    {
     "data": {
      "text/plain": [
       "array([0.        , 1.        , 1.41421356, 1.73205081, 2.        ,\n",
       "       2.23606798, 2.44948974, 2.64575131, 2.82842712, 3.        ])"
      ]
     },
     "execution_count": 10,
     "metadata": {},
     "output_type": "execute_result"
    }
   ],
   "source": [
    "np.sqrt(arr)"
   ]
  },
  {
   "cell_type": "code",
   "execution_count": 11,
   "id": "065770bf-48e3-4862-a49b-135256b651d4",
   "metadata": {},
   "outputs": [
    {
     "data": {
      "text/plain": [
       "array([-1.3677927 ,  0.6488928 ,  0.36105811, -1.95286306,  2.34740965,\n",
       "        0.96849691, -0.75938718,  0.90219827])"
      ]
     },
     "execution_count": 11,
     "metadata": {},
     "output_type": "execute_result"
    }
   ],
   "source": [
    "#二元ufunc，返回数组为结果\n",
    "x = rng.standard_normal(8)\n",
    "y = rng.standard_normal(8)\n",
    "x"
   ]
  },
  {
   "cell_type": "code",
   "execution_count": 12,
   "id": "4033427d-980a-4e51-a4f5-75ea040abe91",
   "metadata": {},
   "outputs": [
    {
     "data": {
      "text/plain": [
       "array([-0.46695317, -0.06068952,  0.78884434, -1.25666813,  0.57585751,\n",
       "        1.39897899,  1.32229806, -0.29969852])"
      ]
     },
     "execution_count": 12,
     "metadata": {},
     "output_type": "execute_result"
    }
   ],
   "source": [
    "y"
   ]
  },
  {
   "cell_type": "code",
   "execution_count": 13,
   "id": "bf0d379b-b385-4107-8256-740a16b0821d",
   "metadata": {},
   "outputs": [
    {
     "data": {
      "text/plain": [
       "array([-0.46695317,  0.6488928 ,  0.78884434, -1.25666813,  2.34740965,\n",
       "        1.39897899,  1.32229806,  0.90219827])"
      ]
     },
     "execution_count": 13,
     "metadata": {},
     "output_type": "execute_result"
    }
   ],
   "source": [
    "np.maximum(x, y)"
   ]
  },
  {
   "cell_type": "code",
   "execution_count": 14,
   "id": "0397f78e-6eb6-4929-b82b-f0a62a69e242",
   "metadata": {},
   "outputs": [
    {
     "data": {
      "text/plain": [
       "array([ 4.51459671, -8.10791367, -0.7909463 ,  2.24741966, -6.71800536,\n",
       "       -0.40843795,  8.62369966])"
      ]
     },
     "execution_count": 14,
     "metadata": {},
     "output_type": "execute_result"
    }
   ],
   "source": [
    "#返回多个数组  numpy.modf返回浮点数数组的小数部分和整数部分：\n",
    "arr = rng.standard_normal(7) * 5\n",
    "arr"
   ]
  },
  {
   "cell_type": "code",
   "execution_count": 15,
   "id": "a2b0cde4-6a51-4c37-80c9-17cc27a0f32b",
   "metadata": {},
   "outputs": [
    {
     "data": {
      "text/plain": [
       "array([ 0.51459671, -0.10791367, -0.7909463 ,  0.24741966, -0.71800536,\n",
       "       -0.40843795,  0.62369966])"
      ]
     },
     "execution_count": 15,
     "metadata": {},
     "output_type": "execute_result"
    }
   ],
   "source": [
    "remainder, whole_part = np.modf(arr)\n",
    "remainder"
   ]
  },
  {
   "cell_type": "code",
   "execution_count": 16,
   "id": "c7ddfa6c-9e68-4257-ba50-5a61cd68a442",
   "metadata": {},
   "outputs": [
    {
     "data": {
      "text/plain": [
       "array([ 4., -8., -0.,  2., -6., -0.,  8.])"
      ]
     },
     "execution_count": 16,
     "metadata": {},
     "output_type": "execute_result"
    }
   ],
   "source": [
    "whole_part"
   ]
  },
  {
   "cell_type": "markdown",
   "id": "cadf7d12-79e2-4dc4-832c-940e1c21d657",
   "metadata": {},
   "source": [
    "np.modf 函数用于取一个浮点数或一个浮点数数组，并返回两个数组：\n",
    "第一个数组包含数字的分数部分，第二个数组包含整数部分。\n",
    "remainder, whole_part：该函数返回两个数组，\n",
    "remainder 数组将包含 arr 中每个元素的分数部分，而 whole_part 数组将包含每个元素的整数部分。"
   ]
  },
  {
   "cell_type": "code",
   "execution_count": 17,
   "id": "ab64bdff-65eb-4f22-9fbe-a1693aecb28d",
   "metadata": {},
   "outputs": [
    {
     "data": {
      "text/plain": [
       "array([ 4.51459671, -8.10791367, -0.7909463 ,  2.24741966, -6.71800536,\n",
       "       -0.40843795,  8.62369966])"
      ]
     },
     "execution_count": 17,
     "metadata": {},
     "output_type": "execute_result"
    }
   ],
   "source": [
    "#ufunc可以接收一个out可选参数，这样就能对存在的数值直接赋值，而不必建立数组\n",
    "arr"
   ]
  },
  {
   "cell_type": "code",
   "execution_count": 18,
   "id": "899f7a08-9c24-48bb-aca5-60941ee63682",
   "metadata": {},
   "outputs": [
    {
     "data": {
      "text/plain": [
       "array([ 5.51459671, -7.10791367,  0.2090537 ,  3.24741966, -5.71800536,\n",
       "        0.59156205,  9.62369966])"
      ]
     },
     "execution_count": 18,
     "metadata": {},
     "output_type": "execute_result"
    }
   ],
   "source": [
    "out = np.zeros_like(arr)\n",
    "np.add(arr, 1)"
   ]
  },
  {
   "cell_type": "markdown",
   "id": "de0e1020-9e3f-4d8c-aa6a-f3c0469b5316",
   "metadata": {},
   "source": [
    "np.zeros_like(arr)：这个函数创建了一个与 arr 具有相同形状和数据类型的新的 NumPy 数组，并用零填充。\n",
    "换句话说，它创建了一个结构与 arr 相同但所有元素都设置为零的数组。\n",
    "out：这个变量存储了 np.zeros_like 函数调用的结果。\n",
    "现在它包含了一个 arr 的副本，所有元素都被设置为零。\n",
    "np.add(arr, 1)：这个函数执行 arr 和数组 1 的逐元素加法。\n",
    "arr 中的每个元素都加1，结果存储在 np.add 函数返回的数组中。\n",
    "如果没有人显式提供输出数组，np.add 默认返回修改后的输入数组。"
   ]
  },
  {
   "cell_type": "code",
   "execution_count": 19,
   "id": "3b701091-78bd-4db1-955a-99dd65171de4",
   "metadata": {},
   "outputs": [
    {
     "data": {
      "text/plain": [
       "array([ 5.51459671, -7.10791367,  0.2090537 ,  3.24741966, -5.71800536,\n",
       "        0.59156205,  9.62369966])"
      ]
     },
     "execution_count": 19,
     "metadata": {},
     "output_type": "execute_result"
    }
   ],
   "source": [
    "np.add(arr, 1, out=out)"
   ]
  },
  {
   "cell_type": "code",
   "execution_count": null,
   "id": "ef5fe799-dcec-490c-810c-debf9b5eb0e4",
   "metadata": {},
   "outputs": [],
   "source": [
    "out=out：这是 np.add 函数的一个参数，它告诉 NumPy 将加法操作的结果存储在变量 out 中。\n",
    "这意味着 out 数组将被修改，以包含 arr 每个元素加 1 后的结果。"
   ]
  },
  {
   "cell_type": "code",
   "execution_count": 36,
   "id": "1556273e-4cbd-41e5-951e-7a554f72f6fe",
   "metadata": {},
   "outputs": [
    {
     "data": {
      "text/plain": [
       "array([-2.41956609, -2.60418834,  6.60311408,  0.7259292 ,  0.58793138,\n",
       "        5.6799325 ,  7.19268562])"
      ]
     },
     "execution_count": 36,
     "metadata": {},
     "output_type": "execute_result"
    }
   ],
   "source": [
    "out"
   ]
  },
  {
   "cell_type": "markdown",
   "id": "5b5e84a0-b892-40a2-ac8c-7570d5ec5b4b",
   "metadata": {},
   "source": [
    "Numpy中的一元通用函数和二元通用函数\n",
    "\n",
    "![jupyter](./4.9.png)\n",
    "\n",
    "![jupyter](./4.10.png)\n",
    "\n",
    "![jupyter](./4.11.png)"
   ]
  },
  {
   "cell_type": "markdown",
   "id": "8e5f22ff-3262-45e1-a82b-4dfb6f598267",
   "metadata": {},
   "source": [
    "Numpy数组可以将许多数据处理任务表述为简洁的数组表达式，无需循环。\n",
    "数组表达式代替循环通常是向量化\n",
    "向量化数组运算要比纯python快得多，尤其计算"
   ]
  },
  {
   "cell_type": "code",
   "execution_count": 20,
   "id": "df69723e-60b8-4178-b848-881ea81d6686",
   "metadata": {},
   "outputs": [
    {
     "data": {
      "text/plain": [
       "array([[-5.  , -5.  , -5.  , ..., -5.  , -5.  , -5.  ],\n",
       "       [-4.99, -4.99, -4.99, ..., -4.99, -4.99, -4.99],\n",
       "       [-4.98, -4.98, -4.98, ..., -4.98, -4.98, -4.98],\n",
       "       ...,\n",
       "       [ 4.97,  4.97,  4.97, ...,  4.97,  4.97,  4.97],\n",
       "       [ 4.98,  4.98,  4.98, ...,  4.98,  4.98,  4.98],\n",
       "       [ 4.99,  4.99,  4.99, ...,  4.99,  4.99,  4.99]])"
      ]
     },
     "execution_count": 20,
     "metadata": {},
     "output_type": "execute_result"
    }
   ],
   "source": [
    "#利用数组进行面向数组编程\n",
    "#在一组网格数据上计算函数sqrt(x^2+y^2).  \n",
    "#numpy.meshgrid函数接收两个一维数组，并产生两个二维矩阵，对应于两个数组中所有的(x, y)对：\n",
    "points = np.arange(-5, 5, 0.01)\n",
    "xs, ys = np.meshgrid(points, points)\n",
    "ys"
   ]
  },
  {
   "cell_type": "markdown",
   "id": "80c7c41e-4346-4add-9a9e-27d1b770d3ff",
   "metadata": {},
   "source": [
    "np.meshgrid(points, points)：这个 NumPy 函数会创建两个二维矩阵，xs 和 ys。\n",
    "这两个矩阵分别是 points 矩阵的横坐标和纵坐标版本。\n",
    "np.meshgrid 会将 points 沿着第一个轴（行）和第二个轴（列）进行扩展，以生成两个网格。\n",
    "这两个网格对应于 points 中的每个点对，xs 中的每一行对应于 ys 中的每一列。"
   ]
  },
  {
   "cell_type": "code",
   "execution_count": 21,
   "id": "ed7aab8a-b547-43af-b442-22192abfc7c3",
   "metadata": {},
   "outputs": [
    {
     "data": {
      "text/plain": [
       "array([[7.07106781, 7.06400028, 7.05693985, ..., 7.04988652, 7.05693985,\n",
       "        7.06400028],\n",
       "       [7.06400028, 7.05692568, 7.04985815, ..., 7.04279774, 7.04985815,\n",
       "        7.05692568],\n",
       "       [7.05693985, 7.04985815, 7.04278354, ..., 7.03571603, 7.04278354,\n",
       "        7.04985815],\n",
       "       ...,\n",
       "       [7.04988652, 7.04279774, 7.03571603, ..., 7.0286414 , 7.03571603,\n",
       "        7.04279774],\n",
       "       [7.05693985, 7.04985815, 7.04278354, ..., 7.03571603, 7.04278354,\n",
       "        7.04985815],\n",
       "       [7.06400028, 7.05692568, 7.04985815, ..., 7.04279774, 7.04985815,\n",
       "        7.05692568]])"
      ]
     },
     "execution_count": 21,
     "metadata": {},
     "output_type": "execute_result"
    }
   ],
   "source": [
    "z = np.sqrt(xs ** 2 + ys ** 2)\n",
    "z"
   ]
  },
  {
   "cell_type": "code",
   "execution_count": 9,
   "id": "2f4897f1-0cf2-4e06-b296-6b044dc6b5ca",
   "metadata": {},
   "outputs": [
    {
     "data": {
      "text/plain": [
       "<matplotlib.image.AxesImage at 0x10cd3a6d0>"
      ]
     },
     "execution_count": 9,
     "metadata": {},
     "output_type": "execute_result"
    },
    {
     "data": {
      "image/png": "[encoded data removed]",
      "text/plain": [
       "<Figure size 640x480 with 1 Axes>"
      ]
     },
     "metadata": {},
     "output_type": "display_data"
    }
   ],
   "source": [
    "#网格上对函数求值的结果\n",
    "plt.imshow(z, cmap=plt.cm.gray, extent=[-5, 5, -5, 5])"
   ]
  },
  {
   "cell_type": "code",
   "execution_count": 22,
   "id": "046cad2d-3388-4335-8c65-ea2c6a6029db",
   "metadata": {},
   "outputs": [
    {
     "data": {
      "text/plain": [
       "[1.1, 2.2, 1.3, 1.4, 2.5]"
      ]
     },
     "execution_count": 22,
     "metadata": {},
     "output_type": "execute_result"
    }
   ],
   "source": [
    "#numpy.where函数是三元表达式\n",
    "#假设有一个bool数组和两个值数组\n",
    "xarr = np.array([1.1, 1.2, 1.3, 1.4, 1.5])\n",
    "yarr = np.array([2.1, 2.2, 2.3, 2.4, 2.5])\n",
    "cond = np.array([True, False, True, True, False])\n",
    "\n",
    "#根据cond中的值选取xarr和yarr的值，当cond中的值为True时，选取xarr的值，否则选yarr\n",
    "result = [(x if c else y)\n",
    "           for x, y , c in zip(xarr, yarr, cond)]\n",
    "result"
   ]
  },
  {
   "cell_type": "markdown",
   "id": "d51deec9-6c84-4d83-9999-f7c82178d3f3",
   "metadata": {},
   "source": [
    "代码缺点：对大数组处理速度慢，且无法用于多维\n",
    "(x if c else y)：这是一个条件表达式，也称为三元运算符。它是一个简洁的条件语句，形式为value_if_true if condition else value_if_false。在这个表达式中：\n",
    "如果c为True，则表达式的结果是x。\n",
    "如果c为False，则表达式的结果是y。\n",
    "if c:\n",
    "    result = x\n",
    "else:\n",
    "    result = y"
   ]
  },
  {
   "cell_type": "code",
   "execution_count": 23,
   "id": "5b72bfd1-7af0-45c4-a96f-f1d93ec4c738",
   "metadata": {},
   "outputs": [
    {
     "data": {
      "text/plain": [
       "array([1.1, 2.2, 1.3, 1.4, 2.5])"
      ]
     },
     "execution_count": 23,
     "metadata": {},
     "output_type": "execute_result"
    }
   ],
   "source": [
    "#用numpy.where则一次调用就可以执行\n",
    "result = np.where(cond, xarr, yarr)\n",
    "result"
   ]
  },
  {
   "cell_type": "markdown",
   "id": "d19e8f42-ab72-4c9c-9dd2-f9842b129dac",
   "metadata": {},
   "source": [
    "numpy.where(condition, x, y)\n",
    "condition是一个bool数组，指示哪些位置应该使用x，哪些位置应该使用y。\n",
    "x和y是任意形状的数组，用于指定在condition为True和False时的输出。\n",
    "np.where函数会返回一个数组，其中condition为True的位置使用x的值，为False的位置使用y的值。"
   ]
  },
  {
   "cell_type": "code",
   "execution_count": 24,
   "id": "b3e7f557-426c-4687-8661-613675b29f01",
   "metadata": {},
   "outputs": [
    {
     "data": {
      "text/plain": [
       "array([[ 2.61815943,  0.77736134,  0.8286332 , -0.95898831],\n",
       "       [-1.20938829, -1.41229201,  0.54154683,  0.7519394 ],\n",
       "       [-0.65876032, -1.22867499,  0.25755777,  0.31290292],\n",
       "       [-0.13081169,  1.26998312, -0.09296246, -0.06615089]])"
      ]
     },
     "execution_count": 24,
     "metadata": {},
     "output_type": "execute_result"
    }
   ],
   "source": [
    "#用处：where常用于根据另一个数组而产生一个新的数组。\n",
    "#假设有一个随机数据生成的矩阵，希望所有正值替换为2，所有负值替换为-2\n",
    "arr = rng.standard_normal((4, 4))\n",
    "arr"
   ]
  },
  {
   "cell_type": "code",
   "execution_count": 25,
   "id": "899e58df-e782-41ce-b472-8176ddcc7673",
   "metadata": {},
   "outputs": [
    {
     "data": {
      "text/plain": [
       "array([[ True,  True,  True, False],\n",
       "       [False, False,  True,  True],\n",
       "       [False, False,  True,  True],\n",
       "       [False,  True, False, False]])"
      ]
     },
     "execution_count": 25,
     "metadata": {},
     "output_type": "execute_result"
    }
   ],
   "source": [
    "arr > 0"
   ]
  },
  {
   "cell_type": "code",
   "execution_count": 26,
   "id": "27a52f83-5aab-455a-b541-dc76c574d55a",
   "metadata": {},
   "outputs": [
    {
     "data": {
      "text/plain": [
       "array([[ 2,  2,  2, -2],\n",
       "       [-2, -2,  2,  2],\n",
       "       [-2, -2,  2,  2],\n",
       "       [-2,  2, -2, -2]])"
      ]
     },
     "execution_count": 26,
     "metadata": {},
     "output_type": "execute_result"
    }
   ],
   "source": [
    "np.where(arr > 0, 2, -2)"
   ]
  },
  {
   "cell_type": "code",
   "execution_count": 27,
   "id": "e8ee7be1-5f54-4e82-a59e-77f2162cee88",
   "metadata": {},
   "outputs": [
    {
     "data": {
      "text/plain": [
       "array([[ 2.        ,  2.        ,  2.        , -0.95898831],\n",
       "       [-1.20938829, -1.41229201,  2.        ,  2.        ],\n",
       "       [-0.65876032, -1.22867499,  2.        ,  2.        ],\n",
       "       [-0.13081169,  2.        , -0.09296246, -0.06615089]])"
      ]
     },
     "execution_count": 27,
     "metadata": {},
     "output_type": "execute_result"
    }
   ],
   "source": [
    "#可以将标量和数组结合起来，如可以替换arr中所有正值\n",
    "np.where(arr > 0, 2, arr)"
   ]
  },
  {
   "cell_type": "code",
   "execution_count": 28,
   "id": "f2356cfe-60eb-4615-9a68-f7ed3274ad04",
   "metadata": {},
   "outputs": [
    {
     "data": {
      "text/plain": [
       "array([[-1.10821447,  0.13595685,  1.34707776,  0.06114402],\n",
       "       [ 0.0709146 ,  0.43365454,  0.27748366,  0.53025239],\n",
       "       [ 0.53672097,  0.61835001, -0.79501746,  0.30003095],\n",
       "       [-1.60270159,  0.26679883, -1.26162378, -0.07127081],\n",
       "       [ 0.47404973, -0.41485376,  0.0977165 , -1.64041784]])"
      ]
     },
     "execution_count": 28,
     "metadata": {},
     "output_type": "execute_result"
    }
   ],
   "source": [
    "#sum、mean、std等聚合约减运算既作为数组的实例方法调用，又可以直接使用numpy\n",
    "arr = rng.standard_normal((5, 4))\n",
    "arr"
   ]
  },
  {
   "cell_type": "code",
   "execution_count": 29,
   "id": "6c7268ca-d5ee-433b-acce-97d11d1d9673",
   "metadata": {},
   "outputs": [
    {
     "data": {
      "text/plain": [
       "-0.08719744457434529"
      ]
     },
     "execution_count": 29,
     "metadata": {},
     "output_type": "execute_result"
    }
   ],
   "source": [
    "arr.mean()"
   ]
  },
  {
   "cell_type": "code",
   "execution_count": 30,
   "id": "2f0887fb-23bb-444e-9db2-33f5392598cf",
   "metadata": {},
   "outputs": [
    {
     "data": {
      "text/plain": [
       "-0.08719744457434529"
      ]
     },
     "execution_count": 30,
     "metadata": {},
     "output_type": "execute_result"
    }
   ],
   "source": [
    "np.mean(arr)"
   ]
  },
  {
   "cell_type": "code",
   "execution_count": 31,
   "id": "3ba19029-1ed0-4935-8ad6-d3df8709c22f",
   "metadata": {},
   "outputs": [
    {
     "data": {
      "text/plain": [
       "-1.743948891486906"
      ]
     },
     "execution_count": 31,
     "metadata": {},
     "output_type": "execute_result"
    }
   ],
   "source": [
    "arr.sum()"
   ]
  },
  {
   "cell_type": "code",
   "execution_count": 32,
   "id": "ddc786c5-303c-4892-b78e-bd74cef86264",
   "metadata": {},
   "outputs": [
    {
     "data": {
      "text/plain": [
       "array([ 0.10899104,  0.3280763 ,  0.16502112, -0.66719934, -0.37087634])"
      ]
     },
     "execution_count": 32,
     "metadata": {},
     "output_type": "execute_result"
    }
   ],
   "source": [
    "#mean和sum等函数可以接收一个axis可选参数，可以计算该轴上的统计值，最终是一个一维的低维数组\n",
    "arr.mean(axis=1)"
   ]
  },
  {
   "cell_type": "code",
   "execution_count": null,
   "id": "dec448a8-3231-4119-afaa-19226eebf837",
   "metadata": {},
   "outputs": [],
   "source": [
    "mean函数用于计算数组arr沿指定轴的平均值。当axis=1时，意味着我们要计算数组每一列的平均值。\n",
    "如果arr是一个二维数组，那么这将返回一个一维数组，其中包含了每一列的平均值。\n",
    "[[1, 2, 3],\n",
    " [4, 5, 6],\n",
    " [7, 8, 9]]\n",
    "arr.mean(axis=1)则返回\n",
    "[2., 5., 8.]\n",
    "这意味着第一列的平均值是2，第二列的平均值是5，第三列的平均值是8。"
   ]
  },
  {
   "cell_type": "code",
   "execution_count": 33,
   "id": "1cd759db-554b-4002-9a14-caade527b4f7",
   "metadata": {},
   "outputs": [
    {
     "data": {
      "text/plain": [
       "array([-1.62923076,  1.03990647, -0.33436331, -0.82026129])"
      ]
     },
     "execution_count": 33,
     "metadata": {},
     "output_type": "execute_result"
    }
   ],
   "source": [
    "arr.sum(axis=0)"
   ]
  },
  {
   "cell_type": "code",
   "execution_count": null,
   "id": "eba6aeb8-cfb3-4149-be1e-a94b28d3b8b4",
   "metadata": {},
   "outputs": [],
   "source": [
    "sum函数用于计算数组arr沿指定轴的总和。当axis=0时，意味着我们要计算数组每一行的总和。\n",
    "如果arr是一个二维数组，那么这将返回一个一维数组，其中包含了每一行的总和。\n",
    "[[1, 2, 3],\n",
    " [4, 5, 6],\n",
    " [7, 8, 9]]\n",
    "arr.mean(axis=1)则返回\n",
    "[12, 15, 18]\n",
    "这意味着第一行的总和是12，第二行的总和是15，第三行的总和是18。"
   ]
  },
  {
   "cell_type": "code",
   "execution_count": 34,
   "id": "c7f95bd6-9e56-41fa-bfcf-607ebac4d5cd",
   "metadata": {},
   "outputs": [
    {
     "data": {
      "text/plain": [
       "array([ 0.10899104,  0.3280763 ,  0.16502112, -0.66719934, -0.37087634])"
      ]
     },
     "execution_count": 34,
     "metadata": {},
     "output_type": "execute_result"
    }
   ],
   "source": [
    "#相同的，mean函数也可以接收可选参数，计算该轴上的值，最终结果是一个低一维的数组\n",
    "arr.mean(axis=1)"
   ]
  },
  {
   "cell_type": "markdown",
   "id": "2b604c90-361e-48e2-af0c-640a6b9e78c6",
   "metadata": {},
   "source": [
    "arr.mean(1)的意思是“计算行的平均值”，arr.sum(0)是“计算每列的和”"
   ]
  },
  {
   "cell_type": "code",
   "execution_count": 35,
   "id": "2e2383e4-86ce-4732-8776-9ec9f2186ef5",
   "metadata": {},
   "outputs": [
    {
     "data": {
      "text/plain": [
       "array([ 0,  1,  3,  6, 10, 15, 21, 28])"
      ]
     },
     "execution_count": 35,
     "metadata": {},
     "output_type": "execute_result"
    }
   ],
   "source": [
    "arr = np.array([0, 1, 2, 3, 4, 5, 6, 7,])\n",
    "arr.cumsum()"
   ]
  },
  {
   "cell_type": "code",
   "execution_count": null,
   "id": "f05e4401-2714-4e5f-928e-2e2ccd31d4a6",
   "metadata": {},
   "outputs": [],
   "source": [
    "cumsum和cumprod不会把数聚合起来，而是累加，产生一个由中间结果组成的数组\n",
    "多维数组中，累加函数cumsum返回的是同样大小的数组，但是可以在指定轴向上根据每个较低维度的切片进行部分聚类"
   ]
  },
  {
   "cell_type": "code",
   "execution_count": 36,
   "id": "02464552-c0ae-42b6-b19c-5f772ff3571f",
   "metadata": {},
   "outputs": [
    {
     "data": {
      "text/plain": [
       "array([[0, 1, 2],\n",
       "       [3, 4, 5],\n",
       "       [6, 7, 8]])"
      ]
     },
     "execution_count": 36,
     "metadata": {},
     "output_type": "execute_result"
    }
   ],
   "source": [
    "arr = np.array([[0, 1, 2], [3, 4, 5], [6, 7, 8]])\n",
    "arr"
   ]
  },
  {
   "cell_type": "code",
   "execution_count": 37,
   "id": "0c6dabc6-610a-4c76-9976-88065ef9cb08",
   "metadata": {},
   "outputs": [
    {
     "data": {
      "text/plain": [
       "array([[ 0,  1,  2],\n",
       "       [ 3,  5,  7],\n",
       "       [ 9, 12, 15]])"
      ]
     },
     "execution_count": 37,
     "metadata": {},
     "output_type": "execute_result"
    }
   ],
   "source": [
    "arr.cumsum(axis=0)"
   ]
  },
  {
   "cell_type": "markdown",
   "id": "5df047bf-804f-49aa-9942-465b2f492236",
   "metadata": {},
   "source": [
    "arr.cumsum(axis=0)计算的是（每行）竖着累加,0+3+6=9，1+4+7=12，2+5+8=15\n",
    "arr.cumsum(axis=1)计算的是（每列）横着加,0+1+2=3，3+4+5=12，6+7+8=21"
   ]
  },
  {
   "cell_type": "code",
   "execution_count": 38,
   "id": "8ef32a60-c32e-458d-8506-f7463bb5314b",
   "metadata": {},
   "outputs": [
    {
     "data": {
      "text/plain": [
       "array([[ 0,  1,  3],\n",
       "       [ 3,  7, 12],\n",
       "       [ 6, 13, 21]])"
      ]
     },
     "execution_count": 38,
     "metadata": {},
     "output_type": "execute_result"
    }
   ],
   "source": [
    "arr.cumsum(axis=1)"
   ]
  },
  {
   "cell_type": "markdown",
   "id": "d6ba5abd-e563-4401-95b6-e04faaeeb366",
   "metadata": {},
   "source": [
    "后期会大量用到此类方法\n",
    "\n",
    "![jupyter](./4.12.png)"
   ]
  },
  {
   "cell_type": "code",
   "execution_count": 39,
   "id": "47a16ca1-1fa4-4b0c-b4fd-2a5c1a2c57f8",
   "metadata": {},
   "outputs": [
    {
     "data": {
      "text/plain": [
       "48"
      ]
     },
     "execution_count": 39,
     "metadata": {},
     "output_type": "execute_result"
    }
   ],
   "source": [
    "#bool类型的用处：强制转换为0或1，利用sum求数组中正确的个数：\n",
    "arr = rng.standard_normal(100)\n",
    "(arr > 0).sum()"
   ]
  },
  {
   "cell_type": "code",
   "execution_count": 41,
   "id": "4cbcc26d-865c-4f2f-9302-370b4db92a15",
   "metadata": {},
   "outputs": [
    {
     "data": {
      "text/plain": [
       "52"
      ]
     },
     "execution_count": 41,
     "metadata": {},
     "output_type": "execute_result"
    }
   ],
   "source": [
    "(arr <= 0).sum()"
   ]
  },
  {
   "cell_type": "code",
   "execution_count": 43,
   "id": "ffec73b7-79a1-4f55-94b0-422e863eec9e",
   "metadata": {},
   "outputs": [
    {
     "data": {
      "text/plain": [
       "True"
      ]
     },
     "execution_count": 43,
     "metadata": {},
     "output_type": "execute_result"
    }
   ],
   "source": [
    "#bool类型还有any和all的用法，any用于检查存在一个或多个True\n",
    "#all则是检查数组中的所有值是否都为True\n",
    "#在非bool型数组中也可以用来判断，非0元素都为True\n",
    "bools = np.array([True, False, True, False])\n",
    "bools.any()"
   ]
  },
  {
   "cell_type": "code",
   "execution_count": 44,
   "id": "c36c6f53-2e0c-4395-b503-f51659dbb289",
   "metadata": {},
   "outputs": [
    {
     "data": {
      "text/plain": [
       "False"
      ]
     },
     "execution_count": 44,
     "metadata": {},
     "output_type": "execute_result"
    }
   ],
   "source": [
    "bools.all()"
   ]
  },
  {
   "cell_type": "code",
   "execution_count": 45,
   "id": "b5f6b728-02b9-4bfb-b21e-106c161bd71d",
   "metadata": {},
   "outputs": [
    {
     "data": {
      "text/plain": [
       "array([ 0.07726066, -0.68391322, -0.72083767,  1.12062282, -0.05481416,\n",
       "       -0.08241372])"
      ]
     },
     "execution_count": 45,
     "metadata": {},
     "output_type": "execute_result"
    }
   ],
   "source": [
    "#排序\n",
    "arr = rng.standard_normal(6)\n",
    "arr"
   ]
  },
  {
   "cell_type": "code",
   "execution_count": 47,
   "id": "11e74f5c-0db5-4367-b3fe-97cd7d4b629d",
   "metadata": {},
   "outputs": [
    {
     "data": {
      "text/plain": [
       "array([-0.72083767, -0.68391322, -0.08241372, -0.05481416,  0.07726066,\n",
       "        1.12062282])"
      ]
     },
     "execution_count": 47,
     "metadata": {},
     "output_type": "execute_result"
    }
   ],
   "source": [
    "arr.sort()\n",
    "arr"
   ]
  },
  {
   "cell_type": "code",
   "execution_count": 8,
   "id": "1e2621f9-c64e-4baf-85c4-e545597cae9d",
   "metadata": {},
   "outputs": [
    {
     "data": {
      "text/plain": [
       "array([[-1.3677927 ,  0.6488928 ,  0.36105811],\n",
       "       [-1.95286306,  2.34740965,  0.96849691],\n",
       "       [-0.75938718,  0.90219827, -0.46695317],\n",
       "       [-0.06068952,  0.78884434, -1.25666813],\n",
       "       [ 0.57585751,  1.39897899,  1.32229806]])"
      ]
     },
     "execution_count": 8,
     "metadata": {},
     "output_type": "execute_result"
    }
   ],
   "source": [
    "#多维数组可以在任何一个轴上对一维数组进行排序，只需要将轴编号传给sort即可\n",
    "arr = rng.standard_normal((5, 3))\n",
    "arr"
   ]
  },
  {
   "cell_type": "code",
   "execution_count": 10,
   "id": "8d5fb285-2f04-400d-9cef-fd544ac0dbbb",
   "metadata": {},
   "outputs": [
    {
     "data": {
      "text/plain": [
       "array([[-1.95286306,  0.6488928 , -1.25666813],\n",
       "       [-1.3677927 ,  0.78884434, -0.46695317],\n",
       "       [-0.75938718,  0.90219827,  0.36105811],\n",
       "       [-0.06068952,  1.39897899,  0.96849691],\n",
       "       [ 0.57585751,  2.34740965,  1.32229806]])"
      ]
     },
     "execution_count": 10,
     "metadata": {},
     "output_type": "execute_result"
    }
   ],
   "source": [
    "#对矩阵的列行进行排序\n",
    "arr.sort(axis=0)\n",
    "arr"
   ]
  },
  {
   "cell_type": "code",
   "execution_count": 12,
   "id": "9f200c67-0703-4dfc-b026-ed9e8eec5c91",
   "metadata": {},
   "outputs": [
    {
     "data": {
      "text/plain": [
       "array([[-1.95286306, -1.25666813,  0.6488928 ],\n",
       "       [-1.3677927 , -0.46695317,  0.78884434],\n",
       "       [-0.75938718,  0.36105811,  0.90219827],\n",
       "       [-0.06068952,  0.96849691,  1.39897899],\n",
       "       [ 0.57585751,  1.32229806,  2.34740965]])"
      ]
     },
     "execution_count": 12,
     "metadata": {},
     "output_type": "execute_result"
    }
   ],
   "source": [
    "arr.sort(axis=1)\n",
    "arr"
   ]
  },
  {
   "cell_type": "raw",
   "id": "242fe9bf-b10c-4c7e-8606-60fcec395e98",
   "metadata": {},
   "source": [
    "arr.sort(axis=0)是对列进行排序,arr.sort(axis=1)对行进行排序，若是arr.sort(axis=2)只能是在三位数组里使用，比如axis=0是x轴操作，axis=1为y轴操作，axis=2为z轴操作。"
   ]
  },
  {
   "cell_type": "code",
   "execution_count": 13,
   "id": "9b38f8af-c5e4-4b86-b6e9-258c1544ae9e",
   "metadata": {},
   "outputs": [
    {
     "data": {
      "text/plain": [
       "array([-10,  -3,   0,   1,   5,   7])"
      ]
     },
     "execution_count": 13,
     "metadata": {},
     "output_type": "execute_result"
    }
   ],
   "source": [
    "#numpy.sort返回的是已排序数组的副本，类似于py中的sorted，不是修改数组\n",
    "arr2 = np.array([5, -10, 7, 1, 0 ,-3])\n",
    "sorted_arr2 = np.sort(arr2)\n",
    "sorted_arr2"
   ]
  },
  {
   "cell_type": "code",
   "execution_count": 14,
   "id": "a9b8d81a-0f69-4ba6-92aa-415144e7b8ff",
   "metadata": {},
   "outputs": [
    {
     "data": {
      "text/plain": [
       "array([  5, -10,   7,   1,   0,  -3])"
      ]
     },
     "execution_count": 14,
     "metadata": {},
     "output_type": "execute_result"
    }
   ],
   "source": [
    "arr2"
   ]
  },
  {
   "cell_type": "markdown",
   "id": "f0f8be4b-fcc0-4cdd-8028-23e04d6b3c43",
   "metadata": {},
   "source": [
    "更多高级排序方法在numpy高级中"
   ]
  },
  {
   "cell_type": "code",
   "execution_count": 16,
   "id": "d1a561db-d3ad-4fe8-9ef1-d1514d636c54",
   "metadata": {},
   "outputs": [
    {
     "data": {
      "text/plain": [
       "array(['Bob', 'Joe', 'Will'], dtype='<U4')"
      ]
     },
     "execution_count": 16,
     "metadata": {},
     "output_type": "execute_result"
    }
   ],
   "source": [
    "#唯一化和其他集合逻辑   对一维数组的基本运算\n",
    "#np.unique,找出数组唯一值并返回已排序的结果\n",
    "names = np.array(['Bob', \"Will\", \"Joe\", \"Bob\", \"Will\", \"Joe\", \"Joe\"])\n",
    "np.unique(names)"
   ]
  },
  {
   "cell_type": "markdown",
   "id": "5765660e-0159-404b-af16-70c215bfa7e4",
   "metadata": {},
   "source": [
    "dtype='<U4'表示这个数组中的字符串长度都小于4，并且返回的结果都是按字符串长度进行排序"
   ]
  },
  {
   "cell_type": "code",
   "execution_count": 17,
   "id": "a2f12abf-4133-42e7-83cf-1eb3a12c962b",
   "metadata": {},
   "outputs": [
    {
     "data": {
      "text/plain": [
       "array([1, 2, 3, 4])"
      ]
     },
     "execution_count": 17,
     "metadata": {},
     "output_type": "execute_result"
    }
   ],
   "source": [
    "ints = np.array([3, 3, 2, 2, 1, 1, 4, 4])\n",
    "np.unique(ints)"
   ]
  },
  {
   "cell_type": "code",
   "execution_count": 20,
   "id": "2d550e53-f38d-4b7e-92ec-c6b89dd84f25",
   "metadata": {},
   "outputs": [
    {
     "data": {
      "text/plain": [
       "{'Bob', 'Joe', 'Will'}"
      ]
     },
     "execution_count": 20,
     "metadata": {},
     "output_type": "execute_result"
    }
   ],
   "source": [
    "#numpy和等价的纯py进行对比\n",
    "set(names)"
   ]
  },
  {
   "cell_type": "code",
   "execution_count": 21,
   "id": "56a9e84d-886c-4b92-815e-e72699dcbafc",
   "metadata": {},
   "outputs": [
    {
     "data": {
      "text/plain": [
       "['Bob', 'Joe', 'Will']"
      ]
     },
     "execution_count": 21,
     "metadata": {},
     "output_type": "execute_result"
    }
   ],
   "source": [
    "sorted(set(names))"
   ]
  },
  {
   "cell_type": "markdown",
   "id": "3f79edc4-afe3-4412-ad2e-3223694bd0e9",
   "metadata": {},
   "source": [
    "set函数用于创建一个无序且不重复的集合，set还会将数组转化为集合\n",
    "numpy更快，并且返回的是一个数组而非py列表"
   ]
  },
  {
   "cell_type": "code",
   "execution_count": 22,
   "id": "93379786-bb32-4290-9cce-ccbc13545751",
   "metadata": {},
   "outputs": [
    {
     "data": {
      "text/plain": [
       "array([ True, False, False,  True,  True, False,  True])"
      ]
     },
     "execution_count": 22,
     "metadata": {},
     "output_type": "execute_result"
    }
   ],
   "source": [
    "#numpy.in1d\n",
    "values = np.array([6, 0, 0, 3, 2, 5, 6])\n",
    "np.in1d(values, [2, 3, 6])"
   ]
  },
  {
   "cell_type": "markdown",
   "id": "d2dcff71-4231-4c4f-90fd-b7eb3fae66bd",
   "metadata": {},
   "source": [
    "numpy.in1d用于检查一个数组中的值是否在另一个数组中，并返回一个bool型数组\n",
    "\n",
    "numpy的数组集合函数：\n",
    "\n",
    "![jupyter](./4.13.png)"
   ]
  },
  {
   "cell_type": "code",
   "execution_count": 23,
   "id": "add4f6b4-4b5a-4af9-8396-c65cb678871d",
   "metadata": {},
   "outputs": [],
   "source": [
    "#用数组进行文件输入输出\n",
    "#numpy.save 和 numpy.load是读写磁盘数组的两个主要函数。一般都是以未压缩的二进制存储在.npy的文件中\n",
    "arr = np.arange(10)\n",
    "np.save(\"some_array\", arr)"
   ]
  },
  {
   "cell_type": "markdown",
   "id": "96eacd2c-2581-4800-a487-061486e83761",
   "metadata": {},
   "source": [
    "文件末尾没有扩展名.npy，则该扩展名会自动加上，然后就可以通过np.load读取磁盘上的数组了"
   ]
  },
  {
   "cell_type": "code",
   "execution_count": 24,
   "id": "fbf9d65e-6f6a-44e6-ad97-8568286b77a2",
   "metadata": {},
   "outputs": [
    {
     "data": {
      "text/plain": [
       "array([0, 1, 2, 3, 4, 5, 6, 7, 8, 9])"
      ]
     },
     "execution_count": 24,
     "metadata": {},
     "output_type": "execute_result"
    }
   ],
   "source": [
    "np.load(\"some_array.npy\")"
   ]
  },
  {
   "cell_type": "code",
   "execution_count": 25,
   "id": "9233b687-7cb3-4342-8f72-95867dcf19cf",
   "metadata": {},
   "outputs": [
    {
     "data": {
      "text/plain": [
       "array([0, 1, 2, 3, 4, 5, 6, 7, 8, 9])"
      ]
     },
     "execution_count": 25,
     "metadata": {},
     "output_type": "execute_result"
    }
   ],
   "source": [
    "#numpy.savez 可以将多个数组保存到一个未压缩的文件中，将数组以关键字参数的形式传入即可\n",
    "np.savez(\"array_archive.npz\", a=arr, b=arr)\n",
    "arch = np.load(\"array_archive.npz\")\n",
    "arch[\"b\"]"
   ]
  },
  {
   "cell_type": "markdown",
   "id": "0f612204-2f14-4253-a8cd-a53cca9224a0",
   "metadata": {},
   "source": [
    "np.savez 函数用于将多个 NumPy 数组保存到单个压缩文件中，每个数组可以作为一个字典条目。\n",
    "这样的文件通常以 .npz 扩展名结尾。\n",
    "np.savez(\"array_archive.npz\", a=arr, b=arr)\n",
    "创建了一个名为 array_archive.npz 的文件，其中包含了两个数组 a 和 b。\n",
    "这两个数组被存储在文件的字典中，其中 a 和 b 是键，对应的数组值是值。\n",
    "arch 变量是一个字典，它的键是之前存储的键（在这个例子中是 'a' 和 'b'），而值是对应的数组。\n",
    "当执行 arch[\"b\"] 时，你实际上是在获取之前存储为 'b' 的数组。\n",
    "所以前面定义了arr = np.arange(10)，此时arr数组就是现在输出的结果\n",
    "即arch[\"b\"] 表示加载自 .npz 文件的键为 'b' 的数组。\n",
    "若是在此时定义为b_loaded = arch[\"b\"]，对b_loaded进行修改不会对原数组进行破坏，这个数组对于原数组arr是独立的"
   ]
  },
  {
   "cell_type": "code",
   "execution_count": 27,
   "id": "33e4a613-ad51-4b00-b456-443f027be0e5",
   "metadata": {},
   "outputs": [],
   "source": [
    "#如果要将数据存入已压缩的文件，可以使用numpy.save_compressed\n",
    "np.savez_compressed(\"arrays_compressed.npz\", a=arr, b=arr)"
   ]
  },
  {
   "cell_type": "code",
   "execution_count": null,
   "id": "f1b8e11c-bc28-4795-8244-61446eb11758",
   "metadata": {},
   "outputs": [],
   "source": []
  }
 ],
 "metadata": {
  "kernelspec": {
   "display_name": "Python 3 (ipykernel)",
   "language": "python",
   "name": "python3"
  },
  "language_info": {
   "codemirror_mode": {
    "name": "ipython",
    "version": 3
   },
   "file_extension": ".py",
   "mimetype": "text/x-python",
   "name": "python",
   "nbconvert_exporter": "python",
   "pygments_lexer": "ipython3",
   "version": "3.11.7"
  }
 },
 "nbformat": 4,
 "nbformat_minor": 5
}
