{
 "cells": [
  {
   "cell_type": "code",
   "execution_count": 1,
   "id": "657f9c95-f23d-4e88-bed0-6359f1a94ea1",
   "metadata": {},
   "outputs": [],
   "source": [
    "import random\n",
    "import numpy as np\n",
    "import matplotlib.pyplot as plt\n",
    "from random import normalvariate\n",
    "from numpy.linalg import inv, qr\n",
    "rng = np.random.default_rng(seed=12345)"
   ]
  },
  {
   "cell_type": "markdown",
   "id": "e80072a3-777b-4e8b-8fd4-dead1eeb3972",
   "metadata": {},
   "source": [
    "rng = np.random.default_rng(seed=12345)\n",
    "seed是种子的意思，是一个拟定的特定值，设置了一个种子值后，随机数生成器会根据这个种子值开始生成一系列伪随机数。如果你每次都使用同一个种子值，随机数生成器将会产生相同的序列的随机数\n",
    "设立种子数的意义：\n",
    "1.在模拟实验或测试中，你可能需要重复相同的随机数序列，以便在不同运行之间进行比较。设置一个固定的种子值可以确保这一点。\n",
    "2.在游戏开发中，你可能希望每次玩家的游戏体验都是相同的，或者至少在某些方面保持一致。通过设置相同的种子值，你可以实现这一点。\n",
    "3.在数据分析中，你可能需要在多次运行相同算法时得到相同的结果，以便进行可靠的比较和验证。设置种子值可以确保这一点。\n",
    "4.在机器学习中，当你需要在一个批次中多次运行模型时，你可能希望得到相同的随机权重初始化，以便批次内的结果是一致的。设置种子值可以帮助实现这一点。\n",
    "在现在的环境中需要每次都相同序列的随机数才设定的seed为12345"
   ]
  },
  {
   "cell_type": "code",
   "execution_count": 2,
   "id": "319814ed-f69f-4d21-b63c-a6f3269be7bb",
   "metadata": {},
   "outputs": [
    {
     "data": {
      "text/plain": [
       "array([[1., 2., 3.],\n",
       "       [4., 5., 6.]])"
      ]
     },
     "execution_count": 2,
     "metadata": {},
     "output_type": "execute_result"
    }
   ],
   "source": [
    "#线代  dot函数\n",
    "x = np.array([[1., 2., 3.], [4., 5., 6.]])\n",
    "y = np.array([[6., 23.], [-1., 7], [8, 9]])\n",
    "x"
   ]
  },
  {
   "cell_type": "code",
   "execution_count": 3,
   "id": "681abd92-fb59-4c6d-aaa8-ae8b9befc4b9",
   "metadata": {},
   "outputs": [
    {
     "data": {
      "text/plain": [
       "array([[ 6., 23.],\n",
       "       [-1.,  7.],\n",
       "       [ 8.,  9.]])"
      ]
     },
     "execution_count": 3,
     "metadata": {},
     "output_type": "execute_result"
    }
   ],
   "source": [
    "y"
   ]
  },
  {
   "cell_type": "code",
   "execution_count": 4,
   "id": "4c932630-dff6-41e2-b938-60e4ba4150db",
   "metadata": {},
   "outputs": [
    {
     "data": {
      "text/plain": [
       "array([[ 28.,  64.],\n",
       "       [ 67., 181.]])"
      ]
     },
     "execution_count": 4,
     "metadata": {},
     "output_type": "execute_result"
    }
   ],
   "source": [
    "x.dot(y)"
   ]
  },
  {
   "cell_type": "code",
   "execution_count": 5,
   "id": "d07cf343-9bb0-4307-bfd3-4e3744a169c7",
   "metadata": {},
   "outputs": [
    {
     "data": {
      "text/plain": [
       "array([[ 28.,  64.],\n",
       "       [ 67., 181.]])"
      ]
     },
     "execution_count": 5,
     "metadata": {},
     "output_type": "execute_result"
    }
   ],
   "source": [
    "np.dot(x, y)"
   ]
  },
  {
   "cell_type": "markdown",
   "id": "0658f2c2-c1c7-4d62-a928-b3ce49bfe185",
   "metadata": {},
   "source": [
    "x.dot(y)等价于np.dot(x, y)，是2✖️3与3✖️2的矩阵相乘，最终是2✖️2的矩阵"
   ]
  },
  {
   "cell_type": "code",
   "execution_count": 14,
   "id": "760a8569-6595-4d43-9373-2a826dea1ca5",
   "metadata": {},
   "outputs": [
    {
     "data": {
      "text/plain": [
       "array([ 6., 15.])"
      ]
     },
     "execution_count": 14,
     "metadata": {},
     "output_type": "execute_result"
    }
   ],
   "source": [
    "#二维数组跟一个大小合适的一维数组的矩阵点积运算会得到一维数组\n",
    "#x\n",
    "x @ np.ones(3)"
   ]
  },
  {
   "cell_type": "markdown",
   "id": "7e6d296f-0ce6-482e-b1b8-f5c88af519c8",
   "metadata": {},
   "source": [
    "@ 运算符用于矩阵乘法，也称为点积。\n",
    "x 是一个 2x3 的矩阵，形状是 (2, 3)\n",
    "np.ones(3) 是一个一维数组，形状是 (3,)\n",
    "一维数组在做矩阵乘法时会被认定为列向量\n",
    "np.ones(3) 有 3 个元素，等价于一个形状为 (3, 1) 的列向量。\n",
    "所以2x3 与 3x1 的矩阵相乘为 2x1 的矩阵，即将x中的每行相加，最后得到[6, 15]"
   ]
  },
  {
   "cell_type": "code",
   "execution_count": 15,
   "id": "80ccb608-2c8d-40a8-9177-403a00aae54b",
   "metadata": {},
   "outputs": [
    {
     "data": {
      "text/plain": [
       "array([1., 1., 1.])"
      ]
     },
     "execution_count": 15,
     "metadata": {},
     "output_type": "execute_result"
    }
   ],
   "source": [
    "#为证明np.ones()的用法\n",
    "test = np.ones(3)\n",
    "test"
   ]
  },
  {
   "cell_type": "code",
   "execution_count": 16,
   "id": "00ea8da6-c222-40a4-9d1d-83b118cd6024",
   "metadata": {},
   "outputs": [
    {
     "data": {
      "text/plain": [
       "array([[1.],\n",
       "       [1.],\n",
       "       [1.]])"
      ]
     },
     "execution_count": 16,
     "metadata": {},
     "output_type": "execute_result"
    }
   ],
   "source": [
    "test1 = np.ones((3, 1))\n",
    "#三行一列\n",
    "test1"
   ]
  },
  {
   "cell_type": "code",
   "execution_count": 17,
   "id": "8b5d586b-d26b-46e7-917f-f5bb71582ee2",
   "metadata": {},
   "outputs": [
    {
     "data": {
      "text/plain": [
       "array([[ 6.],\n",
       "       [15.]])"
      ]
     },
     "execution_count": 17,
     "metadata": {},
     "output_type": "execute_result"
    }
   ],
   "source": [
    "x @ test1"
   ]
  },
  {
   "cell_type": "markdown",
   "id": "07c71b09-dbbc-4ac1-aca0-a9289abab146",
   "metadata": {},
   "source": [
    "x @ np.ones((3, 1)) 与 x @ np.ones(3) 的结果在形状上是不同的，但在数值上是相同的。\n",
    "x @ np.ones(3):\n",
    "x 是一个 (2, 3) 形状的矩阵。\n",
    "np.ones(3) 是一个 (3,) 形状的一维数组。\n",
    "矩阵乘法结果是一个形状为 (2,) 的一维数组。\n",
    "\n",
    "x @ np.ones((3, 1)):\n",
    "x 仍然是一个 (2, 3) 形状的矩阵。\n",
    "np.ones((3, 1)) 是一个 (3, 1) 形状的二维列向量。\n",
    "矩阵乘法结果是一个形状为 (2, 1) 的二维数组。\n",
    "\n",
    "两个数值相同，但形状不同，一个是一维数组，一个是二维数组"
   ]
  },
  {
   "cell_type": "code",
   "execution_count": 50,
   "id": "d28b8586-16e1-4d32-a867-6f9f5bbcbe34",
   "metadata": {},
   "outputs": [],
   "source": [
    "#numpy.linalg中有一组标准的矩阵分解运算以及求逆和求行列式方法：\n",
    "rng = np.random.default_rng(seed=12345)\n",
    "X = rng.standard_normal((5, 5))\n",
    "mat = X.T @ X"
   ]
  },
  {
   "cell_type": "code",
   "execution_count": 51,
   "id": "b7772c80-c9b6-41d0-bf0e-773539aaa7f3",
   "metadata": {},
   "outputs": [
    {
     "data": {
      "text/plain": [
       "array([[ 9.83867527,  1.04334204,  0.24651754,  0.04017965,  0.16391486],\n",
       "       [ 1.04334204,  5.11794735, -3.98521413,  0.99264687,  3.27464142],\n",
       "       [ 0.24651754, -3.98521413,  4.15026075, -2.41299778, -2.74788646],\n",
       "       [ 0.04017965,  0.99264687, -2.41299778,  3.97263789, -0.04472489],\n",
       "       [ 0.16391486,  3.27464142, -2.74788646, -0.04472489,  6.01956209]])"
      ]
     },
     "execution_count": 51,
     "metadata": {},
     "output_type": "execute_result"
    }
   ],
   "source": [
    "mat"
   ]
  },
  {
   "cell_type": "code",
   "execution_count": 52,
   "id": "6eebd3bd-c90f-430a-b21d-1ad292e1c010",
   "metadata": {},
   "outputs": [
    {
     "data": {
      "text/plain": [
       "array([[ 0.15548538, -0.36723081, -0.52638547, -0.2300642 , -0.04646089],\n",
       "       [-0.36723081,  2.54917814,  3.47827334,  1.48196722,  0.22206454],\n",
       "       [-0.52638547,  3.47827334,  5.46389554,  2.46214396,  0.63467543],\n",
       "       [-0.2300642 ,  1.48196722,  2.46214396,  1.38302896,  0.33430132],\n",
       "       [-0.04646089,  0.22206454,  0.63467543,  0.33430132,  0.33879566]])"
      ]
     },
     "execution_count": 52,
     "metadata": {},
     "output_type": "execute_result"
    }
   ],
   "source": [
    "inv(mat)"
   ]
  },
  {
   "cell_type": "markdown",
   "id": "a4688bb4-7306-4582-966d-5d3182d63a0c",
   "metadata": {},
   "source": [
    "成一个5x5的矩阵X，其中包含从标准正态分布（均值为0，方差为1）中抽取的随机数。\n",
    "然后，您想要计算矩阵X的转置X.T与矩阵X的乘积，接着求得该乘积的逆矩阵。\n",
    "inv函数是要求矩阵的逆矩阵，具体用法为numpy.linalg.inv(a)"
   ]
  },
  {
   "cell_type": "code",
   "execution_count": 49,
   "id": "80e14c37-7f78-42cf-9d16-2f05541649e4",
   "metadata": {},
   "outputs": [
    {
     "data": {
      "text/plain": [
       "array([[ 1.00000000e+00,  2.21850121e-16, -1.69485486e-16,\n",
       "         1.69587246e-16, -1.96317601e-17],\n",
       "       [ 1.60901152e-16,  1.00000000e+00,  9.88009619e-16,\n",
       "        -6.00171811e-16, -4.67042211e-16],\n",
       "       [-1.05685721e-16, -4.58539906e-16,  1.00000000e+00,\n",
       "        -5.98139876e-17,  3.00070289e-16],\n",
       "       [-2.38572202e-16,  9.90852676e-16,  2.03861339e-15,\n",
       "         1.00000000e+00,  3.28769669e-16],\n",
       "       [-1.60460765e-20, -4.35123959e-16,  8.16184502e-16,\n",
       "        -3.70787804e-16,  1.00000000e+00]])"
      ]
     },
     "execution_count": 49,
     "metadata": {},
     "output_type": "execute_result"
    }
   ],
   "source": [
    "#为了验证inv(mat)是mat的逆矩阵\n",
    "mat @ inv(mat)"
   ]
  },
  {
   "cell_type": "code",
   "execution_count": 53,
   "id": "ccd7a8e4-cbe9-4db5-a71a-52944f03b848",
   "metadata": {},
   "outputs": [
    {
     "name": "stdout",
     "output_type": "stream",
     "text": [
      "可逆\n"
     ]
    }
   ],
   "source": [
    "#求出来并不是E矩阵，判断矩阵是否可逆：\n",
    "rank = np.linalg.matrix_rank(mat)\n",
    "if rank == mat.shape[0]:\n",
    "    print(\"可逆\")\n",
    "else:\n",
    "    print(\"不可逆\")"
   ]
  },
  {
   "cell_type": "code",
   "execution_count": 54,
   "id": "53386923-43a1-4b6a-ad49-3c787cab567b",
   "metadata": {},
   "outputs": [
    {
     "data": {
      "text/plain": [
       "array([[ 1.00000000e+00,  2.21850121e-16, -1.69485486e-16,\n",
       "         1.69587246e-16, -1.96317601e-17],\n",
       "       [ 1.60901152e-16,  1.00000000e+00,  9.88009619e-16,\n",
       "        -6.00171811e-16, -4.67042211e-16],\n",
       "       [-1.05685721e-16, -4.58539906e-16,  1.00000000e+00,\n",
       "        -5.98139876e-17,  3.00070289e-16],\n",
       "       [-2.38572202e-16,  9.90852676e-16,  2.03861339e-15,\n",
       "         1.00000000e+00,  3.28769669e-16],\n",
       "       [-1.60460765e-20, -4.35123959e-16,  8.16184502e-16,\n",
       "        -3.70787804e-16,  1.00000000e+00]])"
      ]
     },
     "execution_count": 54,
     "metadata": {},
     "output_type": "execute_result"
    }
   ],
   "source": [
    "mat @ inv(mat)"
   ]
  },
  {
   "cell_type": "markdown",
   "id": "4cdd9136-50bf-4848-8ee0-6709dd6f9a2c",
   "metadata": {},
   "source": [
    "为什么相乘后还不是E矩阵？下面自己做个测试，用一个2✖️2的简单矩阵做测试"
   ]
  },
  {
   "cell_type": "code",
   "execution_count": 61,
   "id": "8b2967f0-f2ae-491c-82c5-1914b73fe02c",
   "metadata": {},
   "outputs": [
    {
     "data": {
      "text/plain": [
       "array([[-0.42362502,  0.58177077],\n",
       "       [-0.78045105,  0.64427673]])"
      ]
     },
     "execution_count": 61,
     "metadata": {},
     "output_type": "execute_result"
    }
   ],
   "source": [
    "omg = np.random.default_rng(seed=12138)\n",
    "Y = omg.standard_normal((2, 2))\n",
    "Y"
   ]
  },
  {
   "cell_type": "code",
   "execution_count": 62,
   "id": "b8422fc9-35cc-424b-a991-6438361988c7",
   "metadata": {},
   "outputs": [
    {
     "data": {
      "text/plain": [
       "array([[ 1.00000000e+00, -2.52189111e-18],\n",
       "       [ 1.33439566e-16,  1.00000000e+00]])"
      ]
     },
     "execution_count": 62,
     "metadata": {},
     "output_type": "execute_result"
    }
   ],
   "source": [
    "Y @ inv(Y)"
   ]
  },
  {
   "cell_type": "code",
   "execution_count": 57,
   "id": "a18f7490-6700-4a4d-a6d9-b8816d2bd8ec",
   "metadata": {},
   "outputs": [],
   "source": [
    "mbt = Y.T @ Y"
   ]
  },
  {
   "cell_type": "code",
   "execution_count": 59,
   "id": "665a3396-94ce-49d7-834b-8041a7a51dbe",
   "metadata": {},
   "outputs": [
    {
     "data": {
      "text/plain": [
       "array([[22.97302018, 22.84282404],\n",
       "       [22.84282404, 24.04041819]])"
      ]
     },
     "execution_count": 59,
     "metadata": {},
     "output_type": "execute_result"
    }
   ],
   "source": [
    "inv(mbt)"
   ]
  },
  {
   "cell_type": "code",
   "execution_count": 63,
   "id": "c275d545-1b78-4102-9adc-fbc52def6b9a",
   "metadata": {},
   "outputs": [
    {
     "data": {
      "text/plain": [
       "array([[ 1.00000000e+00, -1.29632889e-15],\n",
       "       [ 5.86441932e-16,  1.00000000e+00]])"
      ]
     },
     "execution_count": 63,
     "metadata": {},
     "output_type": "execute_result"
    }
   ],
   "source": [
    "mbt @ inv(mbt)"
   ]
  },
  {
   "cell_type": "markdown",
   "id": "f654ee68-3d27-40e9-a636-7218dd0a8d02",
   "metadata": {},
   "source": [
    "此时，我终于知道为什么了，因为后面的数字没有看到，比如5.86441932e-16，后面的-16\n",
    "首先，5.86441932是系数，后面的e-16是10的-16次方，也就是小数点左移16位，0.000000000000000586441932，是无限逼近于0的，所以主对角线是1，其余的全为0的E矩阵符合预期"
   ]
  },
  {
   "cell_type": "code",
   "execution_count": 64,
   "id": "0558935d-0f11-44a2-8be8-621c6280c13a",
   "metadata": {},
   "outputs": [
    {
     "data": {
      "text/plain": [
       "array([[ 9.83867527,  1.04334204,  0.24651754,  0.04017965,  0.16391486],\n",
       "       [ 1.04334204,  5.11794735, -3.98521413,  0.99264687,  3.27464142],\n",
       "       [ 0.24651754, -3.98521413,  4.15026075, -2.41299778, -2.74788646],\n",
       "       [ 0.04017965,  0.99264687, -2.41299778,  3.97263789, -0.04472489],\n",
       "       [ 0.16391486,  3.27464142, -2.74788646, -0.04472489,  6.01956209]])"
      ]
     },
     "execution_count": 64,
     "metadata": {},
     "output_type": "execute_result"
    }
   ],
   "source": [
    "#计算X和它转置X.T的点积\n",
    "X.T.dot(X)"
   ]
  },
  {
   "cell_type": "markdown",
   "id": "06482da5-20d2-448b-b691-95cc23183ece",
   "metadata": {},
   "source": [
    "常用的线性代数函数有：\n",
    "\n",
    "![jupyter](4.14.png)"
   ]
  },
  {
   "cell_type": "code",
   "execution_count": 67,
   "id": "71a8d031-c6b4-4bc7-8650-38ac003f527c",
   "metadata": {},
   "outputs": [
    {
     "data": {
      "text/plain": [
       "[<matplotlib.lines.Line2D at 0x126089210>]"
      ]
     },
     "execution_count": 67,
     "metadata": {},
     "output_type": "execute_result"
    },
    {
     "data": {
      "image/png": "[encoded data removed]",
      "text/plain": [
       "<Figure size 640x480 with 1 Axes>"
      ]
     },
     "metadata": {},
     "output_type": "display_data"
    }
   ],
   "source": [
    "#随机漫步\n",
    "position = 0\n",
    "walk = [position]\n",
    "nsteps = 1000\n",
    "for _ in range(nsteps):\n",
    "    step = 1 if random.randint(0, 1) else -1\n",
    "    position += step\n",
    "    walk.append(position)\n",
    "\n",
    "plt.plot(walk[:100])"
   ]
  },
  {
   "cell_type": "code",
   "execution_count": null,
   "id": "729a5be5-09ab-4bfd-b4d3-2ed61cd41c2a",
   "metadata": {},
   "outputs": [],
   "source": [
    "walk = [position] 是在 Python 中的一种列表初始化方法。\n",
    "walk是一个变量，被定义为一个列表（list）\n",
    "这个列表在初始化时包含一个元素，即position\n",
    "假设 position 是一个已有的变量，它的值会作为列表中的第一个元素。例如：\n",
    "position = 5\n",
    "walk = [position]\n",
    "在这个例子中，walk 将是一个包含数字 5 的列表：\n",
    "walk = [5]，之后可以对 walk 列表进行各种操作，比如添加、删除元素等。"
   ]
  },
  {
   "cell_type": "code",
   "execution_count": null,
   "id": "7fb857e1-060d-4813-8365-5592ac338d6f",
   "metadata": {},
   "outputs": [],
   "source": [
    "而for _ in range(nsteps): 是 Python 中一种常见的循环结构。\n",
    "它的作用是让循环体的代码执行 nsteps 次\n",
    "range(nsteps) 生成一个从 0 到 nsteps-1 的序列。这个序列中的每一个数字代表一次循环迭代。\n",
    "for _ in ...: 是一个 for 循环结构，用于遍历序列中的每一个元素。\n",
    "这里的 _ 是一个惯例用法，表示循环变量的值不会在循环体内使用。\n",
    "使用 _ 来表明该变量只是为了满足语法需求，而不会被实际使用。"
   ]
  },
  {
   "cell_type": "code",
   "execution_count": 2,
   "id": "002424bc-4c7d-4aa7-9d7a-d35b201ad6ca",
   "metadata": {},
   "outputs": [
    {
     "data": {
      "text/plain": [
       "-8"
      ]
     },
     "execution_count": 2,
     "metadata": {},
     "output_type": "execute_result"
    }
   ],
   "source": [
    "#walk其实是随机漫步的累积和，可以用一个数组表达式实现。\n",
    "#\n",
    "nsteps = 1000\n",
    "rng = np.random.default_rng(seed=12345)\n",
    "draws = rng.integers(0, 2, size=nsteps)\n",
    "steps = np.where(draws == 0, 1, -1)\n",
    "walk = steps.cumsum()\n",
    "\n",
    "walk.min()"
   ]
  },
  {
   "cell_type": "code",
   "execution_count": 3,
   "id": "582b7348-4df8-405c-96ad-04a2767607df",
   "metadata": {},
   "outputs": [
    {
     "data": {
      "text/plain": [
       "50"
      ]
     },
     "execution_count": 3,
     "metadata": {},
     "output_type": "execute_result"
    }
   ],
   "source": [
    "walk.max()"
   ]
  },
  {
   "cell_type": "markdown",
   "id": "b1f03474-0ff1-4425-ac85-4d7de9075c45",
   "metadata": {},
   "source": [
    "draws = rng.integers(0, 2, size=nsteps) \n",
    "使用随机数生成器 (rng) 生成一个包含随机整数的数组\n",
    "0, 2：指定了生成随机整数的范围。\n",
    "整数将在 0（包含）和 2（不包含）之间，因此可能的值是 0 或 1。\n",
    "size=nsteps：指定了要生成的整数的数量，这里生成一个包含 nsteps 个元素的数组。\n",
    "生成了一个名为 draws 的数组，数组中包含 nsteps 个随机整数，每个整数要么是 0 要么是 1"
   ]
  },
  {
   "cell_type": "markdown",
   "id": "384abf02-1d84-40ea-a593-d38f46e8d93a",
   "metadata": {},
   "source": [
    "steps = np.where(draws == 0, 1, -1)\n",
    "根据条件对数组 draws 中的每个元素进行判断，并生成一个新的数组 steps\n",
    "np.where(condition, x, y)\n",
    "这是NumPy的一个函数，根据condition来选择值。\n",
    "也就是如果当draws == 0时，steps = 1，反之为-1,并且添加到steps数组中。"
   ]
  },
  {
   "cell_type": "code",
   "execution_count": 79,
   "id": "9635bf59-de55-4635-8e3a-a615020415ef",
   "metadata": {},
   "outputs": [],
   "source": [
    "#证明steps是一个数组，由np.生成的都是数组，steps是一维数组\n",
    "#print(steps)"
   ]
  },
  {
   "cell_type": "markdown",
   "id": "2ee04ae3-6d9c-41bb-b6d0-f203ed2af820",
   "metadata": {},
   "source": [
    "walk = steps.cumsum() 这行代码的作用是计算数组 steps 的累积和，并将结果赋值给 walk\n",
    "cumsum 是 NumPy 数组的一个方法，表示计算数组元素的累积和，并赋给walk数组\n",
    "累积和的意思是：对于数组中的每个元素，它是从数组开头到该元素之间所有元素的和。例如，如果 steps 是 [1, -1, 1, 1]，那么它的累积和就是 [1, 0, 1, 2]。\n",
    "walk中的值就是steps中的值累加起来的，究极随机漫步。"
   ]
  },
  {
   "cell_type": "code",
   "execution_count": 87,
   "id": "8d6d3360-dc52-4ea1-91a1-378fb7ae6ed0",
   "metadata": {},
   "outputs": [],
   "source": [
    "#steps"
   ]
  },
  {
   "cell_type": "code",
   "execution_count": 86,
   "id": "227da49c-e158-4f36-9626-1404bfa8da66",
   "metadata": {},
   "outputs": [],
   "source": [
    "#walk"
   ]
  },
  {
   "cell_type": "code",
   "execution_count": 4,
   "id": "9b492588-79ee-436d-8eb9-7bf0b1198083",
   "metadata": {},
   "outputs": [
    {
     "data": {
      "text/plain": [
       "1000"
      ]
     },
     "execution_count": 4,
     "metadata": {},
     "output_type": "execute_result"
    }
   ],
   "source": [
    "trans = np.where(walk > -100, 1 ,0)\n",
    "trans.sum()"
   ]
  },
  {
   "cell_type": "markdown",
   "id": "748f9504-100f-4e7c-8686-a36f68ac8d38",
   "metadata": {},
   "source": [
    "首次穿越时间，随机漫步中第一次到达某个特定时间值的时间。\n",
    "想要知道随机漫步多久可以初始距离0到10步远（任意方向）\n",
    "numpy.abs(walk) >= 10可以得到一个bool型数组，表示距离是否可以达到10\n",
    "想要知道第一个10或者-10的索引，可以用argmx来解决这个问题，\n",
    "他返回的是该bool型数组最大值的第一个索引（True是第一个最大值）："
   ]
  },
  {
   "cell_type": "code",
   "execution_count": 5,
   "id": "59738bb2-f6a0-44d5-9207-8a51eb1bbfa5",
   "metadata": {},
   "outputs": [
    {
     "data": {
      "text/plain": [
       "155"
      ]
     },
     "execution_count": 5,
     "metadata": {},
     "output_type": "execute_result"
    }
   ],
   "source": [
    "(np.abs(walk) >= 10).argmax()"
   ]
  },
  {
   "cell_type": "markdown",
   "id": "d6aa0dfa-2750-42da-9c2e-9ecef11280e6",
   "metadata": {},
   "source": [
    "abs()函数是取绝对值的意思\n",
    "np.abs(walk) >= 10:这个条件判断返回一个布尔数组，数组中的每个元素表示 walk 数组中对应位置的绝对值是否大于或等于 10\n",
    "True 表示条件为真，False 表示条件为假。\n",
    "argmax()函数是 NumPy 数组的一个方法，返回数组中第一个最大值的索引\n",
    "在布尔数组中，True 被视为 1，False 被视为 0，argmax() 将返回布尔数组中第一个 True 的索引\n",
    "walk 数组中第一次绝对值达到或超过 10 的索引位置。如果 walk 中没有任何元素的绝对值达到 10，那么 .argmax() 会返回 0，因为它找不到 True 并默认返回第一个元素的索引。"
   ]
  },
  {
   "cell_type": "code",
   "execution_count": 6,
   "id": "3b3af246-c2b5-4d4c-bf75-04d8eab7e2ca",
   "metadata": {},
   "outputs": [
    {
     "data": {
      "text/plain": [
       "array([[  1,   2,   3, ...,  22,  23,  22],\n",
       "       [  1,   0,  -1, ..., -50, -49, -48],\n",
       "       [  1,   2,   3, ...,  50,  49,  48],\n",
       "       ...,\n",
       "       [ -1,  -2,  -1, ..., -10,  -9, -10],\n",
       "       [ -1,  -2,  -3, ...,   8,   9,   8],\n",
       "       [ -1,   0,   1, ...,  -4,  -3,  -2]])"
      ]
     },
     "execution_count": 6,
     "metadata": {},
     "output_type": "execute_result"
    }
   ],
   "source": [
    "#多次随机漫步\n",
    "nwalks = 5000      #5000 次随机游走\n",
    "nsteps = 1000      #每次随机1000步\n",
    "#生成一个形状为 (5000, 1000) 的数组，包含 0 和 1 之间的随机整数。\n",
    "draws = rng.integers(0, 2, size=(nwalks, nsteps))\n",
    "steps = np.where(draws > 0, 1, -1)          #如果draws大于0则替换为1，反之为-1       \n",
    "walks = steps.cumsum(axis=1)         #计算 steps 数组沿着列方向（axis=1）的累积和\n",
    "walks"
   ]
  },
  {
   "cell_type": "code",
   "execution_count": 7,
   "id": "6ebd5d21-62ac-4e19-8198-4f69051ab53c",
   "metadata": {},
   "outputs": [
    {
     "data": {
      "text/plain": [
       "114"
      ]
     },
     "execution_count": 7,
     "metadata": {},
     "output_type": "execute_result"
    }
   ],
   "source": [
    "walks.max()"
   ]
  },
  {
   "cell_type": "code",
   "execution_count": 8,
   "id": "5bee9bc5-8175-48bc-bb10-c96886d4e894",
   "metadata": {},
   "outputs": [
    {
     "data": {
      "text/plain": [
       "-120"
      ]
     },
     "execution_count": 8,
     "metadata": {},
     "output_type": "execute_result"
    }
   ],
   "source": [
    "walks.min()"
   ]
  },
  {
   "cell_type": "markdown",
   "id": "44db4f62-a130-4c0b-965a-6888a77d5113",
   "metadata": {},
   "source": [
    "integers 是 NumPy 中 Generator 对象的一个方法，用于生成指定范围内的随机整数数组\n",
    "它是 numpy.random.default_rng() 创建的随机数生成器 (rng) 对象的一部分\n",
    "\n",
    "rng = np.random.default_rng()  # 创建随机数生成器\n",
    "random_integers = rng.integers(low, high=None, size=None, dtype=int)\n",
    "low: （必需）生成随机整数的下边界（包含）。也可以是负数。\n",
    "high: （可选）生成随机整数的上边界（不包含）。如果不提供此参数，则默认生成的随机整数在 [0, low) 范围内。\n",
    "size: （可选）生成随机整数的输出形状。可以是一个整数，表示生成多少个随机数；也可以是一个元组，表示生成数组的形状。如果未提供，返回单个整数。\n",
    "dtype: （可选）生成整数的类型，默认是 int。可以是 int32、int64 等。\n",
    "\n",
    "rng = np.random.default_rng()\n",
    "random_int = rng.integers(1, 10)  # 生成一个 [1, 10) 范围内的随机整数\n",
    "print(random_int)\n",
    "\n",
    "rng = np.random.default_rng()\n",
    "random_array = rng.integers(10, size=5)  # 生成 5 个 [0, 10) 范围内的随机整数\n",
    "print(random_array)\n",
    "\n",
    "本题中是生成一个0～2的随机数，也就是0，1之间随机生成一个值，大小是5000✖️1000的二维数组"
   ]
  },
  {
   "cell_type": "code",
   "execution_count": null,
   "id": "29c8f802-804a-4a46-b2c0-e7718e02786f",
   "metadata": {},
   "outputs": [],
   "source": [
    "axis=1 其实是指 横轴，即沿着数组的 列 方向进行操作\n",
    "axis=0 则是指 纵轴，即沿着数组的 行 方向进行操作\n",
    "\n",
    "import numpy as np\n",
    "\n",
    "arr = np.array([[1, 2, 3],\n",
    "                [4, 5, 6]])\n",
    "\n",
    "axis=0 操作：\n",
    "sum_axis0 = np.sum(arr, axis=0)\n",
    "print(sum_axis0)  # 输出: [5, 7, 9]\n",
    "\n",
    "axis=1 操作：\n",
    "sum_axis1 = np.sum(arr, axis=1)\n",
    "print(sum_axis1)  # 输出: [6, 15]\n",
    "\n",
    "axis=0 指的是沿着纵轴（行）进行操作，影响的是列的方向。\n",
    "axis=1 指的是沿着横轴（列）进行操作，影响的是行的方向。"
   ]
  },
  {
   "cell_type": "code",
   "execution_count": 9,
   "id": "6f54f70e-5e67-4f12-80a4-9f2ae92a9dbc",
   "metadata": {},
   "outputs": [
    {
     "data": {
      "text/plain": [
       "array([False,  True,  True, ...,  True, False,  True])"
      ]
     },
     "execution_count": 9,
     "metadata": {},
     "output_type": "execute_result"
    }
   ],
   "source": [
    "#对于所有漫步，计算到达30或者-30的最小穿越时间\n",
    "hits30 = (np.abs(walks) >= 30).any(axis=1)\n",
    "hits30"
   ]
  },
  {
   "cell_type": "markdown",
   "id": "ffaf22c8-8b48-4aa1-bec1-24d12d795a6c",
   "metadata": {},
   "source": [
    "这里与上面不同，上个例子是一维，现在是二维，且并不是5000次每次都能到30或者-30\n",
    "any(axis=1) 是在布尔数组中沿着 axis=1（即行的方向）进行操作，检查每一行中是否有至少一个 True 值\n",
    "如果在某一行中有一个或多个 True，any() 就会返回 True，表示这一行（即该次随机游走）至少有一次达到或超过了 30 的绝对值。"
   ]
  },
  {
   "cell_type": "code",
   "execution_count": 11,
   "id": "58799983-9f6d-4025-a96b-355b6b7fd18c",
   "metadata": {},
   "outputs": [
    {
     "data": {
      "text/plain": [
       "3395"
      ]
     },
     "execution_count": 11,
     "metadata": {},
     "output_type": "execute_result"
    }
   ],
   "source": [
    "hits30.sum()"
   ]
  },
  {
   "cell_type": "code",
   "execution_count": 13,
   "id": "82b7c545-0d14-4e69-8038-87bc260c560c",
   "metadata": {},
   "outputs": [
    {
     "data": {
      "text/plain": [
       "array([201, 491, 283, ..., 219, 259, 541])"
      ]
     },
     "execution_count": 13,
     "metadata": {},
     "output_type": "execute_result"
    }
   ],
   "source": [
    "crossing_times = (np.abs(walks[hits30]) >= 30).argmax(axis=1)\n",
    "crossing_times"
   ]
  },
  {
   "cell_type": "code",
   "execution_count": null,
   "id": "828ceef6-6f8c-4599-8eec-926bdc3502d4",
   "metadata": {},
   "outputs": [],
   "source": [
    "walks[hits30]:\n",
    "hits30 是一个布尔数组，用来筛选那些在某一步中绝对值达到或超过 30 的随机游走\n",
    "walks[hits30] 会返回一个新的数组，只包含那些在 hits30 为 True 的随机游走\n",
    "这意味着该数组中的每一行都是至少有一次绝对值达到或超过 30 的随机游走\n",
    "\n",
    "np.abs(walks[hits30]) >= 30:\n",
    "计算 walks[hits30] 数组中每个元素的绝对值，并检查这些绝对值是否大于或等于 30，生成一个布尔数组。\n",
    "这个布尔数组与 walks[hits30] 的形状相同，其中 True 表示在对应位置上，绝对值大于或等于 30。\n",
    "\n",
    ".argmax(axis=1):\n",
    "argmax(axis=1) 在布尔数组的每一行上查找第一个 True 的位置索引，这表示该行（即一次随机游走）中首次达到或超过绝对值 30 的步数。\n",
    "axis=1 指沿着行的方向进行操作，这样每一行会返回一个对应的索引值\n",
    "\n",
    "最终，crossing_times 是一个一维整数数组，其长度等于 walks[hits30] 的行数\n",
    "每个元素表示对应随机游走中，第一次达到或超过绝对值 30 的步数（索引）"
   ]
  },
  {
   "cell_type": "code",
   "execution_count": 16,
   "id": "a56d591b-b57c-44d8-8f14-6260440d8610",
   "metadata": {},
   "outputs": [
    {
     "data": {
      "text/plain": [
       "500.5699558173785"
      ]
     },
     "execution_count": 16,
     "metadata": {},
     "output_type": "execute_result"
    }
   ],
   "source": [
    "#平均最小穿越时间\n",
    "crossing_times.mean()"
   ]
  },
  {
   "cell_type": "code",
   "execution_count": 17,
   "id": "67f76842-6c37-44e4-91c4-afd85f479d03",
   "metadata": {},
   "outputs": [],
   "source": [
    "#可以尝试用其他方式得到随机漫步数据，只需要不同的随机数生成器即可，比如standard_normal生成正态分布数组\n",
    "draws = 0.25 * rng.standard_normal((nwalks, nsteps))"
   ]
  },
  {
   "cell_type": "code",
   "execution_count": null,
   "id": "42a2ca44-e44d-46a3-bf4a-f6efcbaa9a9a",
   "metadata": {},
   "outputs": [],
   "source": []
  }
 ],
 "metadata": {
  "kernelspec": {
   "display_name": "Python 3 (ipykernel)",
   "language": "python",
   "name": "python3"
  },
  "language_info": {
   "codemirror_mode": {
    "name": "ipython",
    "version": 3
   },
   "file_extension": ".py",
   "mimetype": "text/x-python",
   "name": "python",
   "nbconvert_exporter": "python",
   "pygments_lexer": "ipython3",
   "version": "3.11.7"
  }
 },
 "nbformat": 4,
 "nbformat_minor": 5
}
