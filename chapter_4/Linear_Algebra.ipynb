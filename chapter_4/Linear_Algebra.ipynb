{
 "cells": [
  {
   "cell_type": "code",
   "execution_count": 18,
   "id": "657f9c95-f23d-4e88-bed0-6359f1a94ea1",
   "metadata": {},
   "outputs": [],
   "source": [
    "import numpy as np\n",
    "import matplotlib.pyplot as plt\n",
    "from random import normalvariate\n",
    "from numpy.linalg import inv, qr"
   ]
  },
  {
   "cell_type": "code",
   "execution_count": 2,
   "id": "319814ed-f69f-4d21-b63c-a6f3269be7bb",
   "metadata": {},
   "outputs": [
    {
     "data": {
      "text/plain": [
       "array([[1., 2., 3.],\n",
       "       [4., 5., 6.]])"
      ]
     },
     "execution_count": 2,
     "metadata": {},
     "output_type": "execute_result"
    }
   ],
   "source": [
    "#线代  dot函数\n",
    "x = np.array([[1., 2., 3.], [4., 5., 6.]])\n",
    "y = np.array([[6., 23.], [-1., 7], [8, 9]])\n",
    "x"
   ]
  },
  {
   "cell_type": "code",
   "execution_count": 3,
   "id": "681abd92-fb59-4c6d-aaa8-ae8b9befc4b9",
   "metadata": {},
   "outputs": [
    {
     "data": {
      "text/plain": [
       "array([[ 6., 23.],\n",
       "       [-1.,  7.],\n",
       "       [ 8.,  9.]])"
      ]
     },
     "execution_count": 3,
     "metadata": {},
     "output_type": "execute_result"
    }
   ],
   "source": [
    "y"
   ]
  },
  {
   "cell_type": "code",
   "execution_count": 4,
   "id": "4c932630-dff6-41e2-b938-60e4ba4150db",
   "metadata": {},
   "outputs": [
    {
     "data": {
      "text/plain": [
       "array([[ 28.,  64.],\n",
       "       [ 67., 181.]])"
      ]
     },
     "execution_count": 4,
     "metadata": {},
     "output_type": "execute_result"
    }
   ],
   "source": [
    "x.dot(y)"
   ]
  },
  {
   "cell_type": "code",
   "execution_count": 5,
   "id": "d07cf343-9bb0-4307-bfd3-4e3744a169c7",
   "metadata": {},
   "outputs": [
    {
     "data": {
      "text/plain": [
       "array([[ 28.,  64.],\n",
       "       [ 67., 181.]])"
      ]
     },
     "execution_count": 5,
     "metadata": {},
     "output_type": "execute_result"
    }
   ],
   "source": [
    "np.dot(x, y)"
   ]
  },
  {
   "cell_type": "markdown",
   "id": "0658f2c2-c1c7-4d62-a928-b3ce49bfe185",
   "metadata": {},
   "source": [
    "x.dot(y)等价于np.dot(x, y)，是2✖️3与3✖️2的矩阵相乘，最终是2✖️2的矩阵"
   ]
  },
  {
   "cell_type": "code",
   "execution_count": 14,
   "id": "760a8569-6595-4d43-9373-2a826dea1ca5",
   "metadata": {},
   "outputs": [
    {
     "data": {
      "text/plain": [
       "array([ 6., 15.])"
      ]
     },
     "execution_count": 14,
     "metadata": {},
     "output_type": "execute_result"
    }
   ],
   "source": [
    "#二维数组跟一个大小合适的一维数组的矩阵点积运算会得到一维数组\n",
    "#x\n",
    "x @ np.ones(3)"
   ]
  },
  {
   "cell_type": "markdown",
   "id": "7e6d296f-0ce6-482e-b1b8-f5c88af519c8",
   "metadata": {},
   "source": [
    "@ 运算符用于矩阵乘法，也称为点积。\n",
    "x 是一个 2x3 的矩阵，形状是 (2, 3)\n",
    "np.ones(3) 是一个一维数组，形状是 (3,)\n",
    "一维数组在做矩阵乘法时会被认定为列向量\n",
    "np.ones(3) 有 3 个元素，等价于一个形状为 (3, 1) 的列向量。\n",
    "所以2x3 与 3x1 的矩阵相乘为 2x1 的矩阵，即将x中的每行相加，最后得到[6, 15]"
   ]
  },
  {
   "cell_type": "code",
   "execution_count": 15,
   "id": "80ccb608-2c8d-40a8-9177-403a00aae54b",
   "metadata": {},
   "outputs": [
    {
     "data": {
      "text/plain": [
       "array([1., 1., 1.])"
      ]
     },
     "execution_count": 15,
     "metadata": {},
     "output_type": "execute_result"
    }
   ],
   "source": [
    "#为证明np.ones()的用法\n",
    "test = np.ones(3)\n",
    "test"
   ]
  },
  {
   "cell_type": "code",
   "execution_count": 16,
   "id": "00ea8da6-c222-40a4-9d1d-83b118cd6024",
   "metadata": {},
   "outputs": [
    {
     "data": {
      "text/plain": [
       "array([[1.],\n",
       "       [1.],\n",
       "       [1.]])"
      ]
     },
     "execution_count": 16,
     "metadata": {},
     "output_type": "execute_result"
    }
   ],
   "source": [
    "test1 = np.ones((3, 1))\n",
    "#三行一列\n",
    "test1"
   ]
  },
  {
   "cell_type": "code",
   "execution_count": 17,
   "id": "8b5d586b-d26b-46e7-917f-f5bb71582ee2",
   "metadata": {},
   "outputs": [
    {
     "data": {
      "text/plain": [
       "array([[ 6.],\n",
       "       [15.]])"
      ]
     },
     "execution_count": 17,
     "metadata": {},
     "output_type": "execute_result"
    }
   ],
   "source": [
    "x @ test1"
   ]
  },
  {
   "cell_type": "markdown",
   "id": "07c71b09-dbbc-4ac1-aca0-a9289abab146",
   "metadata": {},
   "source": [
    "x @ np.ones((3, 1)) 与 x @ np.ones(3) 的结果在形状上是不同的，但在数值上是相同的。\n",
    "x @ np.ones(3):\n",
    "x 是一个 (2, 3) 形状的矩阵。\n",
    "np.ones(3) 是一个 (3,) 形状的一维数组。\n",
    "矩阵乘法结果是一个形状为 (2,) 的一维数组。\n",
    "\n",
    "x @ np.ones((3, 1)):\n",
    "x 仍然是一个 (2, 3) 形状的矩阵。\n",
    "np.ones((3, 1)) 是一个 (3, 1) 形状的二维列向量。\n",
    "矩阵乘法结果是一个形状为 (2, 1) 的二维数组。\n",
    "\n",
    "两个数值相同，但形状不同，一个是一维数组，一个是二维数组"
   ]
  },
  {
   "cell_type": "code",
   "execution_count": 23,
   "id": "d28b8586-16e1-4d32-a867-6f9f5bbcbe34",
   "metadata": {},
   "outputs": [],
   "source": [
    "#numpy.linalg中有一组标准的矩阵分解运算以及求逆和求行列式方法：\n",
    "rng = np.random.default_rng(seed=12345)\n",
    "X = rng.standard_normal((5, 5))\n",
    "mat = X.T @ X"
   ]
  },
  {
   "cell_type": "code",
   "execution_count": 22,
   "id": "6eebd3bd-c90f-430a-b21d-1ad292e1c010",
   "metadata": {},
   "outputs": [
    {
     "data": {
      "text/plain": [
       "array([[ 0.15548538, -0.36723081, -0.52638547, -0.2300642 , -0.04646089],\n",
       "       [-0.36723081,  2.54917814,  3.47827334,  1.48196722,  0.22206454],\n",
       "       [-0.52638547,  3.47827334,  5.46389554,  2.46214396,  0.63467543],\n",
       "       [-0.2300642 ,  1.48196722,  2.46214396,  1.38302896,  0.33430132],\n",
       "       [-0.04646089,  0.22206454,  0.63467543,  0.33430132,  0.33879566]])"
      ]
     },
     "execution_count": 22,
     "metadata": {},
     "output_type": "execute_result"
    }
   ],
   "source": [
    "inv(mat)"
   ]
  },
  {
   "cell_type": "code",
   "execution_count": null,
   "id": "c825e81a-2a84-4e9a-b040-3adcc7881f46",
   "metadata": {},
   "outputs": [],
   "source": []
  }
 ],
 "metadata": {
  "kernelspec": {
   "display_name": "Python 3 (ipykernel)",
   "language": "python",
   "name": "python3"
  },
  "language_info": {
   "codemirror_mode": {
    "name": "ipython",
    "version": 3
   },
   "file_extension": ".py",
   "mimetype": "text/x-python",
   "name": "python",
   "nbconvert_exporter": "python",
   "pygments_lexer": "ipython3",
   "version": "3.11.7"
  }
 },
 "nbformat": 4,
 "nbformat_minor": 5
}
