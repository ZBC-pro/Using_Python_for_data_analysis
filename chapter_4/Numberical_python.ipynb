{
 "cells": [
  {
   "cell_type": "code",
   "execution_count": 6,
   "id": "251e6e6f-b398-4b9a-832b-62797fb59b14",
   "metadata": {},
   "outputs": [
    {
     "name": "stdout",
     "output_type": "stream",
     "text": [
      "780 μs ± 11.6 μs per loop (mean ± std. dev. of 7 runs, 1,000 loops each)\n"
     ]
    }
   ],
   "source": [
    "import numpy as np\n",
    "\n",
    "my_arr = np.arange(1_000_000)\n",
    "my_list = list(range(1_000_000))\n",
    "\n",
    "%timeit my_arr2 = my_arr * 2"
   ]
  },
  {
   "cell_type": "code",
   "execution_count": 5,
   "id": "ca57d6ab-f554-4cbe-9f6b-7fcbcfa97708",
   "metadata": {},
   "outputs": [
    {
     "name": "stdout",
     "output_type": "stream",
     "text": [
      "21.6 ms ± 79 μs per loop (mean ± std. dev. of 7 runs, 10 loops each)\n"
     ]
    }
   ],
   "source": [
    "%timeit my_list2 = [x * 2 for x in my_list]"
   ]
  },
  {
   "cell_type": "code",
   "execution_count": 7,
   "id": "6a870ff2-9439-4887-b6b7-bc541cbe5101",
   "metadata": {},
   "outputs": [
    {
     "data": {
      "text/plain": [
       "array([[ 1.5, -0.1,  3. ],\n",
       "       [ 0. , -3. ,  6.5]])"
      ]
     },
     "execution_count": 7,
     "metadata": {},
     "output_type": "execute_result"
    }
   ],
   "source": [
    "#numPy中的ndarray：多位数组对象\n",
    "data = np.array([[1.5, -0.1, 3], [0, -3, 6.5]])\n",
    "data"
   ]
  },
  {
   "cell_type": "code",
   "execution_count": 8,
   "id": "be53e123-8d41-47aa-b4d3-eb20c1827dcc",
   "metadata": {},
   "outputs": [
    {
     "data": {
      "text/plain": [
       "array([[ 15.,  -1.,  30.],\n",
       "       [  0., -30.,  65.]])"
      ]
     },
     "execution_count": 8,
     "metadata": {},
     "output_type": "execute_result"
    }
   ],
   "source": [
    "#二维数据运算\n",
    "data * 10"
   ]
  },
  {
   "cell_type": "code",
   "execution_count": 9,
   "id": "398529dc-6beb-41d5-b6b6-0abcebbd8ffe",
   "metadata": {},
   "outputs": [
    {
     "data": {
      "text/plain": [
       "array([[ 3. , -0.2,  6. ],\n",
       "       [ 0. , -6. , 13. ]])"
      ]
     },
     "execution_count": 9,
     "metadata": {},
     "output_type": "execute_result"
    }
   ],
   "source": [
    "data + data"
   ]
  },
  {
   "cell_type": "code",
   "execution_count": 10,
   "id": "b27d2cbd-e3b7-4830-8073-2649e7b12e8c",
   "metadata": {},
   "outputs": [
    {
     "data": {
      "text/plain": [
       "(2, 3)"
      ]
     },
     "execution_count": 10,
     "metadata": {},
     "output_type": "execute_result"
    }
   ],
   "source": [
    "#ndarray同构数据多维容器，同构数据中的元素必须是相同类型。\n",
    "#每个数组都有一个shape（用于表示各个维度大小的元组）和一个dtype（数组的数据模型）：\n",
    "data.shape"
   ]
  },
  {
   "cell_type": "code",
   "execution_count": 11,
   "id": "6ec9116c-e341-41e0-ae65-27264516fb18",
   "metadata": {},
   "outputs": [
    {
     "data": {
      "text/plain": [
       "dtype('float64')"
      ]
     },
     "execution_count": 11,
     "metadata": {},
     "output_type": "execute_result"
    }
   ],
   "source": [
    "data.dtype"
   ]
  },
  {
   "cell_type": "code",
   "execution_count": 12,
   "id": "39077198-8f74-4716-908d-b6d595a8d31f",
   "metadata": {},
   "outputs": [
    {
     "data": {
      "text/plain": [
       "array([6. , 7.5, 8. , 0. , 1. ])"
      ]
     },
     "execution_count": 12,
     "metadata": {},
     "output_type": "execute_result"
    }
   ],
   "source": [
    "data1 = [6, 7.5, 8, 0, 1]\n",
    "arr1 = np.array(data1)\n",
    "arr1"
   ]
  },
  {
   "cell_type": "code",
   "execution_count": 13,
   "id": "613d145d-e737-4f9a-a4d6-58d82568742f",
   "metadata": {},
   "outputs": [
    {
     "data": {
      "text/plain": [
       "array([[1, 2, 3, 4],\n",
       "       [5, 6, 7, 8]])"
      ]
     },
     "execution_count": 13,
     "metadata": {},
     "output_type": "execute_result"
    }
   ],
   "source": [
    "#嵌套序列  由一组等长列表组成的列表会被转化为多维数组\n",
    "data2 = [[1, 2, 3, 4], [5, 6, 7, 8]]\n",
    "arr2 = np.array(data2)\n",
    "arr2"
   ]
  },
  {
   "cell_type": "markdown",
   "id": "57ef3c95-e94e-4995-8489-4d1cb896977d",
   "metadata": {},
   "source": [
    "因为data2是列表的列表，所以numpy数组有arr2有两个维度，它的形状取决于数据。\n",
    "可以用ndim和shape来确认数组的维度和形状"
   ]
  },
  {
   "cell_type": "code",
   "execution_count": 15,
   "id": "d7547535-5a9c-44d4-bf6b-583f27859bd0",
   "metadata": {},
   "outputs": [
    {
     "data": {
      "text/plain": [
       "2"
      ]
     },
     "execution_count": 15,
     "metadata": {},
     "output_type": "execute_result"
    }
   ],
   "source": [
    "#维度\n",
    "arr2.ndim"
   ]
  },
  {
   "cell_type": "code",
   "execution_count": 16,
   "id": "455312ae-942f-4b28-9b76-d7668ebe7422",
   "metadata": {},
   "outputs": [
    {
     "data": {
      "text/plain": [
       "(2, 4)"
      ]
     },
     "execution_count": 16,
     "metadata": {},
     "output_type": "execute_result"
    }
   ],
   "source": [
    "#维度中的个数\n",
    "arr2.shape"
   ]
  },
  {
   "cell_type": "code",
   "execution_count": 17,
   "id": "4fb3a829-d153-4e3a-8df9-e0bcc991d550",
   "metadata": {},
   "outputs": [
    {
     "data": {
      "text/plain": [
       "dtype('int64')"
      ]
     },
     "execution_count": 17,
     "metadata": {},
     "output_type": "execute_result"
    }
   ],
   "source": [
    "arr2.dtype"
   ]
  },
  {
   "cell_type": "markdown",
   "id": "e4a85c85-8615-430a-9d28-e52ebf940635",
   "metadata": {},
   "source": [
    "除了numpy.array,还有其他一些函数可以创建数组。\n",
    "比如numpy.zeros和numpy.ones创建指定长度或形状的全0和全1数组。 \n",
    "numpy.empty可以创建一个没有任何元素的多维数组，只需传入一个表示形状的元组即可"
   ]
  },
  {
   "cell_type": "code",
   "execution_count": 2,
   "id": "1a84fe91-9495-47c8-9efb-852c9b359611",
   "metadata": {},
   "outputs": [
    {
     "data": {
      "text/plain": [
       "array([0., 0., 0., 0., 0., 0., 0., 0., 0., 0.])"
      ]
     },
     "execution_count": 2,
     "metadata": {},
     "output_type": "execute_result"
    }
   ],
   "source": [
    "import numpy as np\n",
    "\n",
    "np.zeros(10)"
   ]
  },
  {
   "cell_type": "code",
   "execution_count": 3,
   "id": "7dd607cc-64da-49f2-936f-066059bc4190",
   "metadata": {},
   "outputs": [
    {
     "data": {
      "text/plain": [
       "array([[0., 0., 0., 0., 0., 0.],\n",
       "       [0., 0., 0., 0., 0., 0.],\n",
       "       [0., 0., 0., 0., 0., 0.]])"
      ]
     },
     "execution_count": 3,
     "metadata": {},
     "output_type": "execute_result"
    }
   ],
   "source": [
    "np.zeros((3, 6))  #三行六列"
   ]
  },
  {
   "cell_type": "code",
   "execution_count": 4,
   "id": "e3af03d2-7ddf-44a3-910f-f6a74dd045b9",
   "metadata": {},
   "outputs": [
    {
     "data": {
      "text/plain": [
       "array([[[0., 0.],\n",
       "        [0., 0.],\n",
       "        [0., 0.]],\n",
       "\n",
       "       [[0., 0.],\n",
       "        [0., 0.],\n",
       "        [0., 0.]]])"
      ]
     },
     "execution_count": 4,
     "metadata": {},
     "output_type": "execute_result"
    }
   ],
   "source": [
    "np.empty((2, 3, 2))  #两个三行两列的数组，不建议用empty，因为0可能是垃圾值"
   ]
  },
  {
   "cell_type": "code",
   "execution_count": 5,
   "id": "71448eb5-b2b8-4309-a46d-fa9ee3beebb7",
   "metadata": {},
   "outputs": [
    {
     "data": {
      "text/plain": [
       "array([ 0,  1,  2,  3,  4,  5,  6,  7,  8,  9, 10, 11, 12, 13, 14])"
      ]
     },
     "execution_count": 5,
     "metadata": {},
     "output_type": "execute_result"
    }
   ],
   "source": [
    "#numpy.arange是py内置的range函数的数组版本\n",
    "np.arange(15)"
   ]
  },
  {
   "cell_type": "markdown",
   "id": "dbd1cca0-a175-462b-be6c-116ccaaa8488",
   "metadata": {},
   "source": [
    "Numpy一般默认是float64\n",
    "Numpy数组创建函数：P97\n",
    "\n",
    "![jupyter](./4.1.png)\n",
    "\n",
    "![jupyter](./4.2.png)"
   ]
  },
  {
   "cell_type": "markdown",
   "id": "49f8fefa-9a1c-491d-9f1d-3f8b855b6cd6",
   "metadata": {},
   "source": [
    "code插入\n",
    "图片<img src=\"/Users/dususu/Desktop/srcphoto.png\", width=320, heigth=240>"
   ]
  },
  {
   "cell_type": "code",
   "execution_count": 7,
   "id": "94dc0936-26d8-471a-a742-230f48e52d1e",
   "metadata": {},
   "outputs": [
    {
     "data": {
      "text/plain": [
       "dtype('float64')"
      ]
     },
     "execution_count": 7,
     "metadata": {},
     "output_type": "execute_result"
    }
   ],
   "source": [
    "#ndarray的数据类型\n",
    "arr1 = np.array([1, 2, 3], dtype=np.float64)\n",
    "arr2 = np.array([1, 2, 3], dtype=np.int32)\n",
    "arr1.dtype"
   ]
  },
  {
   "cell_type": "code",
   "execution_count": 8,
   "id": "c8f25248-dc15-4bfe-945a-2a2b66926019",
   "metadata": {},
   "outputs": [
    {
     "data": {
      "text/plain": [
       "dtype('int32')"
      ]
     },
     "execution_count": 8,
     "metadata": {},
     "output_type": "execute_result"
    }
   ],
   "source": [
    "arr2.dtype"
   ]
  },
  {
   "cell_type": "markdown",
   "id": "c576f2d2-35c2-406f-8ce0-de8049d53e3d",
   "metadata": {},
   "source": [
    "数据类型是Numpy与其他系统灵活交互数据的来源。float占用8字节（64位），因此在Numpy中就是float64\n",
    "\n",
    "Numpy的数据类型\n",
    "\n",
    "![jupyter](./4.3.png)\n",
    "\n",
    "int8：有符号型， 无符号型uint8,只能表示0～255"
   ]
  },
  {
   "cell_type": "code",
   "execution_count": 9,
   "id": "d1d18cfe-6f23-458f-a8b9-a5980b5e6d07",
   "metadata": {},
   "outputs": [
    {
     "data": {
      "text/plain": [
       "dtype('int64')"
      ]
     },
     "execution_count": 9,
     "metadata": {},
     "output_type": "execute_result"
    }
   ],
   "source": [
    "#通过ndarray的astype方法可以将数组从一种数据类型转换或投射成另一种数据类型\n",
    "arr = np.array([1, 2, 3, 4, 5])\n",
    "arr.dtype"
   ]
  },
  {
   "cell_type": "code",
   "execution_count": 10,
   "id": "8c69aac0-e77a-4710-a182-e55f55146e5e",
   "metadata": {},
   "outputs": [
    {
     "data": {
      "text/plain": [
       "array([1., 2., 3., 4., 5.])"
      ]
     },
     "execution_count": 10,
     "metadata": {},
     "output_type": "execute_result"
    }
   ],
   "source": [
    "float_arr = arr.astype(np.float64)\n",
    "float_arr"
   ]
  },
  {
   "cell_type": "code",
   "execution_count": 11,
   "id": "a5310b7b-77f5-4efb-948d-9faf77d1cae4",
   "metadata": {},
   "outputs": [
    {
     "data": {
      "text/plain": [
       "dtype('float64')"
      ]
     },
     "execution_count": 11,
     "metadata": {},
     "output_type": "execute_result"
    }
   ],
   "source": [
    "float_arr.dtype"
   ]
  },
  {
   "cell_type": "code",
   "execution_count": 12,
   "id": "b26b09d5-2850-4b5c-b7cd-a01d9791faa4",
   "metadata": {},
   "outputs": [
    {
     "data": {
      "text/plain": [
       "array([ 3.7, -1.2, -2.6,  0.5, 12.9, 10.1])"
      ]
     },
     "execution_count": 12,
     "metadata": {},
     "output_type": "execute_result"
    }
   ],
   "source": [
    "#将浮点转换为整数则小数部分会被截断,不会舍入\n",
    "arr = np.array([3.7, -1.2, -2.6, 0.5, 12.9, 10.1])\n",
    "arr"
   ]
  },
  {
   "cell_type": "code",
   "execution_count": 14,
   "id": "b5c4c21e-4588-4488-995c-d523cc4c5838",
   "metadata": {},
   "outputs": [
    {
     "data": {
      "text/plain": [
       "array([ 3, -1, -2,  0, 12, 10], dtype=int32)"
      ]
     },
     "execution_count": 14,
     "metadata": {},
     "output_type": "execute_result"
    }
   ],
   "source": [
    "arr.astype(np.int32)"
   ]
  },
  {
   "cell_type": "code",
   "execution_count": 16,
   "id": "55e8068c-293c-4405-bcc2-31c7ddfb3f2c",
   "metadata": {},
   "outputs": [
    {
     "data": {
      "text/plain": [
       "array([ 1.25, -9.6 , 42.  ])"
      ]
     },
     "execution_count": 16,
     "metadata": {},
     "output_type": "execute_result"
    }
   ],
   "source": [
    "#如果某个字符串数组表示的全是数字，也可以用astype将其转化为数值形式\n",
    "numeric_strings = np.array([\"1.25\", \"-9.6\", \"42\"], dtype=np.string_)\n",
    "numeric_strings.astype(float)\n",
    "#float 和 np.float64 作用相同，Numpy会将py相同类型映射到等价的dtype上"
   ]
  },
  {
   "cell_type": "markdown",
   "id": "bbacbf5a-e4cb-44ee-9965-83e87dcafacb",
   "metadata": {},
   "source": [
    "使用numpy.string_类型时，需要注意的是：因为Numpy的字符串大多数都是大小固定的，截断时不会警告，pandas会给出更好的处理方法，转换过程出错的情况下，比如字符串无法转为float，会抛出valueError"
   ]
  },
  {
   "cell_type": "code",
   "execution_count": 2,
   "id": "1bf86f5d-b49a-46d7-8e6f-75bc3a0349e3",
   "metadata": {},
   "outputs": [
    {
     "data": {
      "text/plain": [
       "array([0., 1., 2., 3., 4., 5., 6., 7., 8., 9.])"
      ]
     },
     "execution_count": 2,
     "metadata": {},
     "output_type": "execute_result"
    }
   ],
   "source": [
    "#可以用另一个数组的dtype属性\n",
    "import numpy as np\n",
    "\n",
    "int_array = np.arange(10)\n",
    "calibers = np.array([.22, .270, .357, .300, .44, .50], dtype=np.float64)\n",
    "int_array.astype(calibers.dtype)"
   ]
  },
  {
   "cell_type": "code",
   "execution_count": 3,
   "id": "2bb48da5-b52f-4971-97ac-af1e2d0fe6a3",
   "metadata": {},
   "outputs": [
    {
     "data": {
      "text/plain": [
       "array([0, 0, 0, 0, 0, 0, 0, 0, 0], dtype=uint32)"
      ]
     },
     "execution_count": 3,
     "metadata": {},
     "output_type": "execute_result"
    }
   ],
   "source": [
    "#更简洁的代码表示dtype\n",
    "zeros_uint32 = np.zeros(9, dtype=\"u4\")\n",
    "zeros_uint32"
   ]
  },
  {
   "cell_type": "markdown",
   "id": "4e153d45-4ac8-4c79-a028-40c9b1f09b7d",
   "metadata": {},
   "source": [
    "\"u4\"是numpy中表示无符号4位整数的数据类型。这里的u代表无符号（unsigned），而4表示整数的位数。\n",
    "np.zeros(9, dtype=\"u4\")会创建一个包含9个元素的全零数组，每个元素的数据类型是无符号4位整数。\n",
    "numpy通常不使用u4作为数据类型，因为4位整数的数据范围相对较小，numpy更常使用uint8（无符号8位整数）、uint16（无符号16位整数）或uint32（无符号32位整数）。\n",
    "创建一个包含9个元素的全零数组，zeros_uint32 = np.zeros(9, dtype=\"uint32\")"
   ]
  },
  {
   "cell_type": "code",
   "execution_count": 4,
   "id": "a9c53997-51f6-432f-90b9-e709afb5ec41",
   "metadata": {},
   "outputs": [
    {
     "data": {
      "text/plain": [
       "array([[1., 2., 3.],\n",
       "       [4., 5., 6.]])"
      ]
     },
     "execution_count": 4,
     "metadata": {},
     "output_type": "execute_result"
    }
   ],
   "source": [
    "#NumPy数组运算  向量化\n",
    "arr = np.array([[1, 2, 3.], [4, 5, 6.]])\n",
    "arr"
   ]
  },
  {
   "cell_type": "code",
   "execution_count": 5,
   "id": "a5ddb635-53b7-4d34-adda-3da6f6d2a513",
   "metadata": {},
   "outputs": [
    {
     "data": {
      "text/plain": [
       "array([[ 1.,  4.,  9.],\n",
       "       [16., 25., 36.]])"
      ]
     },
     "execution_count": 5,
     "metadata": {},
     "output_type": "execute_result"
    }
   ],
   "source": [
    "arr * arr"
   ]
  },
  {
   "cell_type": "code",
   "execution_count": 6,
   "id": "4078cd74-4193-46ca-8619-f3ee55687da8",
   "metadata": {},
   "outputs": [
    {
     "data": {
      "text/plain": [
       "array([[0., 0., 0.],\n",
       "       [0., 0., 0.]])"
      ]
     },
     "execution_count": 6,
     "metadata": {},
     "output_type": "execute_result"
    }
   ],
   "source": [
    "arr - arr"
   ]
  },
  {
   "cell_type": "code",
   "execution_count": 7,
   "id": "f3737898-48fd-4edc-9b6e-c1d77cf46ac9",
   "metadata": {},
   "outputs": [
    {
     "data": {
      "text/plain": [
       "array([[1.        , 0.5       , 0.33333333],\n",
       "       [0.25      , 0.2       , 0.16666667]])"
      ]
     },
     "execution_count": 7,
     "metadata": {},
     "output_type": "execute_result"
    }
   ],
   "source": [
    "#数组与标量的算数运算会将标量值传播到数组的各个元素\n",
    "1 / arr"
   ]
  },
  {
   "cell_type": "code",
   "execution_count": 8,
   "id": "90012cba-e8a0-4ec3-9584-863b29b93251",
   "metadata": {},
   "outputs": [
    {
     "data": {
      "text/plain": [
       "array([[ 1.,  4.,  9.],\n",
       "       [16., 25., 36.]])"
      ]
     },
     "execution_count": 8,
     "metadata": {},
     "output_type": "execute_result"
    }
   ],
   "source": [
    "arr ** 2"
   ]
  },
  {
   "cell_type": "code",
   "execution_count": 9,
   "id": "b9fefca8-ead9-4455-8cf7-47ffdc7b4006",
   "metadata": {},
   "outputs": [
    {
     "data": {
      "text/plain": [
       "array([[ 0.,  4.,  1.],\n",
       "       [ 7.,  2., 12.]])"
      ]
     },
     "execution_count": 9,
     "metadata": {},
     "output_type": "execute_result"
    }
   ],
   "source": [
    "#大小相同的数组之间的比较会生成bool值\n",
    "arr2 = np.array([[0, 4, 1.], [7, 2, 12.]])\n",
    "arr2"
   ]
  },
  {
   "cell_type": "code",
   "execution_count": 10,
   "id": "82037c3a-9c3b-4bf4-85ef-fa10bb48f411",
   "metadata": {},
   "outputs": [
    {
     "data": {
      "text/plain": [
       "array([[False,  True, False],\n",
       "       [ True, False,  True]])"
      ]
     },
     "execution_count": 10,
     "metadata": {},
     "output_type": "execute_result"
    }
   ],
   "source": [
    "#大小不同的数组之间的运算是广播，需要深入了解\n",
    "arr2 > arr"
   ]
  },
  {
   "cell_type": "code",
   "execution_count": 11,
   "id": "a81b23b5-0f48-407f-abde-a96f04ac2e5e",
   "metadata": {},
   "outputs": [
    {
     "data": {
      "text/plain": [
       "array([0, 1, 2, 3, 4, 5, 6, 7, 8, 9])"
      ]
     },
     "execution_count": 11,
     "metadata": {},
     "output_type": "execute_result"
    }
   ],
   "source": [
    "#索引与切片base\n",
    "arr = np.arange(10)\n",
    "arr"
   ]
  },
  {
   "cell_type": "code",
   "execution_count": 12,
   "id": "77201992-3053-4945-9378-95f78b4ef1cb",
   "metadata": {},
   "outputs": [
    {
     "data": {
      "text/plain": [
       "5"
      ]
     },
     "execution_count": 12,
     "metadata": {},
     "output_type": "execute_result"
    }
   ],
   "source": [
    "arr[5]"
   ]
  },
  {
   "cell_type": "code",
   "execution_count": 17,
   "id": "e9804412-3bfb-45b8-bc35-39e80bff6616",
   "metadata": {},
   "outputs": [
    {
     "data": {
      "text/plain": [
       "array([ 0,  1,  2,  3,  4, 12, 12, 12,  8,  9])"
      ]
     },
     "execution_count": 17,
     "metadata": {},
     "output_type": "execute_result"
    }
   ],
   "source": [
    "arr[5:8] = 12\n",
    "arr"
   ]
  },
  {
   "cell_type": "code",
   "execution_count": 18,
   "id": "8bc072a6-c8e1-48cd-a851-5cdc382dabaf",
   "metadata": {},
   "outputs": [
    {
     "data": {
      "text/plain": [
       "array([12, 12, 12])"
      ]
     },
     "execution_count": 18,
     "metadata": {},
     "output_type": "execute_result"
    }
   ],
   "source": [
    "arr_slice = arr[5:8]\n",
    "arr_slice"
   ]
  },
  {
   "cell_type": "markdown",
   "id": "6f6ed0ab-c2cb-4e98-9a7b-e3c5fa8cb89c",
   "metadata": {},
   "source": [
    "#与列表最重要的区别在于，数组切片是原始数组的视图。\n",
    "#这意味着数据不会被复制，视图上的任何修改都会直接反映到原数组上\n",
    "#修改arr_arr_slice中的值时，原数组arr也会被修改，相当于C中的将指针指向列表\n",
    "arr_slice[1] = 12345\n",
    "arr"
   ]
  },
  {
   "cell_type": "code",
   "execution_count": 20,
   "id": "fb23879a-40a6-442f-bfb7-bbfbd8a42ee5",
   "metadata": {},
   "outputs": [
    {
     "data": {
      "text/plain": [
       "array([ 0,  1,  2,  3,  4, 64, 64, 64,  8,  9])"
      ]
     },
     "execution_count": 20,
     "metadata": {},
     "output_type": "execute_result"
    }
   ],
   "source": [
    "#切片[:]会给数组中的所有赋值,因为前面切片只切了三个元素，所以再赋值也是这三个元素\n",
    "arr_slice[:] = 64\n",
    "arr"
   ]
  },
  {
   "cell_type": "markdown",
   "id": "01a75e0d-22cb-45d8-85f8-a7df281e7722",
   "metadata": {},
   "source": [
    "NumPy不是讲数据复制来复制去，而是通过指针的方式，直接定位到那一个数组，直接进行修改以节省内存空间\n",
    "如果想要得到切片的副本，而非视图，则需要显式的复制数组如 arr[5:8].copy()"
   ]
  },
  {
   "cell_type": "code",
   "execution_count": 22,
   "id": "f4bf1928-8cd7-4b0a-aedf-21c9fb8dd8f3",
   "metadata": {},
   "outputs": [
    {
     "data": {
      "text/plain": [
       "array([7, 8, 9])"
      ]
     },
     "execution_count": 22,
     "metadata": {},
     "output_type": "execute_result"
    }
   ],
   "source": [
    "#二维数组的各索引位置上的元素不再是标量，而是一维数组\n",
    "arr2d = np.array([[1, 2, 3], [4, 5, 6], [7, 8, 9]])\n",
    "arr2d[2]"
   ]
  },
  {
   "cell_type": "code",
   "execution_count": 23,
   "id": "baa08dc7-4d6c-4281-b25d-6e39d65ace2e",
   "metadata": {},
   "outputs": [
    {
     "data": {
      "text/plain": [
       "3"
      ]
     },
     "execution_count": 23,
     "metadata": {},
     "output_type": "execute_result"
    }
   ],
   "source": [
    "arr2d[0][2]"
   ]
  },
  {
   "cell_type": "code",
   "execution_count": 24,
   "id": "de89b829-5117-49bb-a35f-0782994cdae0",
   "metadata": {},
   "outputs": [
    {
     "data": {
      "text/plain": [
       "3"
      ]
     },
     "execution_count": 24,
     "metadata": {},
     "output_type": "execute_result"
    }
   ],
   "source": [
    "arr2d[0, 2]"
   ]
  },
  {
   "cell_type": "markdown",
   "id": "b535d458-9bac-4c67-baec-c4b77269e03d",
   "metadata": {},
   "source": [
    "二维数组索引，轴0为数组行，轴1为数组列\n",
    "\n",
    "![jupyter](./4.4.png)"
   ]
  },
  {
   "cell_type": "code",
   "execution_count": 26,
   "id": "dd503cae-08c0-42cd-bca8-693866901147",
   "metadata": {},
   "outputs": [
    {
     "data": {
      "text/plain": [
       "array([[[ 1,  2,  3],\n",
       "        [ 4,  5,  6]],\n",
       "\n",
       "       [[ 7,  8,  9],\n",
       "        [10, 11, 12]]])"
      ]
     },
     "execution_count": 26,
     "metadata": {},
     "output_type": "execute_result"
    }
   ],
   "source": [
    "#二维数组中的索引元素，多位数组中，如果省略了后面的索引，则返回对象会是低维度的ndarray，它包含更高维度上的所有数据。\n",
    "#因此，在2✖️2✖️3数组arr3d中：\n",
    "arr3d = np.array([[[1, 2, 3], [4, 5, 6]], [[7, 8, 9], [10, 11, 12]]])\n",
    "arr3d"
   ]
  },
  {
   "cell_type": "code",
   "execution_count": 28,
   "id": "eb8268bd-2075-45eb-b58c-a9a38ab0c33c",
   "metadata": {},
   "outputs": [
    {
     "data": {
      "text/plain": [
       "array([[1, 2, 3],\n",
       "       [4, 5, 6]])"
      ]
     },
     "execution_count": 28,
     "metadata": {},
     "output_type": "execute_result"
    }
   ],
   "source": [
    "#arr3d[0]是一个2✖️3数组：\n",
    "arr3d[0]"
   ]
  },
  {
   "cell_type": "code",
   "execution_count": 29,
   "id": "0d1ea379-fcd4-4ce2-9691-6835adb7c233",
   "metadata": {},
   "outputs": [
    {
     "data": {
      "text/plain": [
       "array([[[42, 42, 42],\n",
       "        [42, 42, 42]],\n",
       "\n",
       "       [[ 7,  8,  9],\n",
       "        [10, 11, 12]]])"
      ]
     },
     "execution_count": 29,
     "metadata": {},
     "output_type": "execute_result"
    }
   ],
   "source": [
    "#标量值和数组都可以赋值给arr3d[0]\n",
    "old_values = arr3d[0].copy()\n",
    "arr3d[0] = 42\n",
    "arr3d"
   ]
  },
  {
   "cell_type": "code",
   "execution_count": 31,
   "id": "57a1115a-f37f-441b-8ce8-e708cf6bd917",
   "metadata": {},
   "outputs": [
    {
     "data": {
      "text/plain": [
       "array([[[ 1,  2,  3],\n",
       "        [ 4,  5,  6]],\n",
       "\n",
       "       [[ 7,  8,  9],\n",
       "        [10, 11, 12]]])"
      ]
     },
     "execution_count": 31,
     "metadata": {},
     "output_type": "execute_result"
    }
   ],
   "source": [
    "arr3d[0] = old_values\n",
    "arr3d"
   ]
  },
  {
   "cell_type": "code",
   "execution_count": 32,
   "id": "5049efa0-4f4c-4299-97b5-73890093e730",
   "metadata": {},
   "outputs": [
    {
     "data": {
      "text/plain": [
       "array([7, 8, 9])"
      ]
     },
     "execution_count": 32,
     "metadata": {},
     "output_type": "execute_result"
    }
   ],
   "source": [
    "#arr3d[1, 0]可以访问索引以(1, 0)开头的那些值(以一维数组的形式返回)\n",
    "arr3d[1, 0]"
   ]
  },
  {
   "cell_type": "code",
   "execution_count": 33,
   "id": "a395b933-589f-41b2-a3a1-7da91465b6ed",
   "metadata": {},
   "outputs": [
    {
     "data": {
      "text/plain": [
       "array([[ 7,  8,  9],\n",
       "       [10, 11, 12]])"
      ]
     },
     "execution_count": 33,
     "metadata": {},
     "output_type": "execute_result"
    }
   ],
   "source": [
    "#这个表达式等于两步进行索引,先将arr3d中的2✖️2✖️3中的第一层2提取出右边的那一个数组\n",
    "x = arr3d[1]\n",
    "x"
   ]
  },
  {
   "cell_type": "code",
   "execution_count": 34,
   "id": "292e5ffb-4a36-4df1-ab68-754db3a17df7",
   "metadata": {},
   "outputs": [
    {
     "data": {
      "text/plain": [
       "array([7, 8, 9])"
      ]
     },
     "execution_count": 34,
     "metadata": {},
     "output_type": "execute_result"
    }
   ],
   "source": [
    "#再将2✖️2✖️3中的中间的2提取出左边的那个数组\n",
    "x[0]"
   ]
  },
  {
   "cell_type": "markdown",
   "id": "d905c986-2d3c-4840-88b5-3dff055469cd",
   "metadata": {},
   "source": [
    "以上的查看数组中不同位置的元素都是以视图的方式返回"
   ]
  },
  {
   "cell_type": "code",
   "execution_count": 35,
   "id": "1533c6eb-27bd-4e11-b554-a09e32ae0417",
   "metadata": {},
   "outputs": [
    {
     "data": {
      "text/plain": [
       "array([ 0,  1,  2,  3,  4, 64, 64, 64,  8,  9])"
      ]
     },
     "execution_count": 35,
     "metadata": {},
     "output_type": "execute_result"
    }
   ],
   "source": [
    "#numpy数组的多维索引语法不适用于Python的常规对象，比如嵌套列表\n",
    "#二维数组切片\n",
    "arr"
   ]
  },
  {
   "cell_type": "code",
   "execution_count": 36,
   "id": "ccaaf7e5-3ce2-4304-8f77-d4651b24963b",
   "metadata": {},
   "outputs": [
    {
     "data": {
      "text/plain": [
       "array([ 1,  2,  3,  4, 64])"
      ]
     },
     "execution_count": 36,
     "metadata": {},
     "output_type": "execute_result"
    }
   ],
   "source": [
    "arr[1:6]"
   ]
  },
  {
   "cell_type": "code",
   "execution_count": 37,
   "id": "80636df2-928e-4390-ada1-792a7a5fc777",
   "metadata": {},
   "outputs": [
    {
     "data": {
      "text/plain": [
       "array([[1, 2, 3],\n",
       "       [4, 5, 6],\n",
       "       [7, 8, 9]])"
      ]
     },
     "execution_count": 37,
     "metadata": {},
     "output_type": "execute_result"
    }
   ],
   "source": [
    "arr2d"
   ]
  },
  {
   "cell_type": "code",
   "execution_count": 38,
   "id": "ab606f59-7e45-4e91-80c0-2d4720265833",
   "metadata": {},
   "outputs": [
    {
     "data": {
      "text/plain": [
       "array([[1, 2, 3],\n",
       "       [4, 5, 6]])"
      ]
     },
     "execution_count": 38,
     "metadata": {},
     "output_type": "execute_result"
    }
   ],
   "source": [
    "arr2d[:2]"
   ]
  },
  {
   "cell_type": "markdown",
   "id": "62bc0e83-7a33-4e3e-a029-c6a752eb04c0",
   "metadata": {},
   "source": [
    "二维数组切片可以认定为是“选取arr2d的前两行”"
   ]
  },
  {
   "cell_type": "code",
   "execution_count": 43,
   "id": "fa4e56d1-d1b9-4c10-b4c6-f5d84670b372",
   "metadata": {},
   "outputs": [
    {
     "data": {
      "text/plain": [
       "array([[2, 3],\n",
       "       [5, 6]])"
      ]
     },
     "execution_count": 43,
     "metadata": {},
     "output_type": "execute_result"
    }
   ],
   "source": [
    "#可以一次传入多个切片，就像传入索引一样\n",
    "arr2d[:2, 1:]"
   ]
  },
  {
   "cell_type": "markdown",
   "id": "b8b66acb-d398-4cd9-9b04-579ba46e8413",
   "metadata": {},
   "source": [
    "[:2]：这个切片表示您要选择arr2d的前两行。\n",
    "在Python中，切片操作使用方括号[]来表示，冒号:用来指定切片的起始和结束位置。\n",
    "没有指定结束位置时，默认选择直到数组的末尾。\n",
    "[1:]：这个切片表示您要选择arr2d的第二列之后的所有列。\n",
    "冒号:前面的数字1表示起始列，而]表示选择直到数组的末尾。\n",
    "arr2d[:2, 1:]就是选取arr2d中所有第二列之后的元素，但只包括前两行。\n",
    "这是一个常见的操作，用于提取二维数组中的子矩阵。"
   ]
  },
  {
   "cell_type": "code",
   "execution_count": 46,
   "id": "4f6ca166-b5a1-42a2-8941-9dc0d481cf68",
   "metadata": {},
   "outputs": [
    {
     "data": {
      "text/plain": [
       "(2,)"
      ]
     },
     "execution_count": 46,
     "metadata": {},
     "output_type": "execute_result"
    }
   ],
   "source": [
    "#选取第二行的前两列\n",
    "lower_dim_slice = arr2d[1, :2]\n",
    "lower_dim_slice.shape"
   ]
  },
  {
   "cell_type": "markdown",
   "id": "177b667c-d715-4546-a7d6-5681f5c4a82f",
   "metadata": {},
   "source": [
    "arr2d[1, :2]就是选取数组中的第二行的前两列，但为什么只显示(2,)?           \n",
    "因为：在Python中，尤其是在使用NumPy库时，\n",
    ".shape属性用于获取数组或矩阵的形状，即它的高度和宽度。\n",
    "这个属性对于多维数组尤其重要，因为它告诉你在每个维度上有多少个元素。"
   ]
  },
  {
   "cell_type": "markdown",
   "id": "ec77d57c-e3cf-45a4-ba73-5be0b3c7ccf8",
   "metadata": {},
   "source": [
    "![jupyter](./4.5.PNG)"
   ]
  },
  {
   "cell_type": "code",
   "execution_count": 47,
   "id": "af58618b-0add-427b-8549-15c7fcd21d52",
   "metadata": {},
   "outputs": [
    {
     "data": {
      "text/plain": [
       "array([4, 5])"
      ]
     },
     "execution_count": 47,
     "metadata": {},
     "output_type": "execute_result"
    }
   ],
   "source": [
    "#直接输出数组\n",
    "lower_dim_slice"
   ]
  },
  {
   "cell_type": "code",
   "execution_count": 48,
   "id": "006aecc2-7d22-4311-8c6d-5c4cbe1a0421",
   "metadata": {},
   "outputs": [
    {
     "data": {
      "text/plain": [
       "(2,)"
      ]
     },
     "execution_count": 48,
     "metadata": {},
     "output_type": "execute_result"
    }
   ],
   "source": [
    "lower_dim_slice.shape"
   ]
  },
  {
   "cell_type": "markdown",
   "id": "d71e2e47-2f41-4436-9db8-3f03b7709dc9",
   "metadata": {},
   "source": [
    "arr.shape返回(3, 4)，这意味着arr是一个3行4列的二维数组。\n",
    "arr3d.shape返回(1, 2, 2)，这意味着arr3d是一个1层（深度）的3维数组，其中每一层有2行2列"
   ]
  },
  {
   "cell_type": "markdown",
   "id": "55bcdc57-240f-453f-baf1-e61a87a175a5",
   "metadata": {},
   "source": [
    "因为lower_dim_slice是一维数组[4, 5],所以对其进行.shape时会显示(2,)\n",
    "一维数组，但它的形状显示为(2,)，这意味着它有两个元素。\n",
    "这种情况在NumPy中是可能的，因为NumPy允许您指定数组的维度，即使它实际上只包含一个行。\n",
    "这种情况下，额外的维度被视为长度为1的行。"
   ]
  },
  {
   "cell_type": "code",
   "execution_count": 56,
   "id": "3df37e35-8a65-4e66-97d4-63b533c992c0",
   "metadata": {},
   "outputs": [
    {
     "data": {
      "text/plain": [
       "array([[4, 5]])"
      ]
     },
     "execution_count": 56,
     "metadata": {},
     "output_type": "execute_result"
    }
   ],
   "source": [
    "#前两行前两列\n",
    "a = arr2d[1:2, :2]\n",
    "a"
   ]
  },
  {
   "cell_type": "markdown",
   "id": "894d66c7-ca96-4ff2-b8c9-12e4ee0ce777",
   "metadata": {},
   "source": [
    "在NumPy中，arr[1:2]表示对数组arr进行切片操作，选择索引从1到2（不包括2）的所有元素。\n",
    "arr[1:2]也就是选取第二行元素"
   ]
  },
  {
   "cell_type": "code",
   "execution_count": 58,
   "id": "76d16b36-6437-4cd0-9f96-ddc9e1136a67",
   "metadata": {},
   "outputs": [
    {
     "data": {
      "text/plain": [
       "(1, 2)"
      ]
     },
     "execution_count": 58,
     "metadata": {},
     "output_type": "execute_result"
    }
   ],
   "source": [
    "#arr2d[1:2, :2] 切片后新的数组为一行两列的形状，扁平形状，跟一维数组差不多\n",
    "a.shape"
   ]
  },
  {
   "cell_type": "markdown",
   "id": "07db78fe-34eb-4a00-a653-4976b0630094",
   "metadata": {},
   "source": [
    "![jupyter](./4.6.PNG)"
   ]
  },
  {
   "cell_type": "code",
   "execution_count": 52,
   "id": "3f355b37-d842-46f1-a17f-17b70cb6f4e2",
   "metadata": {},
   "outputs": [
    {
     "data": {
      "text/plain": [
       "(2,)"
      ]
     },
     "execution_count": 52,
     "metadata": {},
     "output_type": "execute_result"
    }
   ],
   "source": [
    "a = arr2d[:2, 2]\n",
    "a.shape"
   ]
  },
  {
   "cell_type": "code",
   "execution_count": 59,
   "id": "498a0e9d-9c6d-4189-b08b-5812386d0d54",
   "metadata": {},
   "outputs": [
    {
     "data": {
      "text/plain": [
       "array([3, 6])"
      ]
     },
     "execution_count": 59,
     "metadata": {},
     "output_type": "execute_result"
    }
   ],
   "source": [
    "#第三列的前两行  arr2d[:2] 选取数据为第0行和第一行，共两行，前两行\n",
    "arr2d[:2, 2]"
   ]
  },
  {
   "cell_type": "code",
   "execution_count": 70,
   "id": "a09cf721-c492-4744-9d18-fa448d81ef1e",
   "metadata": {},
   "outputs": [
    {
     "data": {
      "text/plain": [
       "array([[1, 2],\n",
       "       [4, 5],\n",
       "       [7, 8]])"
      ]
     },
     "execution_count": 70,
     "metadata": {},
     "output_type": "execute_result"
    }
   ],
   "source": [
    "#冒号本身意味着选取整个轴，可以只对高维轴进行切片\n",
    "#前三行，前两列\n",
    "b = arr2d[:, :2]\n",
    "b"
   ]
  },
  {
   "cell_type": "code",
   "execution_count": 72,
   "id": "7a1edbaa-378a-4605-8e00-5face8a2eb82",
   "metadata": {},
   "outputs": [
    {
     "data": {
      "text/plain": [
       "(3, 2)"
      ]
     },
     "execution_count": 72,
     "metadata": {},
     "output_type": "execute_result"
    }
   ],
   "source": [
    "#切片后b的形状为三行两列\n",
    "b.shape"
   ]
  },
  {
   "cell_type": "markdown",
   "id": "09439a74-dabc-4a96-8362-36f9e7a2f6c6",
   "metadata": {},
   "source": [
    "![jupyter](./4.7.PNG)"
   ]
  },
  {
   "cell_type": "code",
   "execution_count": 75,
   "id": "22d246f3-db03-4f1a-b48b-c11f59c826dc",
   "metadata": {},
   "outputs": [
    {
     "data": {
      "text/plain": [
       "array([[1, 0, 0],\n",
       "       [4, 0, 0],\n",
       "       [7, 8, 9]])"
      ]
     },
     "execution_count": 75,
     "metadata": {},
     "output_type": "execute_result"
    }
   ],
   "source": [
    "#对切片的赋值会扩散到整个区域\n",
    "#对前两行的后两列赋值为0\n",
    "arr2d[:2, 1:] = 0\n",
    "arr2d"
   ]
  },
  {
   "cell_type": "code",
   "execution_count": 78,
   "id": "f8b6cd66-dd3c-434d-9244-0cfc9c295019",
   "metadata": {},
   "outputs": [
    {
     "data": {
      "text/plain": [
       "array(['Bob', 'Joe', 'Will', 'Bob', 'Will', 'Joe', 'Joe'], dtype='<U4')"
      ]
     },
     "execution_count": 78,
     "metadata": {},
     "output_type": "execute_result"
    }
   ],
   "source": [
    "#bool型索引\n",
    "names = np.array([\"Bob\", \"Joe\", \"Will\", \"Bob\", \"Will\", \"Joe\", \"Joe\"])\n",
    "data = np.array([[4, 7], [0, 2], [-5, 6], [0, 0], [1, 2], [-12, -4], [3, 4]])\n",
    "names"
   ]
  },
  {
   "cell_type": "code",
   "execution_count": 79,
   "id": "1243af45-643d-4590-9943-312471f0b011",
   "metadata": {},
   "outputs": [
    {
     "data": {
      "text/plain": [
       "array([[  4,   7],\n",
       "       [  0,   2],\n",
       "       [ -5,   6],\n",
       "       [  0,   0],\n",
       "       [  1,   2],\n",
       "       [-12,  -4],\n",
       "       [  3,   4]])"
      ]
     },
     "execution_count": 79,
     "metadata": {},
     "output_type": "execute_result"
    }
   ],
   "source": [
    "data"
   ]
  },
  {
   "cell_type": "code",
   "execution_count": 80,
   "id": "5c03df1d-f6a6-47c7-9722-7e6dd6c9a6e2",
   "metadata": {},
   "outputs": [
    {
     "data": {
      "text/plain": [
       "array([ True, False, False,  True, False, False, False])"
      ]
     },
     "execution_count": 80,
     "metadata": {},
     "output_type": "execute_result"
    }
   ],
   "source": [
    "#假设每个名字对应data数组中的一行，而我们想要选出对应于名字“Bob”的所有行。\n",
    "names == \"Bob\""
   ]
  },
  {
   "cell_type": "code",
   "execution_count": 81,
   "id": "e0bb631c-845d-4fe1-8e28-6bf8e160ec58",
   "metadata": {},
   "outputs": [
    {
     "data": {
      "text/plain": [
       "array([[4, 7],\n",
       "       [0, 0]])"
      ]
     },
     "execution_count": 81,
     "metadata": {},
     "output_type": "execute_result"
    }
   ],
   "source": [
    "#这个bool型数组可以用于数组索引\n",
    "data[names == \"Bob\"]"
   ]
  },
  {
   "cell_type": "code",
   "execution_count": 82,
   "id": "a6c6fc8b-3772-4e6c-8e25-40f8f9508b84",
   "metadata": {},
   "outputs": [
    {
     "data": {
      "text/plain": [
       "array([[7],\n",
       "       [0]])"
      ]
     },
     "execution_count": 82,
     "metadata": {},
     "output_type": "execute_result"
    }
   ],
   "source": [
    "#bool型数组的长度与被索引轴长度一致，bool型数组与切片、整数或序列混合使用，一维后只表示列数\n",
    "data[names == \"Bob\", 1:]"
   ]
  },
  {
   "cell_type": "markdown",
   "id": "aba39e1f-731b-488f-b1a4-099ef24d0176",
   "metadata": {},
   "source": [
    "data[names == \"Bob\", 1:] 选取data中names是“Bob”对应的一维数组，并输出每个数组的第二个元素后面的所有元素\n",
    "或者说是输出第二列开始的所有列"
   ]
  },
  {
   "cell_type": "code",
   "execution_count": 84,
   "id": "85730efd-2fa6-470a-93a0-96e9b49eb04e",
   "metadata": {},
   "outputs": [
    {
     "data": {
      "text/plain": [
       "array([7, 0])"
      ]
     },
     "execution_count": 84,
     "metadata": {},
     "output_type": "execute_result"
    }
   ],
   "source": [
    "data[names == \"Bob\", 1]"
   ]
  },
  {
   "cell_type": "markdown",
   "id": "94d35e61-0e3d-4d9e-866e-e56f1cd0af17",
   "metadata": {},
   "source": [
    "在Pandas中，data[names == \"Bob\", 1]这样的语法用于同时进行条件筛选和列选择。\n",
    "names == \"Bob\"用于筛选names列中值为\"Bob\"的行，而1表示选择这些行的第二列。"
   ]
  },
  {
   "cell_type": "code",
   "execution_count": 85,
   "id": "0be031ee-190c-409e-9d3c-5f2edf3bd675",
   "metadata": {},
   "outputs": [
    {
     "data": {
      "text/plain": [
       "array([False,  True,  True, False,  True,  True,  True])"
      ]
     },
     "execution_count": 85,
     "metadata": {},
     "output_type": "execute_result"
    }
   ],
   "source": [
    "#选取“Bob”之外的数据\n",
    "names != \"Bob\""
   ]
  },
  {
   "cell_type": "code",
   "execution_count": 86,
   "id": "f7ba2e7c-1a67-4993-9e52-ab5196b124db",
   "metadata": {},
   "outputs": [
    {
     "data": {
      "text/plain": [
       "array([False,  True,  True, False,  True,  True,  True])"
      ]
     },
     "execution_count": 86,
     "metadata": {},
     "output_type": "execute_result"
    }
   ],
   "source": [
    "~(names == \"Bob\")"
   ]
  },
  {
   "cell_type": "code",
   "execution_count": 87,
   "id": "db598ab4-b242-4d2e-9fa5-845ef9c5d9f1",
   "metadata": {},
   "outputs": [
    {
     "data": {
      "text/plain": [
       "array([[  0,   2],\n",
       "       [ -5,   6],\n",
       "       [  1,   2],\n",
       "       [-12,  -4],\n",
       "       [  3,   4]])"
      ]
     },
     "execution_count": 87,
     "metadata": {},
     "output_type": "execute_result"
    }
   ],
   "source": [
    "data[~(names == \"Bob\")]"
   ]
  },
  {
   "cell_type": "code",
   "execution_count": 88,
   "id": "10833e75-990e-4a90-b09b-594f3a2e949d",
   "metadata": {},
   "outputs": [
    {
     "data": {
      "text/plain": [
       "array([[  0,   2],\n",
       "       [ -5,   6],\n",
       "       [  1,   2],\n",
       "       [-12,  -4],\n",
       "       [  3,   4]])"
      ]
     },
     "execution_count": 88,
     "metadata": {},
     "output_type": "execute_result"
    }
   ],
   "source": [
    "cond = names == \"Bob\"\n",
    "data[~cond]"
   ]
  },
  {
   "cell_type": "code",
   "execution_count": 91,
   "id": "e46fe501-c1de-4dd7-9896-c22ab444f7a6",
   "metadata": {},
   "outputs": [
    {
     "data": {
      "text/plain": [
       "array([ True, False,  True,  True,  True, False, False])"
      ]
     },
     "execution_count": 91,
     "metadata": {},
     "output_type": "execute_result"
    }
   ],
   "source": [
    "mask = (names == \"Bob\") | (names == \"Will\")\n",
    "mask"
   ]
  },
  {
   "cell_type": "code",
   "execution_count": 92,
   "id": "4a22a35e-db09-4900-a745-f0535d015b59",
   "metadata": {},
   "outputs": [
    {
     "data": {
      "text/plain": [
       "array([[ 4,  7],\n",
       "       [-5,  6],\n",
       "       [ 0,  0],\n",
       "       [ 1,  2]])"
      ]
     },
     "execution_count": 92,
     "metadata": {},
     "output_type": "execute_result"
    }
   ],
   "source": [
    "data[mask]"
   ]
  },
  {
   "cell_type": "markdown",
   "id": "9a8decee-c6c1-44c7-a82b-a844bca527d7",
   "metadata": {},
   "source": [
    "py中关键字and和or不能用于bool数据类型，bool类型的只能用&,|"
   ]
  },
  {
   "cell_type": "code",
   "execution_count": 93,
   "id": "e715d177-b3ca-4493-b1e5-1b758c83b953",
   "metadata": {},
   "outputs": [
    {
     "data": {
      "text/plain": [
       "array([[4, 7],\n",
       "       [0, 2],\n",
       "       [0, 6],\n",
       "       [0, 0],\n",
       "       [1, 2],\n",
       "       [0, 0],\n",
       "       [3, 4]])"
      ]
     },
     "execution_count": 93,
     "metadata": {},
     "output_type": "execute_result"
    }
   ],
   "source": [
    "#通过bool类型判断负数，将data中的所有负数都设置为0\n",
    "data[data < 0] = 0\n",
    "data"
   ]
  },
  {
   "cell_type": "code",
   "execution_count": 94,
   "id": "c803bcfa-87fa-487e-aa3f-09dd7a74396b",
   "metadata": {},
   "outputs": [
    {
     "data": {
      "text/plain": [
       "array([[7, 7],\n",
       "       [0, 2],\n",
       "       [7, 7],\n",
       "       [7, 7],\n",
       "       [7, 7],\n",
       "       [0, 0],\n",
       "       [3, 4]])"
      ]
     },
     "execution_count": 94,
     "metadata": {},
     "output_type": "execute_result"
    }
   ],
   "source": [
    "#通过一维bool数组设置整行整列的值也很简单,后续pandas更为便捷\n",
    "data[names != \"Joe\"] = 7\n",
    "data"
   ]
  },
  {
   "cell_type": "code",
   "execution_count": 96,
   "id": "e9cc28b5-1ea8-490a-8dde-0d48c567438e",
   "metadata": {},
   "outputs": [
    {
     "data": {
      "text/plain": [
       "array([[0., 0., 0., 0.],\n",
       "       [1., 1., 1., 1.],\n",
       "       [2., 2., 2., 2.],\n",
       "       [3., 3., 3., 3.],\n",
       "       [4., 4., 4., 4.],\n",
       "       [5., 5., 5., 5.],\n",
       "       [6., 6., 6., 6.],\n",
       "       [7., 7., 7., 7.]])"
      ]
     },
     "execution_count": 96,
     "metadata": {},
     "output_type": "execute_result"
    }
   ],
   "source": [
    "#花式索引 Numpy术语，用整数数组进行索引。\n",
    "arr = np.zeros((8, 4))\n",
    "for i in range(8):\n",
    "    arr[i] = i\n",
    "\n",
    "arr"
   ]
  },
  {
   "cell_type": "code",
   "execution_count": 97,
   "id": "fc290bb3-98e3-4f46-82c8-4ba83e2ba8db",
   "metadata": {},
   "outputs": [
    {
     "data": {
      "text/plain": [
       "array([[4., 4., 4., 4.],\n",
       "       [3., 3., 3., 3.],\n",
       "       [0., 0., 0., 0.],\n",
       "       [6., 6., 6., 6.]])"
      ]
     },
     "execution_count": 97,
     "metadata": {},
     "output_type": "execute_result"
    }
   ],
   "source": [
    "#以特定顺序选取行子集，只需传入用于指定顺序的整数列表或ndarray即可\n",
    "arr[[4, 3, 0 ,6]]"
   ]
  },
  {
   "cell_type": "markdown",
   "id": "6712336c-5afb-40de-966a-1a46cc27bc7f",
   "metadata": {},
   "source": [
    "arr[[4, 3, 0 ,6]]代表了我选取arr数组中第5行，4行，0行，6行的列表"
   ]
  },
  {
   "cell_type": "code",
   "execution_count": 99,
   "id": "62d87503-9629-41f5-8179-51c3c5864094",
   "metadata": {},
   "outputs": [
    {
     "data": {
      "text/plain": [
       "array([[5., 5., 5., 5.],\n",
       "       [3., 3., 3., 3.],\n",
       "       [1., 1., 1., 1.]])"
      ]
     },
     "execution_count": 99,
     "metadata": {},
     "output_type": "execute_result"
    }
   ],
   "source": [
    "#使用负数索引将会从末尾开始选取\n",
    "arr[[-3, -5, -7]]"
   ]
  },
  {
   "cell_type": "markdown",
   "id": "27de1afc-b81b-4802-beae-036a899825ea",
   "metadata": {},
   "source": [
    "arr[[-3, -5, -7]]代表了选取arr数组中从后向前第3行，5行，7行的列表"
   ]
  },
  {
   "cell_type": "code",
   "execution_count": 100,
   "id": "30e8bb30-9244-4012-8486-8965bdfc5a09",
   "metadata": {},
   "outputs": [
    {
     "data": {
      "text/plain": [
       "array([[ 0,  1,  2,  3],\n",
       "       [ 4,  5,  6,  7],\n",
       "       [ 8,  9, 10, 11],\n",
       "       [12, 13, 14, 15],\n",
       "       [16, 17, 18, 19],\n",
       "       [20, 21, 22, 23],\n",
       "       [24, 25, 26, 27],\n",
       "       [28, 29, 30, 31]])"
      ]
     },
     "execution_count": 100,
     "metadata": {},
     "output_type": "execute_result"
    }
   ],
   "source": [
    "#一次传入多个索引数组会很特别，它返回一维数组，其中的元素对应各个索引元素\n",
    "arr = np.arange(32).reshape((8, 4))\n",
    "arr"
   ]
  },
  {
   "cell_type": "code",
   "execution_count": 101,
   "id": "dbd3b849-0e35-4cd1-88d1-66a02726cfb9",
   "metadata": {},
   "outputs": [
    {
     "data": {
      "text/plain": [
       "array([ 4, 23, 29, 10])"
      ]
     },
     "execution_count": 101,
     "metadata": {},
     "output_type": "execute_result"
    }
   ],
   "source": [
    "arr[[1, 5, 7, 2], [0, 3, 1, 2]]"
   ]
  },
  {
   "cell_type": "markdown",
   "id": "8008810e-1188-4b76-9e0b-796c8347061d",
   "metadata": {},
   "source": [
    ".reshape 函数是 NumPy 库中的一个非常有用的工具，它用于改变数组（矩阵）的形状，同时保持其元素的总数不变。\n",
    "在使用 .reshape 时，我们可以指定新的形状，如果不指定某些维度的大小，可以使用 -1 来代替。\n",
    "-1 表示这个维度的大小会自动计算，确保数组的元素总数不变。"
   ]
  },
  {
   "cell_type": "markdown",
   "id": "02bcfd83-863a-405c-9665-1d8bfb75fe35",
   "metadata": {},
   "source": [
    "二维数组arr中，花式索引选择行和列。\n",
    "在这个例子中，我们选择第1行、第5行、第7行和第2行，以及第0列、第3列、第1列和第2列的元素。\n",
    "即1行0列（4），5行3列（23）以此类推\n",
    "(1, 0)(5, 3)(7, 1)(2, 2)"
   ]
  },
  {
   "cell_type": "code",
   "execution_count": 102,
   "id": "e4796e92-1223-4094-a321-0a966432b320",
   "metadata": {},
   "outputs": [
    {
     "data": {
      "text/plain": [
       "array([[ 4,  7,  5,  6],\n",
       "       [20, 23, 21, 22],\n",
       "       [28, 31, 29, 30],\n",
       "       [ 8, 11,  9, 10]])"
      ]
     },
     "execution_count": 102,
     "metadata": {},
     "output_type": "execute_result"
    }
   ],
   "source": [
    "#无论花式索引数组是多少维的，结果总是一维的\n",
    "#\n",
    "arr[[1, 5, 7, 2]][:, [0, 3, 1, 2]]"
   ]
  },
  {
   "cell_type": "markdown",
   "id": "3d17f671-e0cb-4b78-b5c5-b3577fb13bfd",
   "metadata": {},
   "source": [
    "arr[[1, 5, 7, 2]] 选择了数组中的第1、第5、第7和第2行\n",
    "[:, [0, 3, 1, 2]] 表示选择所有列中的第0、第3、第1和第2列\n",
    "这里的冒号 : 表示选择所有行，而方括号 [] 表示选择特定的列。"
   ]
  },
  {
   "cell_type": "code",
   "execution_count": 103,
   "id": "19d3b339-02f1-42bb-8d70-cf70d376c73e",
   "metadata": {},
   "outputs": [
    {
     "data": {
      "text/plain": [
       "array([[ 4,  5,  6],\n",
       "       [20, 21, 22],\n",
       "       [28, 29, 30],\n",
       "       [ 8,  9, 10]])"
      ]
     },
     "execution_count": 103,
     "metadata": {},
     "output_type": "execute_result"
    }
   ],
   "source": [
    "arr[[1, 5, 7, 2]][:, [0, 1, 2]]"
   ]
  },
  {
   "cell_type": "markdown",
   "id": "77a244de-b5a5-4ef2-ab8e-277e9f3510ee",
   "metadata": {},
   "source": [
    "这里表示选择第1、5、7、2行，后面选取所有我们挑出的行，并在所有列中选取0、1、2列\n",
    "这就是花式索引与切片的不同点"
   ]
  },
  {
   "cell_type": "code",
   "execution_count": 104,
   "id": "a2861c0b-68da-442b-a96c-3dc662e78e3d",
   "metadata": {},
   "outputs": [
    {
     "data": {
      "text/plain": [
       "array([ 4, 23, 29, 10])"
      ]
     },
     "execution_count": 104,
     "metadata": {},
     "output_type": "execute_result"
    }
   ],
   "source": [
    "#花式索引与切片不同，对结果赋值时，它会将数据复制到新数组中，花式索引赋值时，会修改被索引的值\n",
    "arr[[1, 5, 7, 2], [0, 3, 1, 2]]"
   ]
  },
  {
   "cell_type": "code",
   "execution_count": 105,
   "id": "eca1e82c-9c07-43fb-bf25-32421a537596",
   "metadata": {},
   "outputs": [
    {
     "data": {
      "text/plain": [
       "array([[ 0,  1,  2,  3],\n",
       "       [ 0,  5,  6,  7],\n",
       "       [ 8,  9,  0, 11],\n",
       "       [12, 13, 14, 15],\n",
       "       [16, 17, 18, 19],\n",
       "       [20, 21, 22,  0],\n",
       "       [24, 25, 26, 27],\n",
       "       [28,  0, 30, 31]])"
      ]
     },
     "execution_count": 105,
     "metadata": {},
     "output_type": "execute_result"
    }
   ],
   "source": [
    "arr[[1, 5, 7, 2], [0, 3, 1, 2]] = 0\n",
    "arr"
   ]
  },
  {
   "cell_type": "code",
   "execution_count": 106,
   "id": "bca75a97-fc1f-41fa-a529-39e8485c2019",
   "metadata": {},
   "outputs": [
    {
     "data": {
      "text/plain": [
       "array([[ 0,  1,  2,  3,  4],\n",
       "       [ 5,  6,  7,  8,  9],\n",
       "       [10, 11, 12, 13, 14]])"
      ]
     },
     "execution_count": 106,
     "metadata": {},
     "output_type": "execute_result"
    }
   ],
   "source": [
    "#数组转置与轴对换 transpos T属性\n",
    "#转置返回的是原数据的视图，不会进行任何赋值操作\n",
    "arr = np.arange(15).reshape((3, 5))\n",
    "arr"
   ]
  },
  {
   "cell_type": "code",
   "execution_count": 107,
   "id": "46fbc277-cbde-42e9-be9d-3b937cbe5c78",
   "metadata": {},
   "outputs": [
    {
     "data": {
      "text/plain": [
       "array([[ 0,  5, 10],\n",
       "       [ 1,  6, 11],\n",
       "       [ 2,  7, 12],\n",
       "       [ 3,  8, 13],\n",
       "       [ 4,  9, 14]])"
      ]
     },
     "execution_count": 107,
     "metadata": {},
     "output_type": "execute_result"
    }
   ],
   "source": [
    "arr.T"
   ]
  },
  {
   "cell_type": "code",
   "execution_count": 108,
   "id": "8c5380c1-9848-4b60-a5a9-247383d3f1f8",
   "metadata": {},
   "outputs": [
    {
     "data": {
      "text/plain": [
       "array([[ 0,  1,  0],\n",
       "       [ 1,  2, -2],\n",
       "       [ 6,  3,  2],\n",
       "       [-1,  0,  1],\n",
       "       [ 1,  0,  1]])"
      ]
     },
     "execution_count": 108,
     "metadata": {},
     "output_type": "execute_result"
    }
   ],
   "source": [
    "#在进行矩阵操作时，可能会用到该操作，比如利用numpy.dot计算矩阵内积\n",
    "arr = np.array([[0, 1, 0], [1, 2, -2], [6, 3, 2], [-1, 0, 1], [1, 0, 1]])\n",
    "arr"
   ]
  },
  {
   "cell_type": "code",
   "execution_count": 109,
   "id": "78b3db23-5d58-4839-8e62-35e816d952d1",
   "metadata": {},
   "outputs": [
    {
     "data": {
      "text/plain": [
       "array([[39, 20, 10],\n",
       "       [20, 14,  2],\n",
       "       [10,  2, 10]])"
      ]
     },
     "execution_count": 109,
     "metadata": {},
     "output_type": "execute_result"
    }
   ],
   "source": [
    "np.dot(arr.T, arr)"
   ]
  },
  {
   "cell_type": "code",
   "execution_count": 110,
   "id": "db17d5df-f981-4572-b445-b1cecd7b518f",
   "metadata": {},
   "outputs": [
    {
     "data": {
      "text/plain": [
       "array([[39, 20, 10],\n",
       "       [20, 14,  2],\n",
       "       [10,  2, 10]])"
      ]
     },
     "execution_count": 110,
     "metadata": {},
     "output_type": "execute_result"
    }
   ],
   "source": [
    "#矩阵乘法另一种则是@中缀运算符：\n",
    "arr.T @ arr"
   ]
  },
  {
   "cell_type": "markdown",
   "id": "b06997b9-af72-4088-b19b-eee4b6a7557c",
   "metadata": {},
   "source": [
    "arr是一个5行3列的矩阵，转置后是3行5列的矩阵，3✖️5@5✖️3=3✖️3"
   ]
  },
  {
   "cell_type": "code",
   "execution_count": 111,
   "id": "d4a0c137-e5ec-4188-b697-0277124f5d9a",
   "metadata": {},
   "outputs": [
    {
     "data": {
      "text/plain": [
       "array([[ 0,  1,  0],\n",
       "       [ 1,  2, -2],\n",
       "       [ 6,  3,  2],\n",
       "       [-1,  0,  1],\n",
       "       [ 1,  0,  1]])"
      ]
     },
     "execution_count": 111,
     "metadata": {},
     "output_type": "execute_result"
    }
   ],
   "source": [
    "#简单的转置可以用.T,其实就是进行轴对换。ndarray还有swapaxes方法，它需要接收一对轴编号，对换标记的轴以重排数据\n",
    "arr"
   ]
  },
  {
   "cell_type": "code",
   "execution_count": 112,
   "id": "a814f095-7507-4529-8ccb-3a51bbe14e4a",
   "metadata": {},
   "outputs": [
    {
     "data": {
      "text/plain": [
       "array([[ 0,  1,  6, -1,  1],\n",
       "       [ 1,  2,  3,  0,  0],\n",
       "       [ 0, -2,  2,  1,  1]])"
      ]
     },
     "execution_count": 112,
     "metadata": {},
     "output_type": "execute_result"
    }
   ],
   "source": [
    "arr.swapaxes(0, 1)"
   ]
  },
  {
   "cell_type": "markdown",
   "id": "ccd19257-b54d-4e83-9a1e-138bbf533352",
   "metadata": {},
   "source": [
    "swapaxes 函数用于交换数组的两个轴。(转置)轴是指数组数据的维度。\n",
    "对于一个二维数组，轴0和轴1分别代表行和列。\n",
    "这个数组有5行（轴0）和3列（轴1）。\n",
    "当我们调用 arr.swapaxes(0, 1) 时，我们是在交换轴0和轴1，即交换行和列。\n",
    "数组的行变成了原来的列，而列变成了原来的行。这就是 swapaxes 函数的作用。"
   ]
  },
  {
   "cell_type": "code",
   "execution_count": 113,
   "id": "bb363dad-4f76-40ee-ad37-1643e6266224",
   "metadata": {},
   "outputs": [
    {
     "ename": "AxisError",
     "evalue": "axis1: axis 2 is out of bounds for array of dimension 2",
     "output_type": "error",
     "traceback": [
      "\u001b[0;31m---------------------------------------------------------------------------\u001b[0m",
      "\u001b[0;31mAxisError\u001b[0m                                 Traceback (most recent call last)",
      "Cell \u001b[0;32mIn[113], line 1\u001b[0m\n\u001b[0;32m----> 1\u001b[0m \u001b[43marr\u001b[49m\u001b[38;5;241;43m.\u001b[39;49m\u001b[43mswapaxes\u001b[49m\u001b[43m(\u001b[49m\u001b[38;5;241;43m2\u001b[39;49m\u001b[43m,\u001b[49m\u001b[43m \u001b[49m\u001b[38;5;241;43m3\u001b[39;49m\u001b[43m)\u001b[49m\n",
      "\u001b[0;31mAxisError\u001b[0m: axis1: axis 2 is out of bounds for array of dimension 2"
     ]
    }
   ],
   "source": [
    "arr.swapaxes(2, 3)"
   ]
  },
  {
   "cell_type": "markdown",
   "id": "57796504-f03f-4073-9b63-b7892667f3ef",
   "metadata": {},
   "source": [
    "这是因为 swapaxes 函数期望的两个轴索引超出了数组的维度。\n",
    "在二维数组中，我们只能交换行（轴 0）和列（轴 1）。\n",
    "如果需要处理更高维度的数组，可以使用 reshape 或者 transpose 函数来实现类似的操作。"
   ]
  },
  {
   "cell_type": "markdown",
   "id": "1e9e1099-4130-47b6-81fb-b39de7639940",
   "metadata": {},
   "source": [
    "swapaxes也是原数据的视图，不进行复制"
   ]
  },
  {
   "cell_type": "code",
   "execution_count": null,
   "id": "0d84f777-f7d7-424b-951c-6a4cbe3adb29",
   "metadata": {},
   "outputs": [],
   "source": [
    "#伪随机数\n"
   ]
  }
 ],
 "metadata": {
  "kernelspec": {
   "display_name": "Python 3 (ipykernel)",
   "language": "python",
   "name": "python3"
  },
  "language_info": {
   "codemirror_mode": {
    "name": "ipython",
    "version": 3
   },
   "file_extension": ".py",
   "mimetype": "text/x-python",
   "name": "python",
   "nbconvert_exporter": "python",
   "pygments_lexer": "ipython3",
   "version": "3.11.7"
  }
 },
 "nbformat": 4,
 "nbformat_minor": 5
}
