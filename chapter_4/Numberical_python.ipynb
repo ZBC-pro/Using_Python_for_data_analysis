{
 "cells": [
  {
   "cell_type": "code",
   "execution_count": 6,
   "id": "251e6e6f-b398-4b9a-832b-62797fb59b14",
   "metadata": {},
   "outputs": [
    {
     "name": "stdout",
     "output_type": "stream",
     "text": [
      "780 μs ± 11.6 μs per loop (mean ± std. dev. of 7 runs, 1,000 loops each)\n"
     ]
    }
   ],
   "source": [
    "import numpy as np\n",
    "\n",
    "my_arr = np.arange(1_000_000)\n",
    "my_list = list(range(1_000_000))\n",
    "\n",
    "%timeit my_arr2 = my_arr * 2"
   ]
  },
  {
   "cell_type": "code",
   "execution_count": 5,
   "id": "ca57d6ab-f554-4cbe-9f6b-7fcbcfa97708",
   "metadata": {},
   "outputs": [
    {
     "name": "stdout",
     "output_type": "stream",
     "text": [
      "21.6 ms ± 79 μs per loop (mean ± std. dev. of 7 runs, 10 loops each)\n"
     ]
    }
   ],
   "source": [
    "%timeit my_list2 = [x * 2 for x in my_list]"
   ]
  },
  {
   "cell_type": "code",
   "execution_count": 7,
   "id": "6a870ff2-9439-4887-b6b7-bc541cbe5101",
   "metadata": {},
   "outputs": [
    {
     "data": {
      "text/plain": [
       "array([[ 1.5, -0.1,  3. ],\n",
       "       [ 0. , -3. ,  6.5]])"
      ]
     },
     "execution_count": 7,
     "metadata": {},
     "output_type": "execute_result"
    }
   ],
   "source": [
    "#numPy中的ndarray：多位数组对象\n",
    "data = np.array([[1.5, -0.1, 3], [0, -3, 6.5]])\n",
    "data"
   ]
  },
  {
   "cell_type": "code",
   "execution_count": 8,
   "id": "be53e123-8d41-47aa-b4d3-eb20c1827dcc",
   "metadata": {},
   "outputs": [
    {
     "data": {
      "text/plain": [
       "array([[ 15.,  -1.,  30.],\n",
       "       [  0., -30.,  65.]])"
      ]
     },
     "execution_count": 8,
     "metadata": {},
     "output_type": "execute_result"
    }
   ],
   "source": [
    "#二维数据运算\n",
    "data * 10"
   ]
  },
  {
   "cell_type": "code",
   "execution_count": 9,
   "id": "398529dc-6beb-41d5-b6b6-0abcebbd8ffe",
   "metadata": {},
   "outputs": [
    {
     "data": {
      "text/plain": [
       "array([[ 3. , -0.2,  6. ],\n",
       "       [ 0. , -6. , 13. ]])"
      ]
     },
     "execution_count": 9,
     "metadata": {},
     "output_type": "execute_result"
    }
   ],
   "source": [
    "data + data"
   ]
  },
  {
   "cell_type": "code",
   "execution_count": 10,
   "id": "b27d2cbd-e3b7-4830-8073-2649e7b12e8c",
   "metadata": {},
   "outputs": [
    {
     "data": {
      "text/plain": [
       "(2, 3)"
      ]
     },
     "execution_count": 10,
     "metadata": {},
     "output_type": "execute_result"
    }
   ],
   "source": [
    "#ndarray同构数据多维容器，同构数据中的元素必须是相同类型。\n",
    "#每个数组都有一个shape（用于表示各个维度大小的元组）和一个dtype（数组的数据模型）：\n",
    "data.shape"
   ]
  },
  {
   "cell_type": "code",
   "execution_count": 11,
   "id": "6ec9116c-e341-41e0-ae65-27264516fb18",
   "metadata": {},
   "outputs": [
    {
     "data": {
      "text/plain": [
       "dtype('float64')"
      ]
     },
     "execution_count": 11,
     "metadata": {},
     "output_type": "execute_result"
    }
   ],
   "source": [
    "data.dtype"
   ]
  },
  {
   "cell_type": "code",
   "execution_count": 12,
   "id": "39077198-8f74-4716-908d-b6d595a8d31f",
   "metadata": {},
   "outputs": [
    {
     "data": {
      "text/plain": [
       "array([6. , 7.5, 8. , 0. , 1. ])"
      ]
     },
     "execution_count": 12,
     "metadata": {},
     "output_type": "execute_result"
    }
   ],
   "source": [
    "data1 = [6, 7.5, 8, 0, 1]\n",
    "arr1 = np.array(data1)\n",
    "arr1"
   ]
  },
  {
   "cell_type": "code",
   "execution_count": 13,
   "id": "613d145d-e737-4f9a-a4d6-58d82568742f",
   "metadata": {},
   "outputs": [
    {
     "data": {
      "text/plain": [
       "array([[1, 2, 3, 4],\n",
       "       [5, 6, 7, 8]])"
      ]
     },
     "execution_count": 13,
     "metadata": {},
     "output_type": "execute_result"
    }
   ],
   "source": [
    "#嵌套序列  由一组等长列表组成的列表会被转化为多维数组\n",
    "data2 = [[1, 2, 3, 4], [5, 6, 7, 8]]\n",
    "arr2 = np.array(data2)\n",
    "arr2"
   ]
  },
  {
   "cell_type": "markdown",
   "id": "57ef3c95-e94e-4995-8489-4d1cb896977d",
   "metadata": {},
   "source": [
    "因为data2是列表的列表，所以numpy数组有arr2有两个维度，它的形状取决于数据。\n",
    "可以用ndim和shape来确认数组的维度和形状"
   ]
  },
  {
   "cell_type": "code",
   "execution_count": 15,
   "id": "d7547535-5a9c-44d4-bf6b-583f27859bd0",
   "metadata": {},
   "outputs": [
    {
     "data": {
      "text/plain": [
       "2"
      ]
     },
     "execution_count": 15,
     "metadata": {},
     "output_type": "execute_result"
    }
   ],
   "source": [
    "#维度\n",
    "arr2.ndim"
   ]
  },
  {
   "cell_type": "code",
   "execution_count": 16,
   "id": "455312ae-942f-4b28-9b76-d7668ebe7422",
   "metadata": {},
   "outputs": [
    {
     "data": {
      "text/plain": [
       "(2, 4)"
      ]
     },
     "execution_count": 16,
     "metadata": {},
     "output_type": "execute_result"
    }
   ],
   "source": [
    "#维度中的个数\n",
    "arr2.shape"
   ]
  },
  {
   "cell_type": "code",
   "execution_count": 17,
   "id": "4fb3a829-d153-4e3a-8df9-e0bcc991d550",
   "metadata": {},
   "outputs": [
    {
     "data": {
      "text/plain": [
       "dtype('int64')"
      ]
     },
     "execution_count": 17,
     "metadata": {},
     "output_type": "execute_result"
    }
   ],
   "source": [
    "arr2.dtype"
   ]
  },
  {
   "cell_type": "markdown",
   "id": "e4a85c85-8615-430a-9d28-e52ebf940635",
   "metadata": {},
   "source": [
    "除了numpy.array,还有其他一些函数可以创建数组。\n",
    "比如numpy.zeros和numpy.ones创建指定长度或形状的全0和全1数组。 \n",
    "numpy.empty可以创建一个没有任何元素的多维数组，只需传入一个表示形状的元组即可"
   ]
  },
  {
   "cell_type": "code",
   "execution_count": 2,
   "id": "1a84fe91-9495-47c8-9efb-852c9b359611",
   "metadata": {},
   "outputs": [
    {
     "data": {
      "text/plain": [
       "array([0., 0., 0., 0., 0., 0., 0., 0., 0., 0.])"
      ]
     },
     "execution_count": 2,
     "metadata": {},
     "output_type": "execute_result"
    }
   ],
   "source": [
    "import numpy as np\n",
    "\n",
    "np.zeros(10)"
   ]
  },
  {
   "cell_type": "code",
   "execution_count": 3,
   "id": "7dd607cc-64da-49f2-936f-066059bc4190",
   "metadata": {},
   "outputs": [
    {
     "data": {
      "text/plain": [
       "array([[0., 0., 0., 0., 0., 0.],\n",
       "       [0., 0., 0., 0., 0., 0.],\n",
       "       [0., 0., 0., 0., 0., 0.]])"
      ]
     },
     "execution_count": 3,
     "metadata": {},
     "output_type": "execute_result"
    }
   ],
   "source": [
    "np.zeros((3, 6))  #三行六列"
   ]
  },
  {
   "cell_type": "code",
   "execution_count": 4,
   "id": "e3af03d2-7ddf-44a3-910f-f6a74dd045b9",
   "metadata": {},
   "outputs": [
    {
     "data": {
      "text/plain": [
       "array([[[0., 0.],\n",
       "        [0., 0.],\n",
       "        [0., 0.]],\n",
       "\n",
       "       [[0., 0.],\n",
       "        [0., 0.],\n",
       "        [0., 0.]]])"
      ]
     },
     "execution_count": 4,
     "metadata": {},
     "output_type": "execute_result"
    }
   ],
   "source": [
    "np.empty((2, 3, 2))  #两个三行两列的数组，不建议用empty，因为0可能是垃圾值"
   ]
  },
  {
   "cell_type": "code",
   "execution_count": 5,
   "id": "71448eb5-b2b8-4309-a46d-fa9ee3beebb7",
   "metadata": {},
   "outputs": [
    {
     "data": {
      "text/plain": [
       "array([ 0,  1,  2,  3,  4,  5,  6,  7,  8,  9, 10, 11, 12, 13, 14])"
      ]
     },
     "execution_count": 5,
     "metadata": {},
     "output_type": "execute_result"
    }
   ],
   "source": [
    "#numpy.arange是py内置的range函数的数组版本\n",
    "np.arange(15)"
   ]
  },
  {
   "cell_type": "markdown",
   "id": "dbd1cca0-a175-462b-be6c-116ccaaa8488",
   "metadata": {},
   "source": [
    "Numpy一般默认是float64\n",
    "Numpy数组创建函数：P97\n",
    "\n",
    "![jupyter](./4.1.png)\n",
    "\n",
    "![jupyter](./4.2.png)"
   ]
  },
  {
   "cell_type": "markdown",
   "id": "49f8fefa-9a1c-491d-9f1d-3f8b855b6cd6",
   "metadata": {},
   "source": [
    "code插入\n",
    "图片<img src=\"/Users/dususu/Desktop/srcphoto.png\", width=320, heigth=240>"
   ]
  },
  {
   "cell_type": "code",
   "execution_count": 7,
   "id": "94dc0936-26d8-471a-a742-230f48e52d1e",
   "metadata": {},
   "outputs": [
    {
     "data": {
      "text/plain": [
       "dtype('float64')"
      ]
     },
     "execution_count": 7,
     "metadata": {},
     "output_type": "execute_result"
    }
   ],
   "source": [
    "#ndarray的数据类型\n",
    "arr1 = np.array([1, 2, 3], dtype=np.float64)\n",
    "arr2 = np.array([1, 2, 3], dtype=np.int32)\n",
    "arr1.dtype"
   ]
  },
  {
   "cell_type": "code",
   "execution_count": 8,
   "id": "c8f25248-dc15-4bfe-945a-2a2b66926019",
   "metadata": {},
   "outputs": [
    {
     "data": {
      "text/plain": [
       "dtype('int32')"
      ]
     },
     "execution_count": 8,
     "metadata": {},
     "output_type": "execute_result"
    }
   ],
   "source": [
    "arr2.dtype"
   ]
  },
  {
   "cell_type": "markdown",
   "id": "c576f2d2-35c2-406f-8ce0-de8049d53e3d",
   "metadata": {},
   "source": [
    "数据类型是Numpy与其他系统灵活交互数据的来源。float占用8字节（64位），因此在Numpy中就是float64\n",
    "\n",
    "Numpy的数据类型\n",
    "\n",
    "![jupyter](./4.3.png)\n",
    "\n",
    "int8：有符号型， 无符号型uint8,只能表示0～255"
   ]
  },
  {
   "cell_type": "code",
   "execution_count": 9,
   "id": "d1d18cfe-6f23-458f-a8b9-a5980b5e6d07",
   "metadata": {},
   "outputs": [
    {
     "data": {
      "text/plain": [
       "dtype('int64')"
      ]
     },
     "execution_count": 9,
     "metadata": {},
     "output_type": "execute_result"
    }
   ],
   "source": [
    "#通过ndarray的astype方法可以将数组从一种数据类型转换或投射成另一种数据类型\n",
    "arr = np.array([1, 2, 3, 4, 5])\n",
    "arr.dtype"
   ]
  },
  {
   "cell_type": "code",
   "execution_count": 10,
   "id": "8c69aac0-e77a-4710-a182-e55f55146e5e",
   "metadata": {},
   "outputs": [
    {
     "data": {
      "text/plain": [
       "array([1., 2., 3., 4., 5.])"
      ]
     },
     "execution_count": 10,
     "metadata": {},
     "output_type": "execute_result"
    }
   ],
   "source": [
    "float_arr = arr.astype(np.float64)\n",
    "float_arr"
   ]
  },
  {
   "cell_type": "code",
   "execution_count": 11,
   "id": "a5310b7b-77f5-4efb-948d-9faf77d1cae4",
   "metadata": {},
   "outputs": [
    {
     "data": {
      "text/plain": [
       "dtype('float64')"
      ]
     },
     "execution_count": 11,
     "metadata": {},
     "output_type": "execute_result"
    }
   ],
   "source": [
    "float_arr.dtype"
   ]
  },
  {
   "cell_type": "code",
   "execution_count": 12,
   "id": "b26b09d5-2850-4b5c-b7cd-a01d9791faa4",
   "metadata": {},
   "outputs": [
    {
     "data": {
      "text/plain": [
       "array([ 3.7, -1.2, -2.6,  0.5, 12.9, 10.1])"
      ]
     },
     "execution_count": 12,
     "metadata": {},
     "output_type": "execute_result"
    }
   ],
   "source": [
    "#将浮点转换为整数则小数部分会被截断,不会舍入\n",
    "arr = np.array([3.7, -1.2, -2.6, 0.5, 12.9, 10.1])\n",
    "arr"
   ]
  },
  {
   "cell_type": "code",
   "execution_count": 14,
   "id": "b5c4c21e-4588-4488-995c-d523cc4c5838",
   "metadata": {},
   "outputs": [
    {
     "data": {
      "text/plain": [
       "array([ 3, -1, -2,  0, 12, 10], dtype=int32)"
      ]
     },
     "execution_count": 14,
     "metadata": {},
     "output_type": "execute_result"
    }
   ],
   "source": [
    "arr.astype(np.int32)"
   ]
  },
  {
   "cell_type": "code",
   "execution_count": 16,
   "id": "55e8068c-293c-4405-bcc2-31c7ddfb3f2c",
   "metadata": {},
   "outputs": [
    {
     "data": {
      "text/plain": [
       "array([ 1.25, -9.6 , 42.  ])"
      ]
     },
     "execution_count": 16,
     "metadata": {},
     "output_type": "execute_result"
    }
   ],
   "source": [
    "#如果某个字符串数组表示的全是数字，也可以用astype将其转化为数值形式\n",
    "numeric_strings = np.array([\"1.25\", \"-9.6\", \"42\"], dtype=np.string_)\n",
    "numeric_strings.astype(float)\n",
    "#float 和 np.float64 作用相同，Numpy会将py相同类型映射到等价的dtype上"
   ]
  },
  {
   "cell_type": "markdown",
   "id": "bbacbf5a-e4cb-44ee-9965-83e87dcafacb",
   "metadata": {},
   "source": [
    "使用numpy.string_类型时，需要注意的是：因为Numpy的字符串大多数都是大小固定的，截断时不会警告，pandas会给出更好的处理方法，转换过程出错的情况下，比如字符串无法转为float，会抛出valueError"
   ]
  },
  {
   "cell_type": "code",
   "execution_count": 2,
   "id": "1bf86f5d-b49a-46d7-8e6f-75bc3a0349e3",
   "metadata": {},
   "outputs": [
    {
     "data": {
      "text/plain": [
       "array([0., 1., 2., 3., 4., 5., 6., 7., 8., 9.])"
      ]
     },
     "execution_count": 2,
     "metadata": {},
     "output_type": "execute_result"
    }
   ],
   "source": [
    "#可以用另一个数组的dtype属性\n",
    "import numpy as np\n",
    "\n",
    "int_array = np.arange(10)\n",
    "calibers = np.array([.22, .270, .357, .300, .44, .50], dtype=np.float64)\n",
    "int_array.astype(calibers.dtype)"
   ]
  },
  {
   "cell_type": "code",
   "execution_count": null,
   "id": "2bb48da5-b52f-4971-97ac-af1e2d0fe6a3",
   "metadata": {},
   "outputs": [],
   "source": [
    "#更简洁的代码表示dtype\n",
    "zeros_uint32 = np.zeros(8, dtype=uint32)"
   ]
  }
 ],
 "metadata": {
  "kernelspec": {
   "display_name": "Python 3 (ipykernel)",
   "language": "python",
   "name": "python3"
  },
  "language_info": {
   "codemirror_mode": {
    "name": "ipython",
    "version": 3
   },
   "file_extension": ".py",
   "mimetype": "text/x-python",
   "name": "python",
   "nbconvert_exporter": "python",
   "pygments_lexer": "ipython3",
   "version": "3.11.7"
  }
 },
 "nbformat": 4,
 "nbformat_minor": 5
}
