{
 "cells": [
  {
   "cell_type": "code",
   "execution_count": null,
   "id": "99e4f6e5-ee0e-4201-9fa5-c876380187a5",
   "metadata": {},
   "outputs": [],
   "source": []
  }
 ],
 "metadata": {
  "kernelspec": {
   "display_name": "",
   "name": ""
  },
  "language_info": {
   "name": ""
  }
 },
 "nbformat": 4,
 "nbformat_minor": 5
}
